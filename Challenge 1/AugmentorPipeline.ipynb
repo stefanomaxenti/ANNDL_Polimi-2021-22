{
 "cells": [
  {
   "cell_type": "markdown",
   "id": "a0f7013f-a0a7-4b42-a8c0-d182864c6138",
   "metadata": {},
   "source": [
    "This script does offline augmentation using our specific implementation of Augmentor.\n",
    "Unfortunately, we forget to set the SEED for the augmentation, therefore the result is not guaranteed to be the same as the dataset we upload.\n",
    "In any case, we both add the random background and perform simple operations (zoom, flip, etc)."
   ]
  },
  {
   "cell_type": "code",
   "execution_count": 8,
   "id": "f14278e1-a854-4653-b0ce-64062d91bb7d",
   "metadata": {},
   "outputs": [
    {
     "name": "stdout",
     "output_type": "stream",
     "text": [
      "Apple\n",
      "Blueberry\n",
      "rm: .DS_Store: No such file or directory\n",
      "Strawberry\n",
      "rm: .DS_Store: No such file or directory\n",
      "Soybean\n",
      "rm: .DS_Store: No such file or directory\n",
      "Squash\n",
      "rm: .DS_Store: No such file or directory\n",
      "Potato\n",
      "rm: .DS_Store: No such file or directory\n",
      "Raspberry\n",
      "rm: .DS_Store: No such file or directory\n",
      "Cherry\n",
      "rm: .DS_Store: No such file or directory\n",
      "Corn\n",
      "rm: .DS_Store: No such file or directory\n",
      "Grape\n",
      "rm: .DS_Store: No such file or directory\n",
      "Pepper\n",
      "rm: .DS_Store: No such file or directory\n",
      "Tomato\n",
      "rm: .DS_Store: No such file or directory\n",
      "Orange\n",
      "rm: .DS_Store: No such file or directory\n",
      "Peach\n",
      "rm: .DS_Store: No such file or directory\n",
      "rm: training/.DS_Store: No such file or directory\n"
     ]
    }
   ],
   "source": [
    "import Augmentor\n",
    "from Augmentor import Operations\n",
    "import os\n",
    "path = \"training/\"\n",
    "\n",
    "# this function removes junk file created by OSX in each folder\n",
    "for folder in os.listdir(path):\n",
    "    print(folder)\n",
    "    !rm .DS_Store\n",
    "!rm \"training/.DS_Store\""
   ]
  },
  {
   "cell_type": "code",
   "execution_count": 9,
   "id": "10dc7a96-64c8-4a30-aca3-283159de4e8a",
   "metadata": {},
   "outputs": [],
   "source": [
    "from Augmentor.Operations import Operation\n",
    "from PIL import Image\n",
    "from random import randint \n",
    "import numpy as np\n",
    "\n",
    "class Background_casual(Operation):\n",
    "    # Here you can accept as many custom parameters as required:\n",
    "    def __init__(self, probability):\n",
    "        # Call the superclass's constructor (meaning you must\n",
    "        # supply a probability value):\n",
    "        Operation.__init__(self, probability)\n",
    "        # Set your custom operation's member variables here as required:\n",
    "\n",
    "    # Your class must implement the perform_operation method:\n",
    "    def perform_operation(self, images):\n",
    "        augmented_images = []\n",
    "        for image in images:\n",
    "            im = image.convert('RGBA')\n",
    "            data = np.array(im)\n",
    "            # just use the rgb values for comparison\n",
    "            rgb = data[:,:,:3]\n",
    "            color = [0,0,0]   # Pure black\n",
    "            color2 = [40,40,40] # Darker values next to edges\n",
    "            mask = np.all((rgb >= color) & (rgb <= color2), axis = -1)            \n",
    "            mean = randint(0,255)\n",
    "            data[mask] = np.random.uniform(mean-30,mean+30, data[mask].shape)\n",
    "            new_im = Image.fromarray(data)\n",
    "            new_im = new_im.convert('RGB')\n",
    "            augmented_images.append(new_im)\n",
    "        return augmented_images\n",
    "        # Return the image so that it can further processed in the pipeline:"
   ]
  },
  {
   "cell_type": "code",
   "execution_count": 10,
   "id": "fec3dd3c-38dc-4f5d-80ef-62f8f423eb3b",
   "metadata": {},
   "outputs": [
    {
     "name": "stdout",
     "output_type": "stream",
     "text": [
      "Apple\n",
      "988\n",
      "Initialised with 988 image(s) found.\n",
      "Output directory set to training/Apple/.."
     ]
    },
    {
     "name": "stderr",
     "output_type": "stream",
     "text": [
      "Processing <PIL.Image.Image image mode=RGB size=256x256 at 0x11175BA60>: 100%|███████████| 500/500 [00:02<00:00, 210.56 Samples/s]\n"
     ]
    },
    {
     "name": "stdout",
     "output_type": "stream",
     "text": [
      "Blueberry\n",
      "467\n",
      "Initialised with 467 image(s) found.\n",
      "Output directory set to training/Blueberry/.."
     ]
    },
    {
     "name": "stderr",
     "output_type": "stream",
     "text": [
      "Processing <PIL.Image.Image image mode=RGB size=256x256 at 0x111889D30>: 100%|███████████| 500/500 [00:02<00:00, 201.62 Samples/s]\n"
     ]
    },
    {
     "name": "stdout",
     "output_type": "stream",
     "text": [
      "Strawberry\n",
      "673\n",
      "Initialised with 673 image(s) found.\n",
      "Output directory set to training/Strawberry/.."
     ]
    },
    {
     "name": "stderr",
     "output_type": "stream",
     "text": [
      "Processing <PIL.Image.Image image mode=RGB size=256x256 at 0x11173A640>: 100%|███████████| 500/500 [00:02<00:00, 208.04 Samples/s]\n"
     ]
    },
    {
     "name": "stdout",
     "output_type": "stream",
     "text": [
      "Soybean\n",
      "1616\n",
      "Initialised with 1616 image(s) found.\n",
      "Output directory set to training/Soybean/.."
     ]
    },
    {
     "name": "stderr",
     "output_type": "stream",
     "text": [
      "Processing <PIL.Image.Image image mode=RGB size=256x256 at 0x1118E1940>: 100%|███████████| 500/500 [00:02<00:00, 209.92 Samples/s]\n"
     ]
    },
    {
     "name": "stdout",
     "output_type": "stream",
     "text": [
      "Squash\n",
      "574\n",
      "Initialised with 574 image(s) found.\n",
      "Output directory set to training/Squash/.."
     ]
    },
    {
     "name": "stderr",
     "output_type": "stream",
     "text": [
      "Processing <PIL.Image.Image image mode=RGB size=256x256 at 0x1117F7D30>: 100%|███████████| 500/500 [00:02<00:00, 198.82 Samples/s]\n"
     ]
    },
    {
     "name": "stdout",
     "output_type": "stream",
     "text": [
      "Potato\n",
      "716\n",
      "Initialised with 716 image(s) found.\n",
      "Output directory set to training/Potato/.."
     ]
    },
    {
     "name": "stderr",
     "output_type": "stream",
     "text": [
      "Processing <PIL.Image.Image image mode=RGB size=256x256 at 0x1118EA9A0>: 100%|███████████| 500/500 [00:02<00:00, 213.53 Samples/s]\n"
     ]
    },
    {
     "name": "stdout",
     "output_type": "stream",
     "text": [
      "Raspberry\n",
      "264\n",
      "Initialised with 264 image(s) found.\n",
      "Output directory set to training/Raspberry/.."
     ]
    },
    {
     "name": "stderr",
     "output_type": "stream",
     "text": [
      "Processing <PIL.Image.Image image mode=RGB size=256x256 at 0x1117328B0>: 100%|███████████| 500/500 [00:02<00:00, 215.24 Samples/s]\n"
     ]
    },
    {
     "name": "stdout",
     "output_type": "stream",
     "text": [
      "Cherry\n",
      "583\n",
      "Initialised with 583 image(s) found.\n",
      "Output directory set to training/Cherry/.."
     ]
    },
    {
     "name": "stderr",
     "output_type": "stream",
     "text": [
      "Processing <PIL.Image.Image image mode=RGB size=256x256 at 0x111828B80>: 100%|███████████| 500/500 [00:02<00:00, 224.63 Samples/s]\n"
     ]
    },
    {
     "name": "stdout",
     "output_type": "stream",
     "text": [
      "Corn\n",
      "1206\n",
      "Initialised with 1206 image(s) found.\n",
      "Output directory set to training/Corn/.."
     ]
    },
    {
     "name": "stderr",
     "output_type": "stream",
     "text": [
      "Processing <PIL.Image.Image image mode=RGB size=256x256 at 0x111898250>: 100%|███████████| 500/500 [00:02<00:00, 238.08 Samples/s]\n"
     ]
    },
    {
     "name": "stdout",
     "output_type": "stream",
     "text": [
      "Grape\n",
      "1458\n",
      "Initialised with 1458 image(s) found.\n",
      "Output directory set to training/Grape/.."
     ]
    },
    {
     "name": "stderr",
     "output_type": "stream",
     "text": [
      "Processing <PIL.Image.Image image mode=RGB size=256x256 at 0x1117C64F0>: 100%|███████████| 500/500 [00:02<00:00, 183.01 Samples/s]\n"
     ]
    },
    {
     "name": "stdout",
     "output_type": "stream",
     "text": [
      "Pepper\n",
      "765\n",
      "Initialised with 765 image(s) found.\n",
      "Output directory set to training/Pepper/.."
     ]
    },
    {
     "name": "stderr",
     "output_type": "stream",
     "text": [
      "Processing <PIL.Image.Image image mode=RGB size=256x256 at 0x11175B760>: 100%|███████████| 500/500 [00:02<00:00, 192.26 Samples/s]\n"
     ]
    },
    {
     "name": "stdout",
     "output_type": "stream",
     "text": [
      "Tomato\n",
      "5693\n",
      "Initialised with 5693 image(s) found.\n",
      "Output directory set to training/Tomato/.."
     ]
    },
    {
     "name": "stderr",
     "output_type": "stream",
     "text": [
      "Processing <PIL.Image.Image image mode=RGB size=256x256 at 0x1115E1580>: 100%|███████████| 500/500 [00:02<00:00, 192.03 Samples/s]\n"
     ]
    },
    {
     "name": "stdout",
     "output_type": "stream",
     "text": [
      "Orange\n",
      "1748\n",
      "Initialised with 1748 image(s) found.\n",
      "Output directory set to training/Orange/.."
     ]
    },
    {
     "name": "stderr",
     "output_type": "stream",
     "text": [
      "Processing <PIL.Image.Image image mode=RGB size=256x256 at 0x1117F2C10>: 100%|███████████| 500/500 [00:02<00:00, 196.44 Samples/s]\n"
     ]
    },
    {
     "name": "stdout",
     "output_type": "stream",
     "text": [
      "Peach\n",
      "977\n",
      "Initialised with 977 image(s) found.\n",
      "Output directory set to training/Peach/.."
     ]
    },
    {
     "name": "stderr",
     "output_type": "stream",
     "text": [
      "Processing <PIL.Image.Image image mode=RGB size=256x256 at 0x10C38DFD0>: 100%|███████████| 500/500 [00:02<00:00, 189.26 Samples/s]\n"
     ]
    }
   ],
   "source": [
    "for folder in os.listdir(path):\n",
    "    print(folder)\n",
    "    list = os.listdir(path+\"/\"+folder) # dir is your directory path\n",
    "    number_files = len(list)\n",
    "    print (number_files)\n",
    "    \n",
    "    # we save images in the same folder as the original ones. Augmented images have a different name, referring also to the image they come from\n",
    "    p = Augmentor.Pipeline(path+folder, output_directory=\".\")\n",
    "    # our custom function is added to the pipeline\n",
    "    background_casual = Background_casual(probability = 0.5)\n",
    "    p.add_operation(background_casual)\n",
    "        \n",
    "    p.rotate(probability=0.8, max_left_rotation=25, max_right_rotation=25)\n",
    "    p.zoom(probability=0.4, min_factor=1.1, max_factor=2.0)\n",
    "    p.flip_random(probability=0.8)\n",
    "    p.sample(500)"
   ]
  },
  {
   "cell_type": "code",
   "execution_count": 11,
   "id": "8dcafbce-05fd-46d8-9f1a-c73d0846cb66",
   "metadata": {},
   "outputs": [
    {
     "name": "stderr",
     "output_type": "stream",
     "text": [
      "Copying files: 24728 files [00:19, 1261.84 files/s]\n"
     ]
    }
   ],
   "source": [
    "import splitfolders\n",
    "splitfolders.ratio(path, output=\"DATASET_CUSTOM_MODEL\", seed=1234, ratio=(.75, 0.25)) # we perform a 75% - 25% to get train and validation"
   ]
  }
 ],
 "metadata": {
  "kernelspec": {
   "display_name": "Python 3 (ipykernel)",
   "language": "python",
   "name": "python3"
  },
  "language_info": {
   "codemirror_mode": {
    "name": "ipython",
    "version": 3
   },
   "file_extension": ".py",
   "mimetype": "text/x-python",
   "name": "python",
   "nbconvert_exporter": "python",
   "pygments_lexer": "ipython3",
   "version": "3.9.8"
  }
 },
 "nbformat": 4,
 "nbformat_minor": 5
}
