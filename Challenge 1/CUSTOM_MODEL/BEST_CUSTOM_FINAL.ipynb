{
 "cells": [
  {
   "cell_type": "markdown",
   "metadata": {
    "gradient": {
     "editing": false,
     "execution_count": 1,
     "id": "26ea7b19-e0b1-4301-9a0f-f343dfcdfe07",
     "kernelId": ""
    },
    "id": "jGKfaEUD3r9F"
   },
   "source": [
    "Custom Model Implementation - Stefano Maxenti - Riccardo Mencucci - \"team_durian\""
   ]
  },
  {
   "cell_type": "code",
   "execution_count": null,
   "metadata": {},
   "outputs": [],
   "source": [
    "from IPython.core.interactiveshell import InteractiveShell\n",
    "InteractiveShell.ast_node_interactivity = \"all\"\n",
    "# The following lines are needed in Gradient Paperspace because these libraries are not installed by default\n",
    "!pip install --upgrade pip\n",
    "!pip install scipy sklearn pandas seaborn pillow visualkeras"
   ]
  },
  {
   "cell_type": "code",
   "execution_count": 4,
   "metadata": {
    "gradient": {
     "editing": false,
     "execution_count": 2,
     "id": "a2efd4ef-c0e4-42e1-b3a0-15f86bba8914",
     "kernelId": ""
    },
    "id": "9PfKgPyr4kLW"
   },
   "outputs": [],
   "source": [
    "import os\n",
    "import tensorflow as tf\n",
    "import numpy as np\n",
    "import visualkeras\n",
    "\n",
    "SEED = 1234\n",
    "tf.random.set_seed(SEED)  \n",
    "\n",
    "# Get current working directory\n",
    "cwd = os.getcwd()"
   ]
  },
  {
   "cell_type": "code",
   "execution_count": 5,
   "metadata": {
    "gradient": {
     "editing": false,
     "execution_count": 3,
     "id": "95e4d2ba-356a-42a8-b534-fe85a77ccee2",
     "kernelId": ""
    },
    "id": "CHpUA9gL4zLw"
   },
   "outputs": [],
   "source": [
    "from tensorflow.keras.preprocessing.image import ImageDataGenerator\n",
    "\n",
    "apply_data_augmentation = True # we apply data augmentation even though the dataset has been already augmented offline by Augmentor\n",
    "\n",
    "# Create training ImageDataGenerator object\n",
    "if apply_data_augmentation:\n",
    "    train_data_gen = ImageDataGenerator(rotation_range=10,\n",
    "                                        width_shift_range=50,\n",
    "                                        height_shift_range=50,\n",
    "                                        zoom_range=0.5,\n",
    "                                        horizontal_flip=True,\n",
    "                                        vertical_flip=True,\n",
    "                                        fill_mode='constant',\n",
    "                                        shear_range=0.5,\n",
    "                                        brightness_range=(0.1,0.4),\n",
    "                                        cval=0,\n",
    "                                        rescale=1./255)\n",
    "else:\n",
    "    train_data_gen = ImageDataGenerator(rescale=1./255)\n",
    "\n",
    "valid_data_gen = ImageDataGenerator(rescale=1./255)"
   ]
  },
  {
   "cell_type": "code",
   "execution_count": 6,
   "metadata": {
    "colab": {
     "base_uri": "https://localhost:8080/"
    },
    "gradient": {
     "editing": false,
     "execution_count": 4,
     "id": "4b6369f6-1312-470e-993f-0d036a681b48",
     "kernelId": ""
    },
    "id": "O_hJ4t7U7oYn",
    "outputId": "1e8c189b-39b8-4a3b-e80b-7d2bd25f2a24"
   },
   "outputs": [
    {
     "name": "stdout",
     "output_type": "stream",
     "text": [
      "Found 18541 images belonging to 14 classes.\n",
      "Found 6187 images belonging to 14 classes.\n"
     ]
    }
   ],
   "source": [
    "# Create generators to read images from dataset directory\n",
    "# -------------------------------------------------------\n",
    "    dataset_dir = ('DATASET_AUG/')\n",
    "\n",
    "# Batch size\n",
    "bs = 64 # it seems a good compromise between speed and frequent updates of the weights\n",
    "\n",
    "# img shape - images are resized to make the network train much faster\n",
    "img_h = 128\n",
    "img_w = 128\n",
    "\n",
    "num_classes=14\n",
    "\n",
    "decide_class_indices = False\n",
    "if decide_class_indices:\n",
    "    classes = ['Apple',       # 0\n",
    "               'Blueberry',           # 1\n",
    "               'Cherry',    # 2\n",
    "               'Corn',              # 3\n",
    "               'Grape',          # 4\n",
    "               'Orange',          # 5\n",
    "               'Peach',   # 6\n",
    "               'Pepper',             # 7\n",
    "               'Potato',            # 8\n",
    "               'Raspberry',         # 9\n",
    "               'Soybean',             # 10\n",
    "               'Squash',       # 11\n",
    "               'Strawberry',  # 12\n",
    "               'Tomato'     # 13\n",
    "                ]        \n",
    "else:\n",
    "    classes=None\n",
    "\n",
    "# Training\n",
    "training_dir = os.path.join(dataset_dir, 'train')\n",
    "train_gen = train_data_gen.flow_from_directory(training_dir,\n",
    "                                               batch_size=bs,\n",
    "                                               classes=classes,\n",
    "                                               class_mode='categorical',\n",
    "                                               shuffle=True,\n",
    "                                               target_size=(img_h,img_w),\n",
    "                                               color_mode='rgb',\n",
    "                                               seed=SEED)  # targets are directly converted into one-hot vectors\n",
    "\n",
    "# Validation\n",
    "validation_dir = os.path.join(dataset_dir, 'val')\n",
    "valid_gen = valid_data_gen.flow_from_directory(validation_dir,\n",
    "                                               batch_size=bs, \n",
    "                                               classes=classes,\n",
    "                                               class_mode='categorical',\n",
    "                                               shuffle=False,\n",
    "                                               target_size=(img_h,img_w),\n",
    "                                               color_mode='rgb',\n",
    "                                               seed=SEED)"
   ]
  },
  {
   "cell_type": "code",
   "execution_count": 4,
   "metadata": {
    "gradient": {
     "editing": false,
     "execution_count": 8,
     "id": "6e557dcd-4e08-40d6-a595-2395ca74db5a",
     "kernelId": ""
    },
    "id": "wMBM48Iq-QH9"
   },
   "outputs": [
    {
     "name": "stderr",
     "output_type": "stream",
     "text": [
      "2021-11-27 10:08:44.797527: I tensorflow/stream_executor/cuda/cuda_gpu_executor.cc:1050] successful NUMA node read from SysFS had negative value (-1), but there must be at least one NUMA node, so returning NUMA node zero\n",
      "2021-11-27 10:08:44.809742: I tensorflow/stream_executor/cuda/cuda_gpu_executor.cc:1050] successful NUMA node read from SysFS had negative value (-1), but there must be at least one NUMA node, so returning NUMA node zero\n",
      "2021-11-27 10:08:44.810399: I tensorflow/stream_executor/cuda/cuda_gpu_executor.cc:1050] successful NUMA node read from SysFS had negative value (-1), but there must be at least one NUMA node, so returning NUMA node zero\n",
      "2021-11-27 10:08:44.812680: I tensorflow/stream_executor/cuda/cuda_gpu_executor.cc:1050] successful NUMA node read from SysFS had negative value (-1), but there must be at least one NUMA node, so returning NUMA node zero\n",
      "2021-11-27 10:08:44.813314: I tensorflow/stream_executor/cuda/cuda_gpu_executor.cc:1050] successful NUMA node read from SysFS had negative value (-1), but there must be at least one NUMA node, so returning NUMA node zero\n",
      "2021-11-27 10:08:44.813869: I tensorflow/stream_executor/cuda/cuda_gpu_executor.cc:1050] successful NUMA node read from SysFS had negative value (-1), but there must be at least one NUMA node, so returning NUMA node zero\n",
      "2021-11-27 10:08:45.638541: I tensorflow/stream_executor/cuda/cuda_gpu_executor.cc:1050] successful NUMA node read from SysFS had negative value (-1), but there must be at least one NUMA node, so returning NUMA node zero\n",
      "2021-11-27 10:08:45.639201: I tensorflow/stream_executor/cuda/cuda_gpu_executor.cc:1050] successful NUMA node read from SysFS had negative value (-1), but there must be at least one NUMA node, so returning NUMA node zero\n",
      "2021-11-27 10:08:45.639741: I tensorflow/stream_executor/cuda/cuda_gpu_executor.cc:1050] successful NUMA node read from SysFS had negative value (-1), but there must be at least one NUMA node, so returning NUMA node zero\n",
      "2021-11-27 10:08:45.640247: I tensorflow/core/common_runtime/gpu/gpu_device.cc:1510] Created device /job:localhost/replica:0/task:0/device:GPU:0 with 6696 MB memory:  -> device: 0, name: Quadro RTX 4000, pci bus id: 0000:00:05.0, compute capability: 7.5\n"
     ]
    }
   ],
   "source": [
    "# Architecture: Features extraction -> Classifier\n",
    "model = None\n",
    "start_f = 16\n",
    "depth = 3\n",
    "\n",
    "model = tf.keras.Sequential()\n",
    "\n",
    "# Features extraction\n",
    "for i in range(depth):\n",
    "\n",
    "    if i == 0:\n",
    "        input_shape = [img_h, img_w, 3]\n",
    "    else:\n",
    "        input_shape=[None]\n",
    "\n",
    "    # Conv block: Conv2D -> Activation -> Pooling\n",
    "    model.add(tf.keras.layers.Conv2D(filters=start_f, \n",
    "                                     kernel_size=(3, 3),\n",
    "                                     strides=(1, 1),\n",
    "                                     padding='same',\n",
    "                                     activation = 'relu', # activation function\n",
    "                                     kernel_initializer = tf.keras.initializers.GlorotUniform(SEED),\n",
    "                                     input_shape=input_shape))\n",
    "    \n",
    "    model.add(tf.keras.layers.Conv2D(filters=start_f, \n",
    "                                     kernel_size=(3, 3),\n",
    "                                     strides=(1, 1),\n",
    "                                     padding='same',\n",
    "                                     activation = 'relu', # activation function\n",
    "                                     kernel_initializer = tf.keras.initializers.GlorotUniform(SEED),\n",
    "                                     input_shape=[None]))\n",
    "    \n",
    "    model.add(tf.keras.layers.MaxPool2D(pool_size=(2, 2)))#, strides=(2,2)))\n",
    "    start_f *= 2\n",
    "    \n",
    "# Classifier\n",
    "model.add(tf.keras.layers.GlobalAveragePooling2D())\n",
    "model.add(tf.keras.layers.Dense(units=768, activation='relu'))\n",
    "model.add(tf.keras.layers.Dropout(0.8, seed=42)) # very high, it should make training more resilient\n",
    "model.add(tf.keras.layers.Dense(units=512, activation='relu'))\n",
    "model.add(tf.keras.layers.Dropout(0.3, seed=42))\n",
    "model.add(tf.keras.layers.Dense(units=128, activation='relu'))\n",
    "model.add(tf.keras.layers.Dropout(0.5, seed=42))\n",
    "model.add(tf.keras.layers.Dense(units=32, activation='relu'))\n",
    "model.add(tf.keras.layers.Dense(units=num_classes, activation='softmax'))"
   ]
  },
  {
   "cell_type": "code",
   "execution_count": 38,
   "metadata": {
    "colab": {
     "base_uri": "https://localhost:8080/"
    },
    "gradient": {
     "editing": false,
     "execution_count": 9,
     "id": "e2fc7f63-a756-46e6-9a44-ba7a0231accb",
     "kernelId": ""
    },
    "id": "861CrLRO-Q6i",
    "outputId": "b21c6c42-481a-4e18-c237-e33978a73e74"
   },
   "outputs": [
    {
     "name": "stdout",
     "output_type": "stream",
     "text": [
      "Model: \"sequential\"\n",
      "_________________________________________________________________\n",
      "Layer (type)                 Output Shape              Param #   \n",
      "=================================================================\n",
      "conv2d (Conv2D)              (None, 128, 128, 16)      448       \n",
      "_________________________________________________________________\n",
      "conv2d_1 (Conv2D)            (None, 128, 128, 16)      2320      \n",
      "_________________________________________________________________\n",
      "max_pooling2d (MaxPooling2D) (None, 64, 64, 16)        0         \n",
      "_________________________________________________________________\n",
      "conv2d_2 (Conv2D)            (None, 64, 64, 32)        4640      \n",
      "_________________________________________________________________\n",
      "conv2d_3 (Conv2D)            (None, 64, 64, 32)        9248      \n",
      "_________________________________________________________________\n",
      "max_pooling2d_1 (MaxPooling2 (None, 32, 32, 32)        0         \n",
      "_________________________________________________________________\n",
      "conv2d_4 (Conv2D)            (None, 32, 32, 64)        18496     \n",
      "_________________________________________________________________\n",
      "conv2d_5 (Conv2D)            (None, 32, 32, 64)        36928     \n",
      "_________________________________________________________________\n",
      "max_pooling2d_2 (MaxPooling2 (None, 16, 16, 64)        0         \n",
      "_________________________________________________________________\n",
      "global_average_pooling2d (Gl (None, 64)                0         \n",
      "_________________________________________________________________\n",
      "dense (Dense)                (None, 768)               49920     \n",
      "_________________________________________________________________\n",
      "dropout (Dropout)            (None, 768)               0         \n",
      "_________________________________________________________________\n",
      "dense_1 (Dense)              (None, 512)               393728    \n",
      "_________________________________________________________________\n",
      "dropout_1 (Dropout)          (None, 512)               0         \n",
      "_________________________________________________________________\n",
      "dense_2 (Dense)              (None, 128)               65664     \n",
      "_________________________________________________________________\n",
      "dropout_2 (Dropout)          (None, 128)               0         \n",
      "_________________________________________________________________\n",
      "dense_3 (Dense)              (None, 32)                4128      \n",
      "_________________________________________________________________\n",
      "dense_4 (Dense)              (None, 14)                462       \n",
      "=================================================================\n",
      "Total params: 585,982\n",
      "Trainable params: 585,982\n",
      "Non-trainable params: 0\n",
      "_________________________________________________________________\n"
     ]
    },
    {
     "data": {
      "image/png": "[encoded data removed]",
      "text/plain": [
       "<PIL.Image.Image image mode=RGBA size=1113x1743 at 0x16AABF3A0>"
      ]
     },
     "execution_count": 38,
     "metadata": {},
     "output_type": "execute_result"
    }
   ],
   "source": [
    "model.summary()\n",
    "visualkeras.layered_view(model, legend=True, spacing=20, scale_xy=10)"
   ]
  },
  {
   "cell_type": "code",
   "execution_count": 5,
   "metadata": {
    "gradient": {
     "editing": false,
     "execution_count": 10,
     "id": "67c7f918-3b38-4a7f-b70d-b1958bb6efd3",
     "kernelId": ""
    },
    "id": "k6fX2MeR-U48"
   },
   "outputs": [],
   "source": [
    "# Optimization params\n",
    "# -------------------\n",
    "\n",
    "# Loss\n",
    "loss = tf.keras.losses.CategoricalCrossentropy()\n",
    "# -------------------\n",
    "\n",
    "\n",
    "# learning rate\n",
    "optimizer = tf.keras.optimizers.Adam()\n",
    "# -------------------\n",
    "\n",
    "# Validation metrics\n",
    "metrics = ['accuracy']\n",
    "# -------------------\n",
    "\n",
    "# Compile Model\n",
    "model.compile(optimizer=optimizer, loss=loss, metrics=metrics)"
   ]
  },
  {
   "cell_type": "code",
   "execution_count": 7,
   "metadata": {
    "gradient": {
     "editing": false,
     "execution_count": 8,
     "id": "b259dc7b-63dc-4847-918f-a1a7700e21cb",
     "kernelId": ""
    },
    "id": "i13w6uNNchPr"
   },
   "outputs": [],
   "source": [
    "import os\n",
    "from datetime import datetime\n",
    "\n",
    "\n",
    "cwd = os.getcwd()\n",
    "\n",
    "exps_dir = os.path.join('classification_experiments')\n",
    "if not os.path.exists(exps_dir):\n",
    "    os.makedirs(exps_dir)\n",
    "\n",
    "#now = datetime.now().strftime('%b%d_%H-%M-%S')\n",
    "\n",
    "model_name = 'FINAL_CUSTOM' # in the output below, we use \"20211127_noadaptive_dataset24\"\n",
    "\n",
    "exp_dir = os.path.join(exps_dir, model_name)# + '_' + str(now))\n",
    "if not os.path.exists(exp_dir):\n",
    "    os.makedirs(exp_dir)\n",
    "    \n",
    "callbacks = []\n",
    "\n",
    "# Model checkpoint\n",
    "# ----------------\n",
    "ckpt_dir = os.path.join(exp_dir, 'ckpts')\n",
    "if not os.path.exists(ckpt_dir):\n",
    "    os.makedirs(ckpt_dir)\n",
    "\n",
    "ckpt_callback = tf.keras.callbacks.ModelCheckpoint(filepath=os.path.join(ckpt_dir, 'cp_best.ckpt'), \n",
    "                                                   save_weights_only=False, save_best_only=True)  # False to save the model directly\n",
    "callbacks.append(ckpt_callback)\n",
    "\n",
    "# Visualize Learning on Tensorboard\n",
    "# ---------------------------------\n",
    "tb_dir = os.path.join(exp_dir, 'tb_logs')\n",
    "if not os.path.exists(tb_dir):\n",
    "    os.makedirs(tb_dir)\n",
    "    \n",
    "# By default shows losses and metrics for both training and validation\n",
    "tb_callback = tf.keras.callbacks.TensorBoard(log_dir=tb_dir,\n",
    "                                             profile_batch=0,\n",
    "                                             histogram_freq=1)  # if 1 shows weights histograms\n",
    "callbacks.append(tb_callback)\n",
    "\n",
    "# Early Stopping\n",
    "# --------------\n",
    "early_stop = True\n",
    "if early_stop:\n",
    "    es_callback = tf.keras.callbacks.EarlyStopping(monitor='accuracy', patience=20)\n",
    "    callbacks.append(es_callback)"
   ]
  },
  {
   "cell_type": "code",
   "execution_count": null,
   "metadata": {
    "colab": {
     "base_uri": "https://localhost:8080/"
    },
    "gradient": {
     "editing": false,
     "execution_count": 10,
     "id": "f4290293-86e9-450c-a543-71b7826d12d9",
     "kernelId": ""
    },
    "id": "5b_KC7_6y0vl",
    "outputId": "edec83da-d2c6-4354-bcb2-1f8a95173617"
   },
   "outputs": [
    {
     "name": "stderr",
     "output_type": "stream",
     "text": [
      "2021-11-27 10:09:07.730230: I tensorflow/compiler/mlir/mlir_graph_optimization_pass.cc:185] None of the MLIR Optimization Passes are enabled (registered 2)\n"
     ]
    },
    {
     "name": "stdout",
     "output_type": "stream",
     "text": [
      "Epoch 1/100\n"
     ]
    },
    {
     "name": "stderr",
     "output_type": "stream",
     "text": [
      "2021-11-27 10:09:09.785970: I tensorflow/stream_executor/cuda/cuda_dnn.cc:381] Loaded cuDNN version 8204\n"
     ]
    },
    {
     "name": "stdout",
     "output_type": "stream",
     "text": [
      "290/290 [==============================] - 234s 794ms/step - loss: 2.4582 - accuracy: 0.2487 - val_loss: 2.3353 - val_accuracy: 0.2504\n"
     ]
    },
    {
     "name": "stderr",
     "output_type": "stream",
     "text": [
      "2021-11-27 10:13:02.255553: W tensorflow/python/util/util.cc:348] Sets are not currently considered sequences, but this may change in the future, so consider avoiding using them.\n"
     ]
    },
    {
     "name": "stdout",
     "output_type": "stream",
     "text": [
      "INFO:tensorflow:Assets written to: classification_experiments/20211127_noadaptive_dataset24/ckpts/cp_best.ckpt/assets\n",
      "Epoch 2/100\n",
      "290/290 [==============================] - 331s 1s/step - loss: 2.3164 - accuracy: 0.2729 - val_loss: 2.3699 - val_accuracy: 0.2454\n",
      "Epoch 3/100\n",
      "290/290 [==============================] - 339s 1s/step - loss: 2.2330 - accuracy: 0.3083 - val_loss: 2.2459 - val_accuracy: 0.3063\n",
      "INFO:tensorflow:Assets written to: classification_experiments/20211127_noadaptive_dataset24/ckpts/cp_best.ckpt/assets\n",
      "Epoch 4/100\n",
      "290/290 [==============================] - 362s 1s/step - loss: 2.1435 - accuracy: 0.3418 - val_loss: 2.0685 - val_accuracy: 0.3483\n",
      "INFO:tensorflow:Assets written to: classification_experiments/20211127_noadaptive_dataset24/ckpts/cp_best.ckpt/assets\n",
      "Epoch 5/100\n",
      "290/290 [==============================] - 365s 1s/step - loss: 2.0086 - accuracy: 0.3799 - val_loss: 2.0988 - val_accuracy: 0.3682\n",
      "Epoch 6/100\n",
      "290/290 [==============================] - 358s 1s/step - loss: 1.9244 - accuracy: 0.3967 - val_loss: 1.9171 - val_accuracy: 0.3942\n",
      "INFO:tensorflow:Assets written to: classification_experiments/20211127_noadaptive_dataset24/ckpts/cp_best.ckpt/assets\n",
      "Epoch 7/100\n",
      "290/290 [==============================] - 400s 1s/step - loss: 1.8682 - accuracy: 0.4094 - val_loss: 1.9216 - val_accuracy: 0.4034\n",
      "Epoch 8/100\n",
      "290/290 [==============================] - 366s 1s/step - loss: 1.7878 - accuracy: 0.4272 - val_loss: 2.0184 - val_accuracy: 0.3971\n",
      "Epoch 9/100\n",
      "290/290 [==============================] - 352s 1s/step - loss: 1.7006 - accuracy: 0.4488 - val_loss: 1.7328 - val_accuracy: 0.4720\n",
      "INFO:tensorflow:Assets written to: classification_experiments/20211127_noadaptive_dataset24/ckpts/cp_best.ckpt/assets\n",
      "Epoch 10/100\n",
      "290/290 [==============================] - 331s 1s/step - loss: 1.6320 - accuracy: 0.4642 - val_loss: 1.5892 - val_accuracy: 0.4920\n",
      "INFO:tensorflow:Assets written to: classification_experiments/20211127_noadaptive_dataset24/ckpts/cp_best.ckpt/assets\n",
      "Epoch 11/100\n",
      "290/290 [==============================] - 345s 1s/step - loss: 1.5521 - accuracy: 0.4927 - val_loss: 1.6011 - val_accuracy: 0.5183\n",
      "Epoch 12/100\n",
      "290/290 [==============================] - 312s 1s/step - loss: 1.4661 - accuracy: 0.5238 - val_loss: 1.3063 - val_accuracy: 0.5854\n",
      "INFO:tensorflow:Assets written to: classification_experiments/20211127_noadaptive_dataset24/ckpts/cp_best.ckpt/assets\n",
      "Epoch 13/100\n",
      "290/290 [==============================] - 288s 996ms/step - loss: 1.3862 - accuracy: 0.5570 - val_loss: 1.1583 - val_accuracy: 0.6315\n",
      "INFO:tensorflow:Assets written to: classification_experiments/20211127_noadaptive_dataset24/ckpts/cp_best.ckpt/assets\n",
      "Epoch 14/100\n",
      "290/290 [==============================] - 337s 1s/step - loss: 1.3022 - accuracy: 0.5855 - val_loss: 1.0865 - val_accuracy: 0.6489\n",
      "INFO:tensorflow:Assets written to: classification_experiments/20211127_noadaptive_dataset24/ckpts/cp_best.ckpt/assets\n",
      "Epoch 15/100\n",
      "290/290 [==============================] - 306s 1s/step - loss: 1.2316 - accuracy: 0.6072 - val_loss: 1.0464 - val_accuracy: 0.6797\n",
      "INFO:tensorflow:Assets written to: classification_experiments/20211127_noadaptive_dataset24/ckpts/cp_best.ckpt/assets\n",
      "Epoch 16/100\n",
      "290/290 [==============================] - 332s 1s/step - loss: 1.1931 - accuracy: 0.6206 - val_loss: 1.3957 - val_accuracy: 0.6072\n",
      "Epoch 17/100\n",
      "290/290 [==============================] - 308s 1s/step - loss: 1.1317 - accuracy: 0.6424 - val_loss: 0.9671 - val_accuracy: 0.7091\n",
      "INFO:tensorflow:Assets written to: classification_experiments/20211127_noadaptive_dataset24/ckpts/cp_best.ckpt/assets\n",
      "Epoch 18/100\n",
      "290/290 [==============================] - 311s 1s/step - loss: 1.0797 - accuracy: 0.6507 - val_loss: 0.9780 - val_accuracy: 0.6978\n",
      "Epoch 19/100\n",
      "290/290 [==============================] - 280s 964ms/step - loss: 1.0738 - accuracy: 0.6611 - val_loss: 1.1290 - val_accuracy: 0.6742\n",
      "Epoch 20/100\n",
      "290/290 [==============================] - 373s 1s/step - loss: 1.0210 - accuracy: 0.6703 - val_loss: 1.0384 - val_accuracy: 0.6944\n",
      "Epoch 21/100\n",
      "290/290 [==============================] - 345s 1s/step - loss: 0.9725 - accuracy: 0.6894 - val_loss: 0.9781 - val_accuracy: 0.7218\n",
      "Epoch 22/100\n",
      "290/290 [==============================] - 267s 921ms/step - loss: 0.9671 - accuracy: 0.6918 - val_loss: 0.8615 - val_accuracy: 0.7498\n",
      "INFO:tensorflow:Assets written to: classification_experiments/20211127_noadaptive_dataset24/ckpts/cp_best.ckpt/assets\n",
      "Epoch 23/100\n",
      "290/290 [==============================] - 331s 1s/step - loss: 0.9340 - accuracy: 0.7050 - val_loss: 0.7700 - val_accuracy: 0.7618\n",
      "INFO:tensorflow:Assets written to: classification_experiments/20211127_noadaptive_dataset24/ckpts/cp_best.ckpt/assets\n",
      "Epoch 24/100\n",
      "290/290 [==============================] - 322s 1s/step - loss: 0.9090 - accuracy: 0.7166 - val_loss: 0.7583 - val_accuracy: 0.7774\n",
      "INFO:tensorflow:Assets written to: classification_experiments/20211127_noadaptive_dataset24/ckpts/cp_best.ckpt/assets\n",
      "Epoch 25/100\n",
      "290/290 [==============================] - 119s 410ms/step - loss: 0.8857 - accuracy: 0.7225 - val_loss: 0.7162 - val_accuracy: 0.7786\n",
      "INFO:tensorflow:Assets written to: classification_experiments/20211127_noadaptive_dataset24/ckpts/cp_best.ckpt/assets\n",
      "Epoch 26/100\n",
      "290/290 [==============================] - 349s 1s/step - loss: 0.8795 - accuracy: 0.7249 - val_loss: 0.8808 - val_accuracy: 0.7395\n",
      "Epoch 27/100\n",
      "290/290 [==============================] - 201s 694ms/step - loss: 0.8344 - accuracy: 0.7420 - val_loss: 0.8229 - val_accuracy: 0.7595\n",
      "Epoch 28/100\n",
      "290/290 [==============================] - 282s 973ms/step - loss: 0.8236 - accuracy: 0.7472 - val_loss: 0.8853 - val_accuracy: 0.7658\n",
      "Epoch 29/100\n",
      "290/290 [==============================] - 364s 1s/step - loss: 0.8126 - accuracy: 0.7499 - val_loss: 0.7560 - val_accuracy: 0.7976\n",
      "Epoch 30/100\n",
      "290/290 [==============================] - 307s 1s/step - loss: 0.8035 - accuracy: 0.7522 - val_loss: 0.8429 - val_accuracy: 0.7742\n",
      "Epoch 31/100\n",
      "290/290 [==============================] - 301s 1s/step - loss: 0.7798 - accuracy: 0.7581 - val_loss: 0.6220 - val_accuracy: 0.8201\n",
      "INFO:tensorflow:Assets written to: classification_experiments/20211127_noadaptive_dataset24/ckpts/cp_best.ckpt/assets\n",
      "Epoch 32/100\n",
      "290/290 [==============================] - 302s 1s/step - loss: 0.7460 - accuracy: 0.7695 - val_loss: 0.6093 - val_accuracy: 0.8314\n",
      "INFO:tensorflow:Assets written to: classification_experiments/20211127_noadaptive_dataset24/ckpts/cp_best.ckpt/assets\n",
      "Epoch 33/100\n",
      "290/290 [==============================] - 304s 1s/step - loss: 0.7216 - accuracy: 0.7767 - val_loss: 0.7357 - val_accuracy: 0.8057\n",
      "Epoch 34/100\n",
      "290/290 [==============================] - 305s 1s/step - loss: 0.7269 - accuracy: 0.7775 - val_loss: 0.6492 - val_accuracy: 0.8187\n",
      "Epoch 35/100\n",
      "290/290 [==============================] - 281s 970ms/step - loss: 0.7143 - accuracy: 0.7824 - val_loss: 0.8236 - val_accuracy: 0.7816\n",
      "Epoch 36/100\n",
      "290/290 [==============================] - 360s 1s/step - loss: 0.6992 - accuracy: 0.7850 - val_loss: 0.4876 - val_accuracy: 0.8519\n",
      "INFO:tensorflow:Assets written to: classification_experiments/20211127_noadaptive_dataset24/ckpts/cp_best.ckpt/assets\n",
      "Epoch 37/100\n",
      "290/290 [==============================] - 98s 338ms/step - loss: 0.6605 - accuracy: 0.7959 - val_loss: 0.6536 - val_accuracy: 0.8245\n",
      "Epoch 38/100\n",
      "290/290 [==============================] - 360s 1s/step - loss: 0.6621 - accuracy: 0.7962 - val_loss: 0.7532 - val_accuracy: 0.7984\n",
      "Epoch 39/100\n",
      "290/290 [==============================] - 172s 595ms/step - loss: 0.6519 - accuracy: 0.8014 - val_loss: 0.4696 - val_accuracy: 0.8699\n",
      "INFO:tensorflow:Assets written to: classification_experiments/20211127_noadaptive_dataset24/ckpts/cp_best.ckpt/assets\n",
      "Epoch 40/100\n",
      "290/290 [==============================] - 296s 1s/step - loss: 0.6244 - accuracy: 0.8092 - val_loss: 0.5369 - val_accuracy: 0.8636\n",
      "Epoch 41/100\n",
      "290/290 [==============================] - 111s 381ms/step - loss: 0.6207 - accuracy: 0.8112 - val_loss: 0.4816 - val_accuracy: 0.8679\n",
      "Epoch 42/100\n",
      "290/290 [==============================] - 345s 1s/step - loss: 0.6175 - accuracy: 0.8107 - val_loss: 0.6017 - val_accuracy: 0.8561\n",
      "Epoch 43/100\n",
      "290/290 [==============================] - 86s 295ms/step - loss: 0.6002 - accuracy: 0.8173 - val_loss: 0.3819 - val_accuracy: 0.8891\n",
      "INFO:tensorflow:Assets written to: classification_experiments/20211127_noadaptive_dataset24/ckpts/cp_best.ckpt/assets\n",
      "Epoch 44/100\n",
      "290/290 [==============================] - 330s 1s/step - loss: 0.5918 - accuracy: 0.8210 - val_loss: 0.4855 - val_accuracy: 0.8702\n",
      "Epoch 45/100\n",
      "290/290 [==============================] - 277s 957ms/step - loss: 0.5817 - accuracy: 0.8281 - val_loss: 0.3725 - val_accuracy: 0.8875\n",
      "INFO:tensorflow:Assets written to: classification_experiments/20211127_noadaptive_dataset24/ckpts/cp_best.ckpt/assets\n",
      "Epoch 46/100\n",
      "290/290 [==============================] - 342s 1s/step - loss: 0.5765 - accuracy: 0.8262 - val_loss: 0.5743 - val_accuracy: 0.8618\n",
      "Epoch 47/100\n",
      "290/290 [==============================] - 326s 1s/step - loss: 0.5514 - accuracy: 0.8324 - val_loss: 0.3696 - val_accuracy: 0.8920\n",
      "INFO:tensorflow:Assets written to: classification_experiments/20211127_noadaptive_dataset24/ckpts/cp_best.ckpt/assets\n",
      "Epoch 48/100\n",
      "290/290 [==============================] - 200s 692ms/step - loss: 0.5513 - accuracy: 0.8315 - val_loss: 0.3460 - val_accuracy: 0.8979\n",
      "INFO:tensorflow:Assets written to: classification_experiments/20211127_noadaptive_dataset24/ckpts/cp_best.ckpt/assets\n",
      "Epoch 49/100\n",
      "290/290 [==============================] - 286s 986ms/step - loss: 0.5351 - accuracy: 0.8421 - val_loss: 0.3201 - val_accuracy: 0.9075\n",
      "INFO:tensorflow:Assets written to: classification_experiments/20211127_noadaptive_dataset24/ckpts/cp_best.ckpt/assets\n",
      "Epoch 50/100\n",
      "290/290 [==============================] - 305s 1s/step - loss: 0.5278 - accuracy: 0.8397 - val_loss: 0.3635 - val_accuracy: 0.8959\n",
      "Epoch 51/100\n",
      "290/290 [==============================] - 273s 941ms/step - loss: 0.5269 - accuracy: 0.8457 - val_loss: 0.3664 - val_accuracy: 0.8980\n",
      "Epoch 52/100\n",
      "221/290 [=====================>........] - ETA: 1:11 - loss: 0.5190 - accuracy: 0.8464"
     ]
    }
   ],
   "source": [
    "model.fit(x=train_gen,\n",
    "          initial_epoch=0,\n",
    "          epochs=100,\n",
    "          steps_per_epoch=len(train_gen),\n",
    "          validation_data=valid_gen,\n",
    "          validation_steps=len(valid_gen), \n",
    "          callbacks=callbacks)"
   ]
  },
  {
   "cell_type": "code",
   "execution_count": 9,
   "metadata": {
    "gradient": {
     "editing": false,
     "execution_count": 11,
     "id": "2626d13e-9efb-4b9d-8d9f-00d34a84eecc",
     "kernelId": ""
    },
    "id": "E1WF3lDgchPt"
   },
   "outputs": [
    {
     "name": "stderr",
     "output_type": "stream",
     "text": [
      "2021-11-27 14:50:58.415038: I tensorflow/compiler/mlir/mlir_graph_optimization_pass.cc:185] None of the MLIR Optimization Passes are enabled (registered 2)\n"
     ]
    },
    {
     "name": "stdout",
     "output_type": "stream",
     "text": [
      "Epoch 50/100\n"
     ]
    },
    {
     "name": "stderr",
     "output_type": "stream",
     "text": [
      "2021-11-27 14:51:00.282276: I tensorflow/stream_executor/cuda/cuda_dnn.cc:381] Loaded cuDNN version 8204\n",
      "2021-11-27 14:51:02.787523: I tensorflow/stream_executor/cuda/cuda_blas.cc:1760] TensorFloat-32 will be used for the matrix multiplication. This will only be logged once.\n"
     ]
    },
    {
     "name": "stdout",
     "output_type": "stream",
     "text": [
      "290/290 [==============================] - 267s 904ms/step - loss: 0.5323 - accuracy: 0.8409 - val_loss: 0.3402 - val_accuracy: 0.9071\n"
     ]
    },
    {
     "name": "stderr",
     "output_type": "stream",
     "text": [
      "2021-11-27 14:55:25.637828: W tensorflow/python/util/util.cc:348] Sets are not currently considered sequences, but this may change in the future, so consider avoiding using them.\n"
     ]
    },
    {
     "name": "stdout",
     "output_type": "stream",
     "text": [
      "INFO:tensorflow:Assets written to: classification_experiments/20211127_noadaptive_dataset24/ckpts/cp_best.ckpt/assets\n",
      "Epoch 51/100\n",
      "290/290 [==============================] - 160s 551ms/step - loss: 0.5248 - accuracy: 0.8467 - val_loss: 0.3628 - val_accuracy: 0.9011\n",
      "Epoch 52/100\n",
      "290/290 [==============================] - 136s 471ms/step - loss: 0.5324 - accuracy: 0.8446 - val_loss: 0.4103 - val_accuracy: 0.8867\n",
      "Epoch 53/100\n",
      "290/290 [==============================] - 267s 919ms/step - loss: 0.5176 - accuracy: 0.8463 - val_loss: 0.3539 - val_accuracy: 0.9003\n",
      "Epoch 54/100\n",
      "290/290 [==============================] - 65s 222ms/step - loss: 0.5017 - accuracy: 0.8494 - val_loss: 0.3053 - val_accuracy: 0.9090\n",
      "INFO:tensorflow:Assets written to: classification_experiments/20211127_noadaptive_dataset24/ckpts/cp_best.ckpt/assets\n",
      "Epoch 55/100\n",
      "290/290 [==============================] - 69s 239ms/step - loss: 0.4962 - accuracy: 0.8554 - val_loss: 0.4166 - val_accuracy: 0.8833\n",
      "Epoch 56/100\n",
      "290/290 [==============================] - 252s 871ms/step - loss: 0.5109 - accuracy: 0.8492 - val_loss: 0.2786 - val_accuracy: 0.9176\n",
      "INFO:tensorflow:Assets written to: classification_experiments/20211127_noadaptive_dataset24/ckpts/cp_best.ckpt/assets\n",
      "Epoch 57/100\n",
      "290/290 [==============================] - 166s 572ms/step - loss: 0.4897 - accuracy: 0.8539 - val_loss: 0.2655 - val_accuracy: 0.9232\n",
      "INFO:tensorflow:Assets written to: classification_experiments/20211127_noadaptive_dataset24/ckpts/cp_best.ckpt/assets\n",
      "Epoch 58/100\n",
      "290/290 [==============================] - 65s 223ms/step - loss: 0.4817 - accuracy: 0.8568 - val_loss: 0.3022 - val_accuracy: 0.9121\n",
      "Epoch 59/100\n",
      "290/290 [==============================] - 192s 664ms/step - loss: 0.4730 - accuracy: 0.8605 - val_loss: 0.2960 - val_accuracy: 0.9192\n",
      "Epoch 60/100\n",
      "290/290 [==============================] - 210s 725ms/step - loss: 0.4709 - accuracy: 0.8621 - val_loss: 0.3013 - val_accuracy: 0.9206\n",
      "Epoch 61/100\n",
      "290/290 [==============================] - 64s 220ms/step - loss: 0.4639 - accuracy: 0.8627 - val_loss: 0.2653 - val_accuracy: 0.9266\n",
      "INFO:tensorflow:Assets written to: classification_experiments/20211127_noadaptive_dataset24/ckpts/cp_best.ckpt/assets\n",
      "Epoch 62/100\n",
      "290/290 [==============================] - 65s 223ms/step - loss: 0.4490 - accuracy: 0.8674 - val_loss: 0.3602 - val_accuracy: 0.9022\n",
      "Epoch 63/100\n",
      "290/290 [==============================] - 201s 695ms/step - loss: 0.4473 - accuracy: 0.8654 - val_loss: 0.3075 - val_accuracy: 0.9219\n",
      "Epoch 64/100\n",
      "290/290 [==============================] - 208s 718ms/step - loss: 0.4356 - accuracy: 0.8689 - val_loss: 0.3661 - val_accuracy: 0.9021\n",
      "Epoch 65/100\n",
      "290/290 [==============================] - 69s 239ms/step - loss: 0.4298 - accuracy: 0.8731 - val_loss: 0.2796 - val_accuracy: 0.9273\n",
      "Epoch 66/100\n",
      "290/290 [==============================] - 130s 448ms/step - loss: 0.4280 - accuracy: 0.8713 - val_loss: 0.3198 - val_accuracy: 0.9224\n",
      "Epoch 67/100\n",
      "290/290 [==============================] - 242s 836ms/step - loss: 0.4168 - accuracy: 0.8778 - val_loss: 0.2879 - val_accuracy: 0.9240\n",
      "Epoch 68/100\n",
      "290/290 [==============================] - 65s 222ms/step - loss: 0.4186 - accuracy: 0.8748 - val_loss: 0.2802 - val_accuracy: 0.9242\n",
      "Epoch 69/100\n",
      "290/290 [==============================] - 64s 220ms/step - loss: 0.4267 - accuracy: 0.8735 - val_loss: 0.2401 - val_accuracy: 0.9336\n",
      "INFO:tensorflow:Assets written to: classification_experiments/20211127_noadaptive_dataset24/ckpts/cp_best.ckpt/assets\n",
      "Epoch 70/100\n",
      "290/290 [==============================] - 232s 803ms/step - loss: 0.4273 - accuracy: 0.8764 - val_loss: 0.2491 - val_accuracy: 0.9297\n",
      "Epoch 71/100\n",
      "290/290 [==============================] - 186s 643ms/step - loss: 0.4210 - accuracy: 0.8777 - val_loss: 0.3163 - val_accuracy: 0.9163\n",
      "Epoch 72/100\n",
      "290/290 [==============================] - 64s 222ms/step - loss: 0.4126 - accuracy: 0.8770 - val_loss: 0.3732 - val_accuracy: 0.9143\n",
      "Epoch 73/100\n",
      "290/290 [==============================] - 228s 790ms/step - loss: 0.3862 - accuracy: 0.8867 - val_loss: 0.4495 - val_accuracy: 0.9092\n",
      "Epoch 74/100\n",
      "290/290 [==============================] - 186s 640ms/step - loss: 0.3980 - accuracy: 0.8853 - val_loss: 0.3602 - val_accuracy: 0.9185\n",
      "Epoch 75/100\n",
      "290/290 [==============================] - 69s 238ms/step - loss: 0.3817 - accuracy: 0.8856 - val_loss: 0.2539 - val_accuracy: 0.9360\n",
      "Epoch 76/100\n",
      "290/290 [==============================] - 221s 764ms/step - loss: 0.4118 - accuracy: 0.8820 - val_loss: 0.2722 - val_accuracy: 0.9295\n",
      "Epoch 77/100\n",
      "290/290 [==============================] - 186s 643ms/step - loss: 0.3982 - accuracy: 0.8825 - val_loss: 0.2490 - val_accuracy: 0.9362\n",
      "Epoch 78/100\n",
      "290/290 [==============================] - 65s 223ms/step - loss: 0.3880 - accuracy: 0.8860 - val_loss: 0.3160 - val_accuracy: 0.9147\n",
      "Epoch 79/100\n",
      "290/290 [==============================] - 150s 518ms/step - loss: 0.3653 - accuracy: 0.8935 - val_loss: 0.2733 - val_accuracy: 0.9269\n",
      "Epoch 80/100\n",
      "290/290 [==============================] - 239s 824ms/step - loss: 0.3825 - accuracy: 0.8872 - val_loss: 0.2414 - val_accuracy: 0.9355\n",
      "Epoch 81/100\n",
      "290/290 [==============================] - 65s 224ms/step - loss: 0.3594 - accuracy: 0.8930 - val_loss: 0.2294 - val_accuracy: 0.9323\n",
      "INFO:tensorflow:Assets written to: classification_experiments/20211127_noadaptive_dataset24/ckpts/cp_best.ckpt/assets\n",
      "Epoch 82/100\n",
      "290/290 [==============================] - 64s 222ms/step - loss: 0.3775 - accuracy: 0.8918 - val_loss: 0.2446 - val_accuracy: 0.9332\n",
      "Epoch 83/100\n",
      "290/290 [==============================] - 129s 445ms/step - loss: 0.3651 - accuracy: 0.8935 - val_loss: 0.2026 - val_accuracy: 0.9446\n",
      "INFO:tensorflow:Assets written to: classification_experiments/20211127_noadaptive_dataset24/ckpts/cp_best.ckpt/assets\n",
      "Epoch 84/100\n",
      "290/290 [==============================] - 247s 850ms/step - loss: 0.3690 - accuracy: 0.8934 - val_loss: 0.1857 - val_accuracy: 0.9478\n",
      "INFO:tensorflow:Assets written to: classification_experiments/20211127_noadaptive_dataset24/ckpts/cp_best.ckpt/assets\n",
      "Epoch 85/100\n",
      "290/290 [==============================] - 64s 222ms/step - loss: 0.3411 - accuracy: 0.8993 - val_loss: 0.2013 - val_accuracy: 0.9518\n",
      "Epoch 86/100\n",
      "290/290 [==============================] - 65s 223ms/step - loss: 0.3577 - accuracy: 0.8948 - val_loss: 0.2513 - val_accuracy: 0.9387\n",
      "Epoch 87/100\n",
      "290/290 [==============================] - 65s 223ms/step - loss: 0.3591 - accuracy: 0.8976 - val_loss: 0.2092 - val_accuracy: 0.9442\n",
      "Epoch 88/100\n",
      "290/290 [==============================] - 297s 1s/step - loss: 0.3520 - accuracy: 0.8987 - val_loss: 0.1802 - val_accuracy: 0.9547\n",
      "INFO:tensorflow:Assets written to: classification_experiments/20211127_noadaptive_dataset24/ckpts/cp_best.ckpt/assets\n",
      "Epoch 89/100\n",
      "290/290 [==============================] - 92s 316ms/step - loss: 0.3455 - accuracy: 0.8997 - val_loss: 0.2263 - val_accuracy: 0.9431\n",
      "Epoch 90/100\n",
      "290/290 [==============================] - 64s 221ms/step - loss: 0.3402 - accuracy: 0.9001 - val_loss: 0.2448 - val_accuracy: 0.9404\n",
      "Epoch 91/100\n",
      "290/290 [==============================] - 191s 661ms/step - loss: 0.3314 - accuracy: 0.9035 - val_loss: 0.3041 - val_accuracy: 0.9245\n",
      "Epoch 92/100\n",
      "290/290 [==============================] - 231s 797ms/step - loss: 0.3445 - accuracy: 0.8995 - val_loss: 0.1972 - val_accuracy: 0.9517\n",
      "Epoch 93/100\n",
      "290/290 [==============================] - 65s 224ms/step - loss: 0.3387 - accuracy: 0.8998 - val_loss: 0.2057 - val_accuracy: 0.9452\n",
      "Epoch 94/100\n",
      "290/290 [==============================] - 203s 701ms/step - loss: 0.3216 - accuracy: 0.9060 - val_loss: 0.1747 - val_accuracy: 0.9546\n",
      "INFO:tensorflow:Assets written to: classification_experiments/20211127_noadaptive_dataset24/ckpts/cp_best.ckpt/assets\n",
      "Epoch 95/100\n",
      "290/290 [==============================] - 211s 726ms/step - loss: 0.3308 - accuracy: 0.9037 - val_loss: 0.1892 - val_accuracy: 0.9462\n",
      "Epoch 96/100\n",
      "290/290 [==============================] - 65s 221ms/step - loss: 0.3366 - accuracy: 0.9024 - val_loss: 0.2347 - val_accuracy: 0.9421\n",
      "Epoch 97/100\n",
      "290/290 [==============================] - 278s 962ms/step - loss: 0.3554 - accuracy: 0.8997 - val_loss: 0.2648 - val_accuracy: 0.9344\n",
      "Epoch 98/100\n",
      "290/290 [==============================] - 177s 609ms/step - loss: 0.3284 - accuracy: 0.9064 - val_loss: 0.2184 - val_accuracy: 0.9449\n",
      "Epoch 99/100\n",
      "290/290 [==============================] - 276s 955ms/step - loss: 0.3189 - accuracy: 0.9079 - val_loss: 0.2316 - val_accuracy: 0.9449\n",
      "Epoch 100/100\n",
      "290/290 [==============================] - 129s 446ms/step - loss: 0.3120 - accuracy: 0.9091 - val_loss: 0.2280 - val_accuracy: 0.9446\n",
      "WARNING:tensorflow:The operation `tf.image.convert_image_dtype` will be skipped since the input and output dtypes are identical.\n"
     ]
    },
    {
     "data": {
      "text/plain": [
       "<keras.callbacks.History at 0x7f78cc397a30>"
      ]
     },
     "execution_count": 9,
     "metadata": {},
     "output_type": "execute_result"
    }
   ],
   "source": [
    "# Unfortunately we ran out of Gradient time, so we need to start back from the best model (epoch 49)\n",
    "model.fit(x=train_gen,\n",
    "          initial_epoch=49,\n",
    "          epochs=100,  #### set repeat in training dataset\n",
    "          steps_per_epoch=len(train_gen),\n",
    "          validation_data=valid_gen,\n",
    "          validation_steps=len(valid_gen), \n",
    "          #class_weight=class_weights,\n",
    "          callbacks=callbacks)"
   ]
  },
  {
   "cell_type": "code",
   "execution_count": 12,
   "metadata": {
    "gradient": {
     "execution_count": 16,
     "id": "1a9f24d7-47ab-41d2-9359-cd8700e8e614",
     "kernelId": ""
    }
   },
   "outputs": [
    {
     "name": "stdout",
     "output_type": "stream",
     "text": [
      "Epoch 101/150\n",
      "290/290 [==============================] - 214s 740ms/step - loss: 0.3096 - accuracy: 0.9098 - val_loss: 0.2116 - val_accuracy: 0.9513\n",
      "Epoch 102/150\n",
      "290/290 [==============================] - 197s 678ms/step - loss: 0.3391 - accuracy: 0.9032 - val_loss: 0.1896 - val_accuracy: 0.9547\n",
      "Epoch 103/150\n",
      "290/290 [==============================] - 150s 519ms/step - loss: 0.3157 - accuracy: 0.9086 - val_loss: 0.2482 - val_accuracy: 0.9417\n",
      "Epoch 104/150\n",
      "290/290 [==============================] - 240s 827ms/step - loss: 0.3182 - accuracy: 0.9092 - val_loss: 0.2182 - val_accuracy: 0.9428\n",
      "Epoch 105/150\n",
      "290/290 [==============================] - 64s 221ms/step - loss: 0.2919 - accuracy: 0.9155 - val_loss: 0.1544 - val_accuracy: 0.9612\n",
      "INFO:tensorflow:Assets written to: classification_experiments/20211127_noadaptive_dataset24/ckpts/cp_best.ckpt/assets\n",
      "Epoch 106/150\n",
      "290/290 [==============================] - 186s 641ms/step - loss: 0.3132 - accuracy: 0.9103 - val_loss: 0.2597 - val_accuracy: 0.9342\n",
      "Epoch 107/150\n",
      "290/290 [==============================] - 239s 823ms/step - loss: 0.3210 - accuracy: 0.9069 - val_loss: 0.2870 - val_accuracy: 0.9337\n",
      "Epoch 108/150\n",
      "290/290 [==============================] - 65s 226ms/step - loss: 0.3129 - accuracy: 0.9074 - val_loss: 0.1731 - val_accuracy: 0.9546\n",
      "Epoch 109/150\n",
      "290/290 [==============================] - 280s 970ms/step - loss: 0.3058 - accuracy: 0.9102 - val_loss: 0.1901 - val_accuracy: 0.9552\n",
      "Epoch 110/150\n",
      "290/290 [==============================] - 156s 537ms/step - loss: 0.3285 - accuracy: 0.9062 - val_loss: 0.1752 - val_accuracy: 0.9544\n",
      "Epoch 111/150\n",
      "290/290 [==============================] - 147s 509ms/step - loss: 0.3126 - accuracy: 0.9088 - val_loss: 0.2128 - val_accuracy: 0.9454\n",
      "Epoch 112/150\n",
      "290/290 [==============================] - 242s 833ms/step - loss: 0.2984 - accuracy: 0.9162 - val_loss: 0.1925 - val_accuracy: 0.9483\n",
      "Epoch 113/150\n",
      "290/290 [==============================] - 65s 222ms/step - loss: 0.2885 - accuracy: 0.9168 - val_loss: 0.1984 - val_accuracy: 0.9528\n",
      "Epoch 114/150\n",
      "290/290 [==============================] - 63s 218ms/step - loss: 0.2985 - accuracy: 0.9133 - val_loss: 0.1727 - val_accuracy: 0.9641\n",
      "Epoch 115/150\n",
      "290/290 [==============================] - 247s 852ms/step - loss: 0.2915 - accuracy: 0.9160 - val_loss: 0.3095 - val_accuracy: 0.9350\n",
      "Epoch 116/150\n",
      "290/290 [==============================] - 161s 556ms/step - loss: 0.3176 - accuracy: 0.9085 - val_loss: 0.1760 - val_accuracy: 0.9512\n",
      "Epoch 117/150\n",
      "290/290 [==============================] - 82s 283ms/step - loss: 0.2862 - accuracy: 0.9173 - val_loss: 0.1221 - val_accuracy: 0.9685\n",
      "INFO:tensorflow:Assets written to: classification_experiments/20211127_noadaptive_dataset24/ckpts/cp_best.ckpt/assets\n",
      "Epoch 118/150\n",
      "290/290 [==============================] - 306s 1s/step - loss: 0.2851 - accuracy: 0.9168 - val_loss: 0.2048 - val_accuracy: 0.9547\n",
      "Epoch 119/150\n",
      "290/290 [==============================] - 65s 224ms/step - loss: 0.2941 - accuracy: 0.9164 - val_loss: 0.1704 - val_accuracy: 0.9546\n",
      "Epoch 120/150\n",
      "290/290 [==============================] - 72s 248ms/step - loss: 0.2898 - accuracy: 0.9152 - val_loss: 0.1779 - val_accuracy: 0.9560\n",
      "Epoch 121/150\n",
      "290/290 [==============================] - 312s 1s/step - loss: 0.2939 - accuracy: 0.9141 - val_loss: 0.1677 - val_accuracy: 0.9567\n",
      "Epoch 122/150\n",
      "290/290 [==============================] - 65s 225ms/step - loss: 0.2821 - accuracy: 0.9206 - val_loss: 0.1886 - val_accuracy: 0.9497\n",
      "Epoch 123/150\n",
      "290/290 [==============================] - 64s 221ms/step - loss: 0.2765 - accuracy: 0.9221 - val_loss: 0.1411 - val_accuracy: 0.9644\n",
      "Epoch 124/150\n",
      "290/290 [==============================] - 271s 938ms/step - loss: 0.2821 - accuracy: 0.9195 - val_loss: 0.2057 - val_accuracy: 0.9470\n",
      "Epoch 125/150\n",
      "290/290 [==============================] - 149s 513ms/step - loss: 0.2856 - accuracy: 0.9177 - val_loss: 0.2331 - val_accuracy: 0.9507\n",
      "Epoch 126/150\n",
      "290/290 [==============================] - 65s 223ms/step - loss: 0.2968 - accuracy: 0.9182 - val_loss: 0.1438 - val_accuracy: 0.9636\n",
      "Epoch 127/150\n",
      "290/290 [==============================] - 294s 1s/step - loss: 0.2776 - accuracy: 0.9207 - val_loss: 0.1982 - val_accuracy: 0.9530\n",
      "Epoch 128/150\n",
      "290/290 [==============================] - 90s 310ms/step - loss: 0.2858 - accuracy: 0.9196 - val_loss: 0.2107 - val_accuracy: 0.9484\n",
      "Epoch 129/150\n",
      "290/290 [==============================] - 145s 502ms/step - loss: 0.2668 - accuracy: 0.9236 - val_loss: 0.2334 - val_accuracy: 0.9449\n",
      "Epoch 130/150\n",
      "290/290 [==============================] - 239s 823ms/step - loss: 0.2782 - accuracy: 0.9214 - val_loss: 0.2709 - val_accuracy: 0.9425\n",
      "Epoch 131/150\n",
      "290/290 [==============================] - 65s 223ms/step - loss: 0.2799 - accuracy: 0.9208 - val_loss: 0.1335 - val_accuracy: 0.9635\n",
      "Epoch 132/150\n",
      "290/290 [==============================] - 64s 221ms/step - loss: 0.2669 - accuracy: 0.9242 - val_loss: 0.1606 - val_accuracy: 0.9607\n",
      "Epoch 133/150\n",
      "290/290 [==============================] - 297s 1s/step - loss: 0.2525 - accuracy: 0.9270 - val_loss: 0.1785 - val_accuracy: 0.9564\n",
      "Epoch 134/150\n",
      "290/290 [==============================] - 72s 248ms/step - loss: 0.2792 - accuracy: 0.9222 - val_loss: 0.1610 - val_accuracy: 0.9596\n",
      "Epoch 135/150\n",
      "290/290 [==============================] - 69s 238ms/step - loss: 0.2654 - accuracy: 0.9252 - val_loss: 0.3305 - val_accuracy: 0.9328\n",
      "Epoch 136/150\n",
      "290/290 [==============================] - 240s 828ms/step - loss: 0.2574 - accuracy: 0.9251 - val_loss: 0.2153 - val_accuracy: 0.9523\n",
      "Epoch 137/150\n",
      "290/290 [==============================] - 176s 605ms/step - loss: 0.2768 - accuracy: 0.9213 - val_loss: 0.1322 - val_accuracy: 0.9665\n",
      "Epoch 138/150\n",
      "290/290 [==============================] - 77s 265ms/step - loss: 0.2664 - accuracy: 0.9229 - val_loss: 0.1774 - val_accuracy: 0.9567\n",
      "Epoch 139/150\n",
      "290/290 [==============================] - 291s 1s/step - loss: 0.2509 - accuracy: 0.9286 - val_loss: 0.2072 - val_accuracy: 0.9517\n",
      "Epoch 140/150\n",
      "290/290 [==============================] - 65s 225ms/step - loss: 0.2890 - accuracy: 0.9174 - val_loss: 0.1503 - val_accuracy: 0.9604\n",
      "Epoch 141/150\n",
      "290/290 [==============================] - 69s 236ms/step - loss: 0.2557 - accuracy: 0.9257 - val_loss: 0.2666 - val_accuracy: 0.9353\n",
      "Epoch 142/150\n",
      "290/290 [==============================] - 200s 692ms/step - loss: 0.2602 - accuracy: 0.9261 - val_loss: 0.1864 - val_accuracy: 0.9560\n",
      "Epoch 143/150\n",
      "290/290 [==============================] - 201s 691ms/step - loss: 0.2671 - accuracy: 0.9262 - val_loss: 0.1857 - val_accuracy: 0.9573\n",
      "Epoch 144/150\n",
      "290/290 [==============================] - 64s 221ms/step - loss: 0.2682 - accuracy: 0.9255 - val_loss: 0.1653 - val_accuracy: 0.9591\n",
      "Epoch 145/150\n",
      "290/290 [==============================] - 270s 933ms/step - loss: 0.2658 - accuracy: 0.9240 - val_loss: 0.1788 - val_accuracy: 0.9599\n",
      "Epoch 146/150\n",
      "290/290 [==============================] - 176s 607ms/step - loss: 0.2596 - accuracy: 0.9269 - val_loss: 0.1769 - val_accuracy: 0.9573\n",
      "Epoch 147/150\n",
      "290/290 [==============================] - 64s 222ms/step - loss: 0.2541 - accuracy: 0.9255 - val_loss: 0.1734 - val_accuracy: 0.9560\n",
      "Epoch 148/150\n",
      "290/290 [==============================] - 291s 1s/step - loss: 0.2640 - accuracy: 0.9258 - val_loss: 0.1308 - val_accuracy: 0.9698\n",
      "Epoch 149/150\n",
      "290/290 [==============================] - 74s 256ms/step - loss: 0.2518 - accuracy: 0.9299 - val_loss: 0.2112 - val_accuracy: 0.9494\n",
      "Epoch 150/150\n",
      "290/290 [==============================] - 64s 222ms/step - loss: 0.2336 - accuracy: 0.9337 - val_loss: 0.1010 - val_accuracy: 0.9716\n",
      "INFO:tensorflow:Assets written to: classification_experiments/20211127_noadaptive_dataset24/ckpts/cp_best.ckpt/assets\n",
      "WARNING:tensorflow:The operation `tf.image.convert_image_dtype` will be skipped since the input and output dtypes are identical.\n"
     ]
    },
    {
     "data": {
      "text/plain": [
       "<keras.callbacks.History at 0x7f78c649eaf0>"
      ]
     },
     "execution_count": 12,
     "metadata": {},
     "output_type": "execute_result"
    }
   ],
   "source": [
    "model.fit(x=train_gen,\n",
    "          initial_epoch=100,\n",
    "          epochs=150,  #### set repeat in training dataset\n",
    "          steps_per_epoch=len(train_gen),\n",
    "          validation_data=valid_gen,\n",
    "          validation_steps=len(valid_gen), \n",
    "          #class_weight=class_weights,\n",
    "          callbacks=callbacks)"
   ]
  },
  {
   "cell_type": "code",
   "execution_count": 36,
   "metadata": {
    "gradient": {
     "editing": false,
     "id": "87b68d3c-815f-4508-bf87-1ba40c0039a2",
     "kernelId": ""
    },
    "id": "qkN3FdfSCxHg"
   },
   "outputs": [
    {
     "data": {
      "image/png": "[encoded data removed]",
      "text/plain": [
       "<Figure size 1440x864 with 16 Axes>"
      ]
     },
     "metadata": {
      "needs_background": "light"
     },
     "output_type": "display_data"
    }
   ],
   "source": [
    "# Let's visualize the activations of our network\n",
    "from PIL import Image\n",
    "\n",
    "test_iter = iter(valid_gen)\n",
    "\n",
    "# Get a test image\n",
    "test_img = next(valid_gen)[0]\n",
    "test_img = test_img[0]\n",
    "\n",
    "# Visualize the image\n",
    "Image.fromarray(np.uint8(np.array(test_img)*255.))\n",
    "\n",
    "# Get the activations (the output of each ReLU layer)\n",
    "layer_outputs = [layer.output for layer in model.layers if isinstance(layer, tf.keras.layers.Conv2D)]\n",
    "# We can do it by creating a new model (activation_model) with model.input as input \n",
    "# and all the ReLU activations as output\n",
    "activation_model = tf.keras.Model(inputs=model.input, outputs=layer_outputs)\n",
    "# Finally we get the output values given the imput test image\n",
    "activations = activation_model.predict(tf.expand_dims(test_img, 0))\n",
    "\n",
    "import matplotlib.pyplot as plt\n",
    "%matplotlib inline\n",
    "def display_activation(activations, act_index): \n",
    "    # activations: list of all the activations\n",
    "    # act_index: the layer we want to visualize (an int in [0, network depth) )\n",
    "    activation = activations[act_index]\n",
    "    activation = tf.image.resize(activation, size=[128, 128])\n",
    "    col_size = activations[0].shape[-1]\n",
    "    row_size = 1 + act_index\n",
    "    activation_index=0\n",
    "    fig, ax = plt.subplots(row_size, col_size, figsize=(8*2.5, 8*1.5), squeeze=False)\n",
    "    for row in range(0,row_size):\n",
    "        for col in range(0,col_size):\n",
    "            ax[row][col].imshow(activation[0, :, :, activation_index], cmap='gray')\n",
    "            activation_index += 1\n",
    "display_activation(activations, 0)"
   ]
  },
  {
   "cell_type": "code",
   "execution_count": 20,
   "metadata": {
    "gradient": {
     "editing": false,
     "execution_count": 12,
     "id": "76e73312-a20d-4354-b5a5-305cb6cc8e39",
     "kernelId": ""
    },
    "id": "tzak6UyO_4Jb"
   },
   "outputs": [
    {
     "name": "stderr",
     "output_type": "stream",
     "text": [
      "/usr/local/lib/python3.9/site-packages/keras/engine/training.py:2035: UserWarning: `Model.predict_generator` is deprecated and will be removed in a future version. Please use `Model.predict`, which supports generators.\n",
      "  warnings.warn('`Model.predict_generator` is deprecated and '\n"
     ]
    },
    {
     "name": "stdout",
     "output_type": "stream",
     "text": [
      "Confusion Matrix:\n",
      "[[ 352    6    2    1    1    0    1    0    0    0    6    0    1    2]\n",
      " [   0  242    0    0    0    0    0    0    0    0    0    0    0    0]\n",
      " [   1    1  262    0    0    2    1    3    0    0    0    0    0    1]\n",
      " [   0    2    2  418    2    1    0    0    0    0    0    1    1    0]\n",
      " [   0    0    0    0  479    0    1    0    0    0    0    1    4    5]\n",
      " [   0    1    0    0    0  553    0    3    0    0    0    0    0    5]\n",
      " [  12    1    0    0    0    0  352    3    0    0    0    0    0    2]\n",
      " [   1    0    2    0    0    0    0  312    0    0    0    0    0    2]\n",
      " [   0    0    0    0    0    0    0    1  288    0    3    0    2   10]\n",
      " [   0    1    0    0    0    0    0    3    0  185    1    0    1    0]\n",
      " [   2    2    0    0    0    0    0    5    8    0  511    0    0    1]\n",
      " [   0    2    0    0    1    0    0    0    0    2    0  260    4    0]\n",
      " [   0    1    0    0    4    0    0    0    1    3    0    0  282    3]\n",
      " [   3    1    2    5    0    1    1    6   13    0    1    0    1 1515]]\n",
      "\n",
      "Classification Report:\n",
      "              precision    recall  f1-score   support\n",
      "\n",
      "       Apple       0.95      0.95      0.95       372\n",
      "   Blueberry       0.93      1.00      0.96       242\n",
      "      Cherry       0.97      0.97      0.97       271\n",
      "        Corn       0.99      0.98      0.98       427\n",
      "       Grape       0.98      0.98      0.98       490\n",
      "      Orange       0.99      0.98      0.99       562\n",
      "       Peach       0.99      0.95      0.97       370\n",
      "      Pepper       0.93      0.98      0.96       317\n",
      "      Potato       0.93      0.95      0.94       304\n",
      "   Raspberry       0.97      0.97      0.97       191\n",
      "     Soybean       0.98      0.97      0.97       529\n",
      "      Squash       0.99      0.97      0.98       269\n",
      "  Strawberry       0.95      0.96      0.96       294\n",
      "      Tomato       0.98      0.98      0.98      1549\n",
      "\n",
      "    accuracy                           0.97      6187\n",
      "   macro avg       0.97      0.97      0.97      6187\n",
      "weighted avg       0.97      0.97      0.97      6187\n",
      "\n"
     ]
    }
   ],
   "source": [
    "# Print Confusion Matrix and Classification Report (Precision, Recall, and F1-score) on the validation set\n",
    "from sklearn.metrics import confusion_matrix, classification_report\n",
    "import seaborn as sns\n",
    "\n",
    "Y_prediction = model.predict_generator(valid_gen, len(valid_gen))\n",
    "# Convert predictions classes to one hot vectors \n",
    "Y_pred_classes = np.argmax(Y_prediction,axis = 1) \n",
    "# Convert validation observations to one hot vectors\n",
    "Y_true = valid_gen.classes\n",
    "# compute the confusion matrix\n",
    "confusion_mtx = confusion_matrix(Y_true, Y_pred_classes)\n",
    "class_report = classification_report(Y_true, Y_pred_classes, \n",
    "                                     target_names=valid_gen.class_indices.keys())  # target_names must be ordered depending on the class labels\n",
    "print('Confusion Matrix:')\n",
    "print(confusion_mtx)\n",
    "print()\n",
    "print('Classification Report:')\n",
    "print(class_report)"
   ]
  }
 ],
 "metadata": {
  "accelerator": "GPU",
  "colab": {
   "collapsed_sections": [],
   "name": "CNN_256x256-alterntive.ipynb",
   "provenance": []
  },
  "kernelspec": {
   "display_name": "Python 3 (ipykernel)",
   "language": "python",
   "name": "python3"
  },
  "language_info": {
   "codemirror_mode": {
    "name": "ipython",
    "version": 3
   },
   "file_extension": ".py",
   "mimetype": "text/x-python",
   "name": "python",
   "nbconvert_exporter": "python",
   "pygments_lexer": "ipython3",
   "version": "3.9.8"
  }
 },
 "nbformat": 4,
 "nbformat_minor": 4
}
