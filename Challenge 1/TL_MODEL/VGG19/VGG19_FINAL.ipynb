{
 "cells": [
  {
   "cell_type": "markdown",
   "id": "09a5dda7-7699-4dc7-af4a-cd21563c914a",
   "metadata": {},
   "source": [
    "VGG19 - Transfer Learning Model Implementation - Stefano Maxenti - Riccardo Mencucci - \"team_durian\""
   ]
  },
  {
   "cell_type": "code",
   "execution_count": null,
   "id": "04de450d",
   "metadata": {
    "execution": {
     "iopub.execute_input": "2021-11-26T11:07:27.485962Z",
     "iopub.status.busy": "2021-11-26T11:07:27.483804Z",
     "iopub.status.idle": "2021-11-26T11:07:33.026189Z",
     "shell.execute_reply": "2021-11-26T11:07:33.026799Z",
     "shell.execute_reply.started": "2021-11-26T10:37:43.815574Z"
    },
    "gradient": {
     "editing": false,
     "execution_count": 1,
     "id": "04de450d",
     "kernelId": ""
    },
    "id": "pCORnObuqKX3",
    "outputId": "05f5bdfe-a774-4f48-e3c3-9be512f486d6",
    "papermill": {
     "duration": 5.559367,
     "end_time": "2021-11-26T11:07:33.027003",
     "exception": false,
     "start_time": "2021-11-26T11:07:27.467636",
     "status": "completed"
    },
    "tags": []
   },
   "outputs": [],
   "source": [
    "!pip install --upgrade pip\n",
    "!pip install scipy sklearn pandas seaborn pillow visualkeras\n",
    "import tensorflow as tf\n",
    "import numpy as np\n",
    "import os\n",
    "import random\n",
    "import time\n",
    "import pandas as pd\n",
    "import seaborn as sns\n",
    "import matplotlib as mpl\n",
    "import matplotlib.pyplot as plt\n",
    "\n",
    "from sklearn.model_selection import train_test_split\n",
    "from sklearn.metrics import mean_squared_error\n",
    "\n",
    "tfk = tf.keras\n",
    "tfkl = tf.keras.layers\n",
    "print(tf.__version__)"
   ]
  },
  {
   "cell_type": "code",
   "execution_count": 2,
   "id": "2ad41948",
   "metadata": {
    "execution": {
     "iopub.execute_input": "2021-11-26T11:07:33.062409Z",
     "iopub.status.busy": "2021-11-26T11:07:33.060873Z",
     "iopub.status.idle": "2021-11-26T11:07:33.063057Z",
     "shell.execute_reply": "2021-11-26T11:07:33.063477Z",
     "shell.execute_reply.started": "2021-11-26T10:37:45.918539Z"
    },
    "gradient": {
     "editing": false,
     "execution_count": 2,
     "id": "2ad41948",
     "kernelId": ""
    },
    "id": "jq0qhGvNqMUX",
    "papermill": {
     "duration": 0.021085,
     "end_time": "2021-11-26T11:07:33.063592",
     "exception": false,
     "start_time": "2021-11-26T11:07:33.042507",
     "status": "completed"
    },
    "tags": []
   },
   "outputs": [],
   "source": [
    "# Random seed for reproducibility\n",
    "seed = 42\n",
    "\n",
    "random.seed(seed)\n",
    "os.environ['PYTHONHASHSEED'] = str(seed)\n",
    "np.random.seed(seed)\n",
    "tf.random.set_seed(seed)\n",
    "tf.compat.v1.set_random_seed(seed)"
   ]
  },
  {
   "cell_type": "code",
   "execution_count": null,
   "id": "262bfddb",
   "metadata": {},
   "outputs": [],
   "source": [
    "DATA_ROOT = \"DATASET_AUG\""
   ]
  },
  {
   "cell_type": "code",
   "execution_count": 21,
   "id": "29f4c653",
   "metadata": {
    "execution": {
     "iopub.execute_input": "2021-11-26T11:07:33.133718Z",
     "iopub.status.busy": "2021-11-26T11:07:33.133146Z",
     "iopub.status.idle": "2021-11-26T11:07:57.222852Z",
     "shell.execute_reply": "2021-11-26T11:07:57.222412Z",
     "shell.execute_reply.started": "2021-11-26T10:37:45.944536Z"
    },
    "gradient": {
     "editing": false,
     "execution_count": 4,
     "id": "29f4c653",
     "kernelId": ""
    },
    "id": "ghMzks5Uv3O9",
    "outputId": "132acec2-9276-4a4b-8339-f943415298a3",
    "papermill": {
     "duration": 24.112267,
     "end_time": "2021-11-26T11:07:57.222978",
     "exception": false,
     "start_time": "2021-11-26T11:07:33.110711",
     "status": "completed"
    },
    "tags": []
   },
   "outputs": [
    {
     "name": "stdout",
     "output_type": "stream",
     "text": [
      "Found 18541 images belonging to 14 classes.\n",
      "Found 6187 images belonging to 14 classes.\n"
     ]
    }
   ],
   "source": [
    "COLOR_MODE = 'rgb'\n",
    "BATCH_SIZE = 128\n",
    "\n",
    "from tensorflow.keras.preprocessing.image import ImageDataGenerator\n",
    "\n",
    "train_dir = \"DATASET_AUG/train\"\n",
    "valid_dir = \"DATASET_AUG/val\"\n",
    "\n",
    "# rescaling makes lookup fail?\n",
    "# no, casting issues.\n",
    "from tensorflow.keras.applications.vgg19 import preprocess_input\n",
    "train_data_generator = ImageDataGenerator(\n",
    "                                            preprocessing_function=preprocess_input)\n",
    "\n",
    "# keras onine augmentation drammatically increases training time\n",
    "# dense training from < 1 min to > 5 min\n",
    "valid_data_generator = ImageDataGenerator(preprocessing_function=preprocess_input)\n",
    "\n",
    "train_gen = train_data_generator.flow_from_directory(\n",
    "    directory = train_dir,\n",
    "    # desired size for image, regardless of\n",
    "    # image data. Images will be resized to fit\n",
    "    # if necessary.\n",
    "    # We use original size ==> no transfrom\n",
    "    target_size = (256,256),\n",
    "    # 3 color channel.\n",
    "    # again, match data on disk.\n",
    "    color_mode = COLOR_MODE,\n",
    "    # default for classes is None.\n",
    "    # That infers from name of folder classes the integer associated\n",
    "    # with the class in lexicographical order.\n",
    "    # This matches the order we used before.\n",
    "    # We can change this by passing a list of strings to classes,\n",
    "    # which should contain all (?) folder names. For now, the default one\n",
    "    # will suffice.\n",
    "    classes = None,\n",
    "    # we need not specify this in model.fit, but we can do so here at data\n",
    "    # generation.\n",
    "    batch_size = BATCH_SIZE,\n",
    "    shuffle = True\n",
    ")\n",
    "\n",
    "valid_gen = valid_data_generator.flow_from_directory(\n",
    "    directory = valid_dir,\n",
    "    target_size = (256,256),\n",
    "    color_mode = COLOR_MODE,\n",
    "    classes = None,\n",
    "    batch_size = BATCH_SIZE,\n",
    "    shuffle = True\n",
    ")"
   ]
  },
  {
   "cell_type": "code",
   "execution_count": null,
   "id": "3816cdc2",
   "metadata": {
    "execution": {
     "iopub.execute_input": "2021-11-26T11:07:57.258661Z",
     "iopub.status.busy": "2021-11-26T11:07:57.258079Z",
     "iopub.status.idle": "2021-11-26T11:07:58.480640Z",
     "shell.execute_reply": "2021-11-26T11:07:58.481074Z",
     "shell.execute_reply.started": "2021-11-26T10:37:50.322978Z"
    },
    "gradient": {
     "editing": false,
     "id": "3816cdc2",
     "kernelId": ""
    },
    "id": "A1OmcVGWy2mM",
    "outputId": "43d5adc3-a7c8-42e9-ead8-94b8cdebac1f",
    "papermill": {
     "duration": 1.243607,
     "end_time": "2021-11-26T11:07:58.481222",
     "exception": false,
     "start_time": "2021-11-26T11:07:57.237615",
     "status": "completed"
    },
    "tags": []
   },
   "outputs": [],
   "source": [
    "def get_next_batch(generator):\n",
    "  batch = next(generator)\n",
    "\n",
    "  image = batch[0]\n",
    "  target = batch[1]\n",
    "\n",
    "  print(\"(Input) image shape:\", image.shape)\n",
    "  print(\"Target shape:\",target.shape)\n",
    "\n",
    "  # Visualize only the first sample\n",
    "  image = image[0]\n",
    "  target = target[0]\n",
    "  target_idx = np.argmax(target)\n",
    "  print()\n",
    "  print(\"Categorical label:\", target)\n",
    "  print(\"Label:\", target_idx)\n",
    "  #print(\"Class name:\", labels[target_idx])\n",
    "  fig = plt.figure(figsize=(6, 4))\n",
    "  plt.imshow(np.uint8(image*255))\n",
    "\n",
    "  return batch\n",
    "\n",
    "_ = get_next_batch(valid_gen)"
   ]
  },
  {
   "cell_type": "code",
   "execution_count": 5,
   "id": "56d71139",
   "metadata": {
    "execution": {
     "iopub.execute_input": "2021-11-26T11:07:58.574832Z",
     "iopub.status.busy": "2021-11-26T11:07:58.574305Z",
     "iopub.status.idle": "2021-11-26T11:07:58.578011Z",
     "shell.execute_reply": "2021-11-26T11:07:58.577519Z",
     "shell.execute_reply.started": "2021-11-26T10:37:50.977266Z"
    },
    "gradient": {
     "editing": false,
     "execution_count": 5,
     "id": "56d71139",
     "kernelId": ""
    },
    "id": "RgQ3ITeV1Jok",
    "papermill": {
     "duration": 0.03043,
     "end_time": "2021-11-26T11:07:58.578122",
     "exception": false,
     "start_time": "2021-11-26T11:07:58.547692",
     "status": "completed"
    },
    "tags": []
   },
   "outputs": [],
   "source": [
    "# Utility function to create folders and callbacks for training\n",
    "from datetime import datetime\n",
    "import io\n",
    "import matplotlib.pyplot as plt\n",
    "from sklearn.metrics import confusion_matrix, classification_report\n",
    "import seaborn as sns\n",
    "\n",
    "\n",
    "def create_folders_and_callbacks(model_name):\n",
    "\n",
    "  exps_dir = os.path.join('data_augmentation_experiments_noaug')\n",
    "  if not os.path.exists(exps_dir):\n",
    "      os.makedirs(exps_dir)\n",
    "\n",
    "  now = datetime.now().strftime('%b%d_h%H_m%M_s%S')\n",
    "\n",
    "  exp_dir = os.path.join(exps_dir, model_name + '_' + str(now))\n",
    "  if not os.path.exists(exp_dir):\n",
    "      os.makedirs(exp_dir)\n",
    "      \n",
    "  callbacks = []\n",
    "\n",
    "  # Model checkpoint\n",
    "  # ----------------\n",
    "  ckpt_dir = os.path.join(exp_dir, 'ckpts')\n",
    "  if not os.path.exists(ckpt_dir):\n",
    "      os.makedirs(ckpt_dir)\n",
    "\n",
    "  ckpt_callback = tfk.callbacks.ModelCheckpoint(\n",
    "      filepath=os.path.join(ckpt_dir, 'cp', \"ckpt_{epoch:03d}_{val_loss:.5f}.hdf5\"),\n",
    "      save_weights_only=False,\n",
    "      # if true, only save best epoch.\n",
    "      # otherwise, save last epoch.\n",
    "      # As we use early stopping, which already returns best model,\n",
    "      # by setting false here he get both.\n",
    "\n",
    "      save_best_only = True  \n",
    "  )\n",
    "  callbacks.append(ckpt_callback)\n",
    "\n",
    "  # Visualize Learning on Tensorboard\n",
    "  # ---------------------------------\n",
    "  tb_dir = os.path.join(exp_dir, 'tb_logs')\n",
    "  if not os.path.exists(tb_dir):\n",
    "      os.makedirs(tb_dir)\n",
    "      \n",
    "  tb_callback = tfk.callbacks.TensorBoard(\n",
    "      log_dir = tb_dir,\n",
    "      # avoid profiling to increase runtime performance\n",
    "      profile_batch = 0,\n",
    "      histogram_freq = 1\n",
    "  )\n",
    "  callbacks.append(tb_callback)\n",
    "\n",
    "  # Early Stopping\n",
    "  # --------------\n",
    "  es_callback = tf.keras.callbacks.EarlyStopping(monitor='val_loss', patience=20, restore_best_weights=True)\n",
    "  callbacks.append(es_callback)\n",
    "  return callbacks"
   ]
  },
  {
   "cell_type": "code",
   "execution_count": 6,
   "id": "1b3670f5",
   "metadata": {
    "execution": {
     "iopub.execute_input": "2021-11-26T11:07:58.618067Z",
     "iopub.status.busy": "2021-11-26T11:07:58.617552Z",
     "iopub.status.idle": "2021-11-26T11:07:58.621076Z",
     "shell.execute_reply": "2021-11-26T11:07:58.620616Z",
     "shell.execute_reply.started": "2021-11-26T10:37:50.994818Z"
    },
    "gradient": {
     "editing": false,
     "execution_count": 6,
     "id": "1b3670f5",
     "kernelId": ""
    },
    "id": "wuxiqS3Q2VQV",
    "papermill": {
     "duration": 0.024939,
     "end_time": "2021-11-26T11:07:58.621182",
     "exception": false,
     "start_time": "2021-11-26T11:07:58.596243",
     "status": "completed"
    },
    "tags": []
   },
   "outputs": [],
   "source": [
    "input_shape = (256,256,3)\n",
    "epochs_dense = 10\n",
    "epochs_finetuning = 125"
   ]
  },
  {
   "cell_type": "code",
   "execution_count": 7,
   "id": "ebf9bc48",
   "metadata": {
    "execution": {
     "iopub.execute_input": "2021-11-26T11:07:58.667821Z",
     "iopub.status.busy": "2021-11-26T11:07:58.667245Z",
     "iopub.status.idle": "2021-11-26T11:08:01.768743Z",
     "shell.execute_reply": "2021-11-26T11:08:01.769475Z",
     "shell.execute_reply.started": "2021-11-26T10:37:51.011423Z"
    },
    "gradient": {
     "editing": false,
     "execution_count": 7,
     "id": "ebf9bc48",
     "kernelId": ""
    },
    "papermill": {
     "duration": 3.130393,
     "end_time": "2021-11-26T11:08:01.769632",
     "exception": false,
     "start_time": "2021-11-26T11:07:58.639239",
     "status": "completed"
    },
    "tags": []
   },
   "outputs": [
    {
     "name": "stderr",
     "output_type": "stream",
     "text": [
      "2021-11-28 09:53:21.092251: I tensorflow/stream_executor/cuda/cuda_gpu_executor.cc:1050] successful NUMA node read from SysFS had negative value (-1), but there must be at least one NUMA node, so returning NUMA node zero\n",
      "2021-11-28 09:53:21.101527: I tensorflow/stream_executor/cuda/cuda_gpu_executor.cc:1050] successful NUMA node read from SysFS had negative value (-1), but there must be at least one NUMA node, so returning NUMA node zero\n",
      "2021-11-28 09:53:21.102190: I tensorflow/stream_executor/cuda/cuda_gpu_executor.cc:1050] successful NUMA node read from SysFS had negative value (-1), but there must be at least one NUMA node, so returning NUMA node zero\n",
      "2021-11-28 09:53:21.103711: I tensorflow/stream_executor/cuda/cuda_gpu_executor.cc:1050] successful NUMA node read from SysFS had negative value (-1), but there must be at least one NUMA node, so returning NUMA node zero\n",
      "2021-11-28 09:53:21.104286: I tensorflow/stream_executor/cuda/cuda_gpu_executor.cc:1050] successful NUMA node read from SysFS had negative value (-1), but there must be at least one NUMA node, so returning NUMA node zero\n",
      "2021-11-28 09:53:21.104817: I tensorflow/stream_executor/cuda/cuda_gpu_executor.cc:1050] successful NUMA node read from SysFS had negative value (-1), but there must be at least one NUMA node, so returning NUMA node zero\n",
      "2021-11-28 09:53:21.560292: I tensorflow/stream_executor/cuda/cuda_gpu_executor.cc:1050] successful NUMA node read from SysFS had negative value (-1), but there must be at least one NUMA node, so returning NUMA node zero\n",
      "2021-11-28 09:53:21.560884: I tensorflow/stream_executor/cuda/cuda_gpu_executor.cc:1050] successful NUMA node read from SysFS had negative value (-1), but there must be at least one NUMA node, so returning NUMA node zero\n",
      "2021-11-28 09:53:21.561409: I tensorflow/stream_executor/cuda/cuda_gpu_executor.cc:1050] successful NUMA node read from SysFS had negative value (-1), but there must be at least one NUMA node, so returning NUMA node zero\n",
      "2021-11-28 09:53:21.561912: I tensorflow/core/common_runtime/gpu/gpu_device.cc:1510] Created device /job:localhost/replica:0/task:0/device:GPU:0 with 14029 MB memory:  -> device: 0, name: RTX A4000, pci bus id: 0000:00:05.0, compute capability: 8.6\n"
     ]
    },
    {
     "name": "stdout",
     "output_type": "stream",
     "text": [
      "Downloading data from https://storage.googleapis.com/tensorflow/keras-applications/vgg19/vgg19_weights_tf_dim_ordering_tf_kernels_notop.h5\n",
      "80142336/80134624 [==============================] - 3s 0us/step\n",
      "80150528/80134624 [==============================] - 3s 0us/step\n",
      "0 input_1 False\n",
      "1 block1_conv1 False\n",
      "2 block1_conv2 False\n",
      "3 block1_pool False\n",
      "4 block2_conv1 False\n",
      "5 block2_conv2 False\n",
      "6 block2_pool False\n",
      "7 block3_conv1 False\n",
      "8 block3_conv2 False\n",
      "9 block3_conv3 False\n",
      "10 block3_conv4 False\n",
      "11 block3_pool False\n",
      "12 block4_conv1 False\n",
      "13 block4_conv2 False\n",
      "14 block4_conv3 False\n",
      "15 block4_conv4 False\n",
      "16 block4_pool False\n",
      "17 block5_conv1 False\n",
      "18 block5_conv2 False\n",
      "19 block5_conv3 False\n",
      "20 block5_conv4 False\n",
      "21 block5_pool False\n",
      "Model: \"model_transfer_learning_GAP\"\n",
      "_________________________________________________________________\n",
      "Layer (type)                 Output Shape              Param #   \n",
      "=================================================================\n",
      "input_2 (InputLayer)         [(None, 256, 256, 3)]     0         \n",
      "_________________________________________________________________\n",
      "vgg19 (Functional)           (None, 8, 8, 512)         20024384  \n",
      "_________________________________________________________________\n",
      "gpooling (GlobalAveragePooli (None, 512)               0         \n",
      "_________________________________________________________________\n",
      "dropout (Dropout)            (None, 512)               0         \n",
      "_________________________________________________________________\n",
      "dense (Dense)                (None, 128)               65664     \n",
      "_________________________________________________________________\n",
      "dropout_1 (Dropout)          (None, 128)               0         \n",
      "_________________________________________________________________\n",
      "dense_1 (Dense)              (None, 14)                1806      \n",
      "=================================================================\n",
      "Total params: 20,091,854\n",
      "Trainable params: 67,470\n",
      "Non-trainable params: 20,024,384\n",
      "_________________________________________________________________\n"
     ]
    }
   ],
   "source": [
    "# transfer learning, import VGG and build model\n",
    "\n",
    "\n",
    "supernet = tfk.applications.VGG19(\n",
    "    # remove classifier, only get fearure extractor\n",
    "    include_top=False,\n",
    "    weights=\"imagenet\",\n",
    "    input_shape=input_shape\n",
    ")\n",
    "\n",
    "supernet.trainable = False\n",
    "\n",
    "\n",
    "inputs = tfk.Input(shape=input_shape)\n",
    "x = supernet(inputs)\n",
    "x = tfkl.GlobalAveragePooling2D(name='gpooling')(x)\n",
    "#x = tfkl.Flatten(name='Flattening')(x)\n",
    "x = tfkl.Dropout(0.3, seed=seed)(x)\n",
    "x = tfkl.Dense(\n",
    "    128, \n",
    "    activation='relu',\n",
    "    kernel_initializer = tfk.initializers.GlorotUniform(seed))(x)\n",
    "x = tfkl.Dropout(0.3, seed=seed)(x)\n",
    "outputs = tfkl.Dense(\n",
    "    14, \n",
    "    activation='softmax',\n",
    "    kernel_initializer = tfk.initializers.GlorotUniform(seed))(x)\n",
    "\n",
    "model = tfk.Model(inputs=inputs, outputs=outputs, name='model_transfer_learning_GAP')\n",
    "model.compile(loss=tfk.losses.CategoricalCrossentropy(), optimizer=tfk.optimizers.Adam(1e-3), metrics='accuracy')\n",
    "\n",
    "\n",
    "\n",
    "for i, layer in enumerate(model.get_layer('vgg19').layers):\n",
    "   print(i, layer.name, layer.trainable)\n",
    "model.summary()"
   ]
  },
  {
   "cell_type": "code",
   "execution_count": 8,
   "id": "3659136d",
   "metadata": {
    "execution": {
     "iopub.execute_input": "2021-11-26T11:08:02.591643Z",
     "iopub.status.busy": "2021-11-26T11:08:02.590823Z",
     "iopub.status.idle": "2021-11-26T11:30:55.068140Z",
     "shell.execute_reply": "2021-11-26T11:30:55.067606Z",
     "shell.execute_reply.started": "2021-11-26T10:37:53.405802Z"
    },
    "gradient": {
     "execution_count": 8,
     "id": "3659136d",
     "kernelId": ""
    },
    "id": "iFe_ux1q2S6H",
    "outputId": "fd35686c-d8a2-4bc2-c3a9-ea89d39d4624",
    "papermill": {
     "duration": 1372.509899,
     "end_time": "2021-11-26T11:30:55.068302",
     "exception": false,
     "start_time": "2021-11-26T11:08:02.558403",
     "status": "completed"
    },
    "tags": []
   },
   "outputs": [
    {
     "name": "stdout",
     "output_type": "stream",
     "text": [
      "Model: \"model_transfer_learning_GAP\"\n",
      "_________________________________________________________________\n",
      "Layer (type)                 Output Shape              Param #   \n",
      "=================================================================\n",
      "input_2 (InputLayer)         [(None, 256, 256, 3)]     0         \n",
      "_________________________________________________________________\n",
      "vgg19 (Functional)           (None, 8, 8, 512)         20024384  \n",
      "_________________________________________________________________\n",
      "gpooling (GlobalAveragePooli (None, 512)               0         \n",
      "_________________________________________________________________\n",
      "dropout (Dropout)            (None, 512)               0         \n",
      "_________________________________________________________________\n",
      "dense (Dense)                (None, 128)               65664     \n",
      "_________________________________________________________________\n",
      "dropout_1 (Dropout)          (None, 128)               0         \n",
      "_________________________________________________________________\n",
      "dense_1 (Dense)              (None, 14)                1806      \n",
      "=================================================================\n",
      "Total params: 20,091,854\n",
      "Trainable params: 67,470\n",
      "Non-trainable params: 20,024,384\n",
      "_________________________________________________________________\n",
      "starting at  2021-11-28 09:53:28.501213\n"
     ]
    },
    {
     "name": "stderr",
     "output_type": "stream",
     "text": [
      "2021-11-28 09:53:29.192913: I tensorflow/compiler/mlir/mlir_graph_optimization_pass.cc:185] None of the MLIR Optimization Passes are enabled (registered 2)\n"
     ]
    },
    {
     "name": "stdout",
     "output_type": "stream",
     "text": [
      "Epoch 1/10\n"
     ]
    },
    {
     "name": "stderr",
     "output_type": "stream",
     "text": [
      "2021-11-28 09:53:31.184686: I tensorflow/stream_executor/cuda/cuda_dnn.cc:381] Loaded cuDNN version 8204\n"
     ]
    },
    {
     "name": "stdout",
     "output_type": "stream",
     "text": [
      "  1/145 [..............................] - ETA: 37:22 - loss: 6.5321 - accuracy: 0.0938"
     ]
    },
    {
     "name": "stderr",
     "output_type": "stream",
     "text": [
      "2021-11-28 09:53:44.778162: I tensorflow/stream_executor/cuda/cuda_blas.cc:1760] TensorFloat-32 will be used for the matrix multiplication. This will only be logged once.\n"
     ]
    },
    {
     "name": "stdout",
     "output_type": "stream",
     "text": [
      "145/145 [==============================] - 128s 784ms/step - loss: 1.6482 - accuracy: 0.5549 - val_loss: 0.4690 - val_accuracy: 0.8764\n",
      "Epoch 2/10\n",
      "145/145 [==============================] - 75s 519ms/step - loss: 0.6816 - accuracy: 0.7810 - val_loss: 0.2771 - val_accuracy: 0.9205\n",
      "Epoch 3/10\n",
      "145/145 [==============================] - 68s 470ms/step - loss: 0.5063 - accuracy: 0.8341 - val_loss: 0.2276 - val_accuracy: 0.9357\n",
      "Epoch 4/10\n",
      "145/145 [==============================] - 68s 471ms/step - loss: 0.4289 - accuracy: 0.8603 - val_loss: 0.1789 - val_accuracy: 0.9484\n",
      "Epoch 5/10\n",
      "145/145 [==============================] - 69s 472ms/step - loss: 0.3795 - accuracy: 0.8761 - val_loss: 0.1598 - val_accuracy: 0.9533\n",
      "Epoch 6/10\n",
      "145/145 [==============================] - 69s 472ms/step - loss: 0.3403 - accuracy: 0.8865 - val_loss: 0.1570 - val_accuracy: 0.9541\n",
      "Epoch 7/10\n",
      "145/145 [==============================] - 69s 472ms/step - loss: 0.3191 - accuracy: 0.8964 - val_loss: 0.1430 - val_accuracy: 0.9606\n",
      "Epoch 8/10\n",
      "145/145 [==============================] - 69s 472ms/step - loss: 0.2958 - accuracy: 0.9032 - val_loss: 0.1359 - val_accuracy: 0.9633\n",
      "Epoch 9/10\n",
      "145/145 [==============================] - 68s 471ms/step - loss: 0.2830 - accuracy: 0.9061 - val_loss: 0.1371 - val_accuracy: 0.9607\n",
      "Epoch 10/10\n",
      "145/145 [==============================] - 69s 471ms/step - loss: 0.2701 - accuracy: 0.9122 - val_loss: 0.1194 - val_accuracy: 0.9669\n"
     ]
    }
   ],
   "source": [
    "# Create folders and callbacks and fit\n",
    "#model = tfk.models.load_model(\"C:/Users/Riccardo/Downloads/10526141_10534455_2R/SubmissionModel\")\n",
    "model.summary()\n",
    "aug_callbacks = create_folders_and_callbacks(model_name='transfer_gap')\n",
    "print(\"starting at \", datetime.now())\n",
    "# Train the model\n",
    "history = model.fit(\n",
    "    x = train_gen,\n",
    "    epochs = epochs_dense,\n",
    "    validation_data = valid_gen,\n",
    "    callbacks = aug_callbacks,\n",
    ").history"
   ]
  },
  {
   "cell_type": "code",
   "execution_count": 9,
   "id": "bd6f005b",
   "metadata": {
    "execution": {
     "iopub.execute_input": "2021-11-26T11:30:55.885448Z",
     "iopub.status.busy": "2021-11-26T11:30:55.879667Z",
     "iopub.status.idle": "2021-11-26T11:30:59.638829Z",
     "shell.execute_reply": "2021-11-26T11:30:59.639243Z",
     "shell.execute_reply.started": "2021-11-26T11:01:24.507727Z"
    },
    "gradient": {
     "execution_count": 9,
     "id": "bd6f005b",
     "kernelId": ""
    },
    "papermill": {
     "duration": 4.170956,
     "end_time": "2021-11-26T11:30:59.639396",
     "exception": false,
     "start_time": "2021-11-26T11:30:55.468440",
     "status": "completed"
    },
    "scrolled": true,
    "tags": []
   },
   "outputs": [
    {
     "name": "stderr",
     "output_type": "stream",
     "text": [
      "2021-11-28 10:07:25.232100: W tensorflow/python/util/util.cc:348] Sets are not currently considered sequences, but this may change in the future, so consider avoiding using them.\n"
     ]
    },
    {
     "name": "stdout",
     "output_type": "stream",
     "text": [
      "INFO:tensorflow:Assets written to: model_dense_trained_final_noaugNov28_h10_m07_s24/assets\n",
      "model saved\n"
     ]
    }
   ],
   "source": [
    "model_file_name = \"model_dense_trained_final_noaug\" + datetime.now().strftime('%b%d_h%H_m%M_s%S')\n",
    "model.save(model_file_name)\n",
    "print(\"model saved\")"
   ]
  },
  {
   "cell_type": "code",
   "execution_count": 10,
   "id": "e424397f",
   "metadata": {
    "execution": {
     "iopub.execute_input": "2021-11-26T11:31:00.447064Z",
     "iopub.status.busy": "2021-11-26T11:31:00.446234Z",
     "iopub.status.idle": "2021-11-26T11:31:00.463293Z",
     "shell.execute_reply": "2021-11-26T11:31:00.462820Z",
     "shell.execute_reply.started": "2021-11-26T11:06:42.951632Z"
    },
    "gradient": {
     "execution_count": 10,
     "id": "e424397f",
     "kernelId": ""
    },
    "papermill": {
     "duration": 0.421835,
     "end_time": "2021-11-26T11:31:00.463411",
     "exception": false,
     "start_time": "2021-11-26T11:31:00.041576",
     "status": "completed"
    },
    "tags": []
   },
   "outputs": [
    {
     "name": "stdout",
     "output_type": "stream",
     "text": [
      "0 input_1 False\n",
      "1 block1_conv1 False\n",
      "2 block1_conv2 False\n",
      "3 block1_pool False\n",
      "4 block2_conv1 False\n",
      "5 block2_conv2 False\n",
      "6 block2_pool False\n",
      "7 block3_conv1 False\n",
      "8 block3_conv2 False\n",
      "9 block3_conv3 False\n",
      "10 block3_conv4 False\n",
      "11 block3_pool True\n",
      "12 block4_conv1 True\n",
      "13 block4_conv2 True\n",
      "14 block4_conv3 True\n",
      "15 block4_conv4 True\n",
      "16 block4_pool True\n",
      "17 block5_conv1 True\n",
      "18 block5_conv2 True\n",
      "19 block5_conv3 True\n",
      "20 block5_conv4 True\n",
      "21 block5_pool True\n",
      "Model: \"model_transfer_learning_GAP\"\n",
      "_________________________________________________________________\n",
      "Layer (type)                 Output Shape              Param #   \n",
      "=================================================================\n",
      "input_2 (InputLayer)         [(None, 256, 256, 3)]     0         \n",
      "_________________________________________________________________\n",
      "vgg19 (Functional)           (None, 8, 8, 512)         20024384  \n",
      "_________________________________________________________________\n",
      "gpooling (GlobalAveragePooli (None, 512)               0         \n",
      "_________________________________________________________________\n",
      "dropout (Dropout)            (None, 512)               0         \n",
      "_________________________________________________________________\n",
      "dense (Dense)                (None, 128)               65664     \n",
      "_________________________________________________________________\n",
      "dropout_1 (Dropout)          (None, 128)               0         \n",
      "_________________________________________________________________\n",
      "dense_1 (Dense)              (None, 14)                1806      \n",
      "=================================================================\n",
      "Total params: 20,091,854\n",
      "Trainable params: 17,766,286\n",
      "Non-trainable params: 2,325,568\n",
      "_________________________________________________________________\n",
      "Learning rate before update: 0.001\n",
      "Learning rate after update: 1e-04\n"
     ]
    }
   ],
   "source": [
    "# make last classifier layer trainable for fine tuning\n",
    "model.get_layer('vgg19').trainable = True\n",
    "\n",
    "for i, layer in enumerate(model.get_layer('vgg19').layers[:11]):\n",
    "   layer.trainable = False\n",
    "\n",
    "for i, layer in enumerate(model.get_layer('vgg19').layers):\n",
    "   print(i, layer.name, layer.trainable)\n",
    "model.summary()\n",
    "\n",
    "# lower learning rate\n",
    "from keras import backend as K\n",
    "\n",
    "print(\"Learning rate before update:\", model.optimizer.learning_rate.numpy())\n",
    "\n",
    "K.set_value(model.optimizer.learning_rate, 1e-4)\n",
    "\n",
    "print(\"Learning rate after update:\", model.optimizer.learning_rate.numpy())"
   ]
  },
  {
   "cell_type": "code",
   "execution_count": 11,
   "id": "5527ad29",
   "metadata": {
    "execution": {
     "iopub.execute_input": "2021-11-26T11:31:01.323770Z",
     "iopub.status.busy": "2021-11-26T11:31:01.322244Z",
     "iopub.status.idle": "2021-11-26T15:51:10.059327Z",
     "shell.execute_reply": "2021-11-26T15:51:10.059750Z",
     "shell.execute_reply.started": "2021-11-26T11:01:29.113492Z"
    },
    "gradient": {
     "id": "5527ad29",
     "kernelId": ""
    },
    "papermill": {
     "duration": 15609.160233,
     "end_time": "2021-11-26T15:51:10.059916",
     "exception": false,
     "start_time": "2021-11-26T11:31:00.899683",
     "status": "completed"
    },
    "tags": []
   },
   "outputs": [
    {
     "name": "stdout",
     "output_type": "stream",
     "text": [
      "Epoch 11/125\n",
      "145/145 [==============================] - 65s 449ms/step - loss: 0.2419 - accuracy: 0.9207 - val_loss: 0.1159 - val_accuracy: 0.9670\n",
      "Epoch 12/125\n",
      "145/145 [==============================] - 68s 466ms/step - loss: 0.2398 - accuracy: 0.9195 - val_loss: 0.1147 - val_accuracy: 0.9683\n",
      "Epoch 13/125\n",
      "145/145 [==============================] - 67s 462ms/step - loss: 0.2338 - accuracy: 0.9208 - val_loss: 0.1133 - val_accuracy: 0.9669\n",
      "Epoch 14/125\n",
      "145/145 [==============================] - 68s 471ms/step - loss: 0.2401 - accuracy: 0.9216 - val_loss: 0.1133 - val_accuracy: 0.9675\n",
      "Epoch 15/125\n",
      "145/145 [==============================] - 68s 471ms/step - loss: 0.2318 - accuracy: 0.9229 - val_loss: 0.1116 - val_accuracy: 0.9678\n",
      "Epoch 16/125\n",
      "145/145 [==============================] - 69s 473ms/step - loss: 0.2339 - accuracy: 0.9223 - val_loss: 0.1116 - val_accuracy: 0.9678\n",
      "Epoch 17/125\n",
      "145/145 [==============================] - 69s 472ms/step - loss: 0.2299 - accuracy: 0.9240 - val_loss: 0.1102 - val_accuracy: 0.9680\n",
      "Epoch 18/125\n",
      "145/145 [==============================] - 68s 471ms/step - loss: 0.2274 - accuracy: 0.9246 - val_loss: 0.1093 - val_accuracy: 0.9678\n",
      "Epoch 19/125\n",
      "145/145 [==============================] - 68s 470ms/step - loss: 0.2278 - accuracy: 0.9244 - val_loss: 0.1095 - val_accuracy: 0.9685\n",
      "Epoch 20/125\n",
      "145/145 [==============================] - 69s 471ms/step - loss: 0.2262 - accuracy: 0.9252 - val_loss: 0.1082 - val_accuracy: 0.9686\n",
      "Epoch 21/125\n",
      "145/145 [==============================] - 69s 472ms/step - loss: 0.2274 - accuracy: 0.9238 - val_loss: 0.1097 - val_accuracy: 0.9686\n",
      "Epoch 22/125\n",
      "145/145 [==============================] - 69s 472ms/step - loss: 0.2217 - accuracy: 0.9272 - val_loss: 0.1071 - val_accuracy: 0.9680\n",
      "Epoch 23/125\n",
      "145/145 [==============================] - 68s 470ms/step - loss: 0.2218 - accuracy: 0.9250 - val_loss: 0.1050 - val_accuracy: 0.9696\n",
      "Epoch 24/125\n",
      "145/145 [==============================] - 68s 471ms/step - loss: 0.2270 - accuracy: 0.9255 - val_loss: 0.1061 - val_accuracy: 0.9690\n",
      "Epoch 25/125\n",
      "145/145 [==============================] - 67s 462ms/step - loss: 0.2113 - accuracy: 0.9303 - val_loss: 0.1049 - val_accuracy: 0.9696\n",
      "Epoch 26/125\n",
      "145/145 [==============================] - 67s 462ms/step - loss: 0.2180 - accuracy: 0.9288 - val_loss: 0.1040 - val_accuracy: 0.9704\n",
      "Epoch 27/125\n",
      "145/145 [==============================] - 69s 471ms/step - loss: 0.2152 - accuracy: 0.9286 - val_loss: 0.1042 - val_accuracy: 0.9695\n",
      "Epoch 28/125\n",
      "145/145 [==============================] - 69s 471ms/step - loss: 0.2154 - accuracy: 0.9258 - val_loss: 0.1032 - val_accuracy: 0.9703\n",
      "Epoch 29/125\n",
      "145/145 [==============================] - 69s 472ms/step - loss: 0.2080 - accuracy: 0.9291 - val_loss: 0.1024 - val_accuracy: 0.9709\n",
      "Epoch 30/125\n",
      "145/145 [==============================] - 69s 471ms/step - loss: 0.2124 - accuracy: 0.9312 - val_loss: 0.1020 - val_accuracy: 0.9699\n",
      "Epoch 31/125\n",
      "145/145 [==============================] - 69s 471ms/step - loss: 0.2130 - accuracy: 0.9271 - val_loss: 0.1029 - val_accuracy: 0.9703\n",
      "Epoch 32/125\n",
      "145/145 [==============================] - 69s 472ms/step - loss: 0.2059 - accuracy: 0.9303 - val_loss: 0.1021 - val_accuracy: 0.9703\n",
      "Epoch 33/125\n",
      "145/145 [==============================] - 69s 472ms/step - loss: 0.2121 - accuracy: 0.9281 - val_loss: 0.1014 - val_accuracy: 0.9714\n",
      "Epoch 34/125\n",
      "145/145 [==============================] - 69s 471ms/step - loss: 0.2085 - accuracy: 0.9296 - val_loss: 0.1007 - val_accuracy: 0.9709\n",
      "Epoch 35/125\n",
      "145/145 [==============================] - 69s 471ms/step - loss: 0.2104 - accuracy: 0.9305 - val_loss: 0.1003 - val_accuracy: 0.9714\n",
      "Epoch 36/125\n",
      "145/145 [==============================] - 68s 471ms/step - loss: 0.2110 - accuracy: 0.9305 - val_loss: 0.1006 - val_accuracy: 0.9701\n",
      "Epoch 37/125\n",
      "145/145 [==============================] - 69s 472ms/step - loss: 0.2022 - accuracy: 0.9305 - val_loss: 0.0991 - val_accuracy: 0.9717\n",
      "Epoch 38/125\n",
      "145/145 [==============================] - 71s 486ms/step - loss: 0.2033 - accuracy: 0.9318 - val_loss: 0.0997 - val_accuracy: 0.9722\n",
      "Epoch 39/125\n",
      "145/145 [==============================] - 68s 470ms/step - loss: 0.2090 - accuracy: 0.9286 - val_loss: 0.1005 - val_accuracy: 0.9719\n",
      "Epoch 40/125\n",
      "145/145 [==============================] - 69s 474ms/step - loss: 0.2065 - accuracy: 0.9307 - val_loss: 0.0995 - val_accuracy: 0.9717\n",
      "Epoch 41/125\n",
      "145/145 [==============================] - 67s 464ms/step - loss: 0.1997 - accuracy: 0.9333 - val_loss: 0.0975 - val_accuracy: 0.9719\n",
      "Epoch 42/125\n",
      "145/145 [==============================] - 69s 472ms/step - loss: 0.1960 - accuracy: 0.9351 - val_loss: 0.0975 - val_accuracy: 0.9714\n",
      "Epoch 43/125\n",
      "145/145 [==============================] - 69s 472ms/step - loss: 0.2000 - accuracy: 0.9318 - val_loss: 0.0984 - val_accuracy: 0.9716\n",
      "Epoch 44/125\n",
      "145/145 [==============================] - 69s 472ms/step - loss: 0.1914 - accuracy: 0.9353 - val_loss: 0.0965 - val_accuracy: 0.9724\n",
      "Epoch 45/125\n",
      "145/145 [==============================] - 69s 472ms/step - loss: 0.2008 - accuracy: 0.9336 - val_loss: 0.0979 - val_accuracy: 0.9719\n",
      "Epoch 46/125\n",
      "145/145 [==============================] - 69s 472ms/step - loss: 0.1981 - accuracy: 0.9355 - val_loss: 0.0958 - val_accuracy: 0.9720\n",
      "Epoch 47/125\n",
      "145/145 [==============================] - 69s 472ms/step - loss: 0.2023 - accuracy: 0.9327 - val_loss: 0.0969 - val_accuracy: 0.9719\n",
      "Epoch 48/125\n",
      "145/145 [==============================] - 69s 472ms/step - loss: 0.1881 - accuracy: 0.9396 - val_loss: 0.0961 - val_accuracy: 0.9725\n",
      "Epoch 49/125\n",
      "145/145 [==============================] - 69s 471ms/step - loss: 0.1915 - accuracy: 0.9364 - val_loss: 0.0963 - val_accuracy: 0.9717\n",
      "Epoch 50/125\n",
      "145/145 [==============================] - 69s 472ms/step - loss: 0.1933 - accuracy: 0.9359 - val_loss: 0.0953 - val_accuracy: 0.9727\n",
      "Epoch 51/125\n",
      "145/145 [==============================] - 67s 463ms/step - loss: 0.1934 - accuracy: 0.9364 - val_loss: 0.0956 - val_accuracy: 0.9717\n",
      "Epoch 52/125\n",
      "145/145 [==============================] - 69s 472ms/step - loss: 0.1902 - accuracy: 0.9359 - val_loss: 0.0945 - val_accuracy: 0.9730\n",
      "Epoch 53/125\n",
      "145/145 [==============================] - 69s 472ms/step - loss: 0.1900 - accuracy: 0.9375 - val_loss: 0.0947 - val_accuracy: 0.9719\n",
      "Epoch 54/125\n",
      "145/145 [==============================] - 69s 472ms/step - loss: 0.1891 - accuracy: 0.9367 - val_loss: 0.0930 - val_accuracy: 0.9725\n",
      "Epoch 55/125\n",
      "145/145 [==============================] - 69s 472ms/step - loss: 0.1881 - accuracy: 0.9357 - val_loss: 0.0931 - val_accuracy: 0.9725\n",
      "Epoch 56/125\n",
      "145/145 [==============================] - 69s 472ms/step - loss: 0.1926 - accuracy: 0.9367 - val_loss: 0.0930 - val_accuracy: 0.9732\n",
      "Epoch 57/125\n",
      "145/145 [==============================] - 69s 471ms/step - loss: 0.1820 - accuracy: 0.9400 - val_loss: 0.0937 - val_accuracy: 0.9735\n",
      "Epoch 58/125\n",
      "145/145 [==============================] - 69s 472ms/step - loss: 0.1750 - accuracy: 0.9396 - val_loss: 0.0919 - val_accuracy: 0.9732\n",
      "Epoch 59/125\n",
      "145/145 [==============================] - 67s 464ms/step - loss: 0.1849 - accuracy: 0.9390 - val_loss: 0.0919 - val_accuracy: 0.9737\n",
      "Epoch 60/125\n",
      "145/145 [==============================] - 69s 472ms/step - loss: 0.1815 - accuracy: 0.9404 - val_loss: 0.0922 - val_accuracy: 0.9725\n",
      "Epoch 61/125\n",
      "145/145 [==============================] - 86s 595ms/step - loss: 0.1847 - accuracy: 0.9391 - val_loss: 0.0923 - val_accuracy: 0.9730\n",
      "Epoch 62/125\n",
      "145/145 [==============================] - 161s 1s/step - loss: 0.1834 - accuracy: 0.9387 - val_loss: 0.0916 - val_accuracy: 0.9730\n",
      "Epoch 63/125\n",
      "145/145 [==============================] - 66s 451ms/step - loss: 0.1789 - accuracy: 0.9402 - val_loss: 0.0917 - val_accuracy: 0.9728\n",
      "Epoch 64/125\n",
      "145/145 [==============================] - 68s 470ms/step - loss: 0.1819 - accuracy: 0.9388 - val_loss: 0.0910 - val_accuracy: 0.9732\n",
      "Epoch 65/125\n",
      "145/145 [==============================] - 69s 472ms/step - loss: 0.1799 - accuracy: 0.9400 - val_loss: 0.0901 - val_accuracy: 0.9728\n",
      "Epoch 66/125\n",
      "145/145 [==============================] - 69s 472ms/step - loss: 0.1777 - accuracy: 0.9406 - val_loss: 0.0899 - val_accuracy: 0.9733\n",
      "Epoch 67/125\n",
      "145/145 [==============================] - 69s 472ms/step - loss: 0.1816 - accuracy: 0.9381 - val_loss: 0.0915 - val_accuracy: 0.9730\n",
      "Epoch 68/125\n",
      "145/145 [==============================] - 69s 472ms/step - loss: 0.1746 - accuracy: 0.9413 - val_loss: 0.0894 - val_accuracy: 0.9732\n",
      "Epoch 69/125\n",
      "145/145 [==============================] - 69s 472ms/step - loss: 0.1775 - accuracy: 0.9399 - val_loss: 0.0897 - val_accuracy: 0.9732\n",
      "Epoch 70/125\n",
      "145/145 [==============================] - 69s 472ms/step - loss: 0.1770 - accuracy: 0.9411 - val_loss: 0.0895 - val_accuracy: 0.9728\n",
      "Epoch 71/125\n",
      "145/145 [==============================] - 67s 464ms/step - loss: 0.1758 - accuracy: 0.9422 - val_loss: 0.0887 - val_accuracy: 0.9737\n",
      "Epoch 72/125\n",
      "145/145 [==============================] - 69s 473ms/step - loss: 0.1748 - accuracy: 0.9420 - val_loss: 0.0894 - val_accuracy: 0.9725\n",
      "Epoch 73/125\n",
      "145/145 [==============================] - 68s 465ms/step - loss: 0.1710 - accuracy: 0.9427 - val_loss: 0.0887 - val_accuracy: 0.9740\n",
      "Epoch 74/125\n",
      "145/145 [==============================] - 69s 473ms/step - loss: 0.1671 - accuracy: 0.9441 - val_loss: 0.0888 - val_accuracy: 0.9725\n",
      "Epoch 75/125\n",
      "145/145 [==============================] - 69s 473ms/step - loss: 0.1695 - accuracy: 0.9443 - val_loss: 0.0883 - val_accuracy: 0.9737\n",
      "Epoch 76/125\n",
      "145/145 [==============================] - 69s 472ms/step - loss: 0.1705 - accuracy: 0.9424 - val_loss: 0.0879 - val_accuracy: 0.9738\n",
      "Epoch 77/125\n",
      "145/145 [==============================] - 69s 472ms/step - loss: 0.1671 - accuracy: 0.9439 - val_loss: 0.0884 - val_accuracy: 0.9741\n",
      "Epoch 78/125\n",
      "145/145 [==============================] - 69s 472ms/step - loss: 0.1667 - accuracy: 0.9451 - val_loss: 0.0870 - val_accuracy: 0.9730\n",
      "Epoch 79/125\n",
      "145/145 [==============================] - 69s 472ms/step - loss: 0.1637 - accuracy: 0.9447 - val_loss: 0.0887 - val_accuracy: 0.9732\n",
      "Epoch 80/125\n",
      "145/145 [==============================] - 69s 472ms/step - loss: 0.1696 - accuracy: 0.9450 - val_loss: 0.0880 - val_accuracy: 0.9741\n",
      "Epoch 81/125\n",
      "145/145 [==============================] - 69s 471ms/step - loss: 0.1680 - accuracy: 0.9434 - val_loss: 0.0880 - val_accuracy: 0.9745\n",
      "Epoch 82/125\n",
      "145/145 [==============================] - 69s 472ms/step - loss: 0.1628 - accuracy: 0.9454 - val_loss: 0.0871 - val_accuracy: 0.9745\n",
      "Epoch 83/125\n",
      "145/145 [==============================] - 69s 472ms/step - loss: 0.1686 - accuracy: 0.9443 - val_loss: 0.0869 - val_accuracy: 0.9741\n",
      "Epoch 84/125\n",
      "145/145 [==============================] - 68s 471ms/step - loss: 0.1765 - accuracy: 0.9405 - val_loss: 0.0878 - val_accuracy: 0.9748\n",
      "Epoch 85/125\n",
      "145/145 [==============================] - 69s 472ms/step - loss: 0.1636 - accuracy: 0.9447 - val_loss: 0.0873 - val_accuracy: 0.9741\n",
      "Epoch 86/125\n",
      "145/145 [==============================] - 69s 472ms/step - loss: 0.1652 - accuracy: 0.9435 - val_loss: 0.0864 - val_accuracy: 0.9756\n",
      "Epoch 87/125\n",
      "145/145 [==============================] - 69s 472ms/step - loss: 0.1694 - accuracy: 0.9429 - val_loss: 0.0867 - val_accuracy: 0.9751\n",
      "Epoch 88/125\n",
      "145/145 [==============================] - 69s 472ms/step - loss: 0.1629 - accuracy: 0.9447 - val_loss: 0.0860 - val_accuracy: 0.9746\n",
      "Epoch 89/125\n",
      "145/145 [==============================] - 68s 471ms/step - loss: 0.1610 - accuracy: 0.9457 - val_loss: 0.0853 - val_accuracy: 0.9745\n",
      "Epoch 90/125\n",
      "145/145 [==============================] - 69s 471ms/step - loss: 0.1601 - accuracy: 0.9464 - val_loss: 0.0853 - val_accuracy: 0.9749\n",
      "Epoch 91/125\n",
      "145/145 [==============================] - 71s 485ms/step - loss: 0.1613 - accuracy: 0.9465 - val_loss: 0.0867 - val_accuracy: 0.9740\n",
      "Epoch 92/125\n",
      "145/145 [==============================] - 68s 470ms/step - loss: 0.1627 - accuracy: 0.9457 - val_loss: 0.0863 - val_accuracy: 0.9735\n",
      "Epoch 93/125\n",
      "145/145 [==============================] - 67s 463ms/step - loss: 0.1551 - accuracy: 0.9476 - val_loss: 0.0856 - val_accuracy: 0.9738\n",
      "Epoch 94/125\n",
      "145/145 [==============================] - 67s 463ms/step - loss: 0.1598 - accuracy: 0.9471 - val_loss: 0.0851 - val_accuracy: 0.9745\n",
      "Epoch 95/125\n",
      "145/145 [==============================] - 69s 472ms/step - loss: 0.1570 - accuracy: 0.9473 - val_loss: 0.0860 - val_accuracy: 0.9751\n",
      "Epoch 96/125\n",
      "145/145 [==============================] - 69s 473ms/step - loss: 0.1578 - accuracy: 0.9475 - val_loss: 0.0842 - val_accuracy: 0.9753\n",
      "Epoch 97/125\n",
      "145/145 [==============================] - 69s 472ms/step - loss: 0.1541 - accuracy: 0.9495 - val_loss: 0.0838 - val_accuracy: 0.9753\n",
      "Epoch 98/125\n",
      "145/145 [==============================] - 72s 494ms/step - loss: 0.1579 - accuracy: 0.9478 - val_loss: 0.0833 - val_accuracy: 0.9759\n",
      "Epoch 99/125\n",
      "145/145 [==============================] - 68s 469ms/step - loss: 0.1535 - accuracy: 0.9477 - val_loss: 0.0845 - val_accuracy: 0.9748\n",
      "Epoch 100/125\n",
      "145/145 [==============================] - 69s 472ms/step - loss: 0.1598 - accuracy: 0.9477 - val_loss: 0.0849 - val_accuracy: 0.9753\n",
      "Epoch 101/125\n",
      "145/145 [==============================] - 69s 472ms/step - loss: 0.1563 - accuracy: 0.9483 - val_loss: 0.0832 - val_accuracy: 0.9751\n",
      "Epoch 102/125\n",
      "145/145 [==============================] - 69s 471ms/step - loss: 0.1498 - accuracy: 0.9491 - val_loss: 0.0838 - val_accuracy: 0.9749\n",
      "Epoch 103/125\n",
      "145/145 [==============================] - 69s 472ms/step - loss: 0.1538 - accuracy: 0.9471 - val_loss: 0.0830 - val_accuracy: 0.9748\n",
      "Epoch 104/125\n",
      "145/145 [==============================] - 69s 472ms/step - loss: 0.1476 - accuracy: 0.9490 - val_loss: 0.0821 - val_accuracy: 0.9749\n",
      "Epoch 105/125\n",
      "145/145 [==============================] - 69s 471ms/step - loss: 0.1493 - accuracy: 0.9483 - val_loss: 0.0817 - val_accuracy: 0.9758\n",
      "Epoch 106/125\n",
      "145/145 [==============================] - 69s 471ms/step - loss: 0.1525 - accuracy: 0.9494 - val_loss: 0.0827 - val_accuracy: 0.9756\n",
      "Epoch 107/125\n",
      "145/145 [==============================] - 69s 472ms/step - loss: 0.1537 - accuracy: 0.9492 - val_loss: 0.0825 - val_accuracy: 0.9749\n",
      "Epoch 108/125\n",
      "145/145 [==============================] - 67s 464ms/step - loss: 0.1579 - accuracy: 0.9464 - val_loss: 0.0829 - val_accuracy: 0.9754\n",
      "Epoch 109/125\n",
      "145/145 [==============================] - 69s 473ms/step - loss: 0.1474 - accuracy: 0.9509 - val_loss: 0.0825 - val_accuracy: 0.9749\n",
      "Epoch 110/125\n",
      "145/145 [==============================] - 68s 464ms/step - loss: 0.1454 - accuracy: 0.9511 - val_loss: 0.0827 - val_accuracy: 0.9764\n",
      "Epoch 111/125\n",
      "145/145 [==============================] - 69s 473ms/step - loss: 0.1549 - accuracy: 0.9476 - val_loss: 0.0830 - val_accuracy: 0.9746\n",
      "Epoch 112/125\n",
      "145/145 [==============================] - 69s 473ms/step - loss: 0.1478 - accuracy: 0.9482 - val_loss: 0.0825 - val_accuracy: 0.9751\n",
      "Epoch 113/125\n",
      "145/145 [==============================] - 69s 473ms/step - loss: 0.1503 - accuracy: 0.9509 - val_loss: 0.0819 - val_accuracy: 0.9756\n",
      "Epoch 114/125\n",
      "145/145 [==============================] - 69s 472ms/step - loss: 0.1477 - accuracy: 0.9505 - val_loss: 0.0822 - val_accuracy: 0.9745\n",
      "Epoch 115/125\n",
      "145/145 [==============================] - 67s 464ms/step - loss: 0.1492 - accuracy: 0.9489 - val_loss: 0.0819 - val_accuracy: 0.9754\n",
      "Epoch 116/125\n",
      "145/145 [==============================] - 68s 464ms/step - loss: 0.1502 - accuracy: 0.9511 - val_loss: 0.0831 - val_accuracy: 0.9746\n",
      "Epoch 117/125\n",
      "145/145 [==============================] - 159s 1s/step - loss: 0.1386 - accuracy: 0.9522 - val_loss: 0.0810 - val_accuracy: 0.9756\n",
      "Epoch 118/125\n",
      "145/145 [==============================] - 87s 596ms/step - loss: 0.1512 - accuracy: 0.9481 - val_loss: 0.0813 - val_accuracy: 0.9753\n",
      "Epoch 119/125\n",
      "145/145 [==============================] - 68s 470ms/step - loss: 0.1479 - accuracy: 0.9508 - val_loss: 0.0814 - val_accuracy: 0.9751\n",
      "Epoch 120/125\n",
      "145/145 [==============================] - 69s 472ms/step - loss: 0.1510 - accuracy: 0.9502 - val_loss: 0.0817 - val_accuracy: 0.9769\n",
      "Epoch 121/125\n",
      "145/145 [==============================] - 69s 474ms/step - loss: 0.1481 - accuracy: 0.9518 - val_loss: 0.0806 - val_accuracy: 0.9764\n",
      "Epoch 122/125\n",
      "145/145 [==============================] - 68s 465ms/step - loss: 0.1410 - accuracy: 0.9526 - val_loss: 0.0806 - val_accuracy: 0.9766\n",
      "Epoch 123/125\n",
      "145/145 [==============================] - 69s 472ms/step - loss: 0.1499 - accuracy: 0.9495 - val_loss: 0.0798 - val_accuracy: 0.9772\n",
      "Epoch 124/125\n",
      "145/145 [==============================] - 69s 472ms/step - loss: 0.1518 - accuracy: 0.9497 - val_loss: 0.0803 - val_accuracy: 0.9772\n",
      "Epoch 125/125\n",
      "145/145 [==============================] - 69s 473ms/step - loss: 0.1481 - accuracy: 0.9486 - val_loss: 0.0820 - val_accuracy: 0.9767\n"
     ]
    }
   ],
   "source": [
    "history = model.fit(\n",
    "    x = train_gen,\n",
    "    initial_epoch = 10,\n",
    "    epochs = epochs_finetuning,\n",
    "    validation_data = valid_gen,\n",
    "    callbacks = aug_callbacks,\n",
    "    #class_weight = class_weights_dict\n",
    ").history"
   ]
  },
  {
   "cell_type": "code",
   "execution_count": 12,
   "id": "76c377f9",
   "metadata": {
    "execution": {
     "iopub.execute_input": "2021-11-26T15:51:20.786770Z",
     "iopub.status.busy": "2021-11-26T15:51:20.785908Z",
     "iopub.status.idle": "2021-11-26T15:51:27.997387Z",
     "shell.execute_reply": "2021-11-26T15:51:27.993420Z",
     "shell.execute_reply.started": "2021-11-26T11:06:17.520126Z"
    },
    "gradient": {
     "id": "76c377f9",
     "kernelId": ""
    },
    "id": "ANI8F1pPwHIm",
    "papermill": {
     "duration": 13.00535,
     "end_time": "2021-11-26T15:51:27.997652",
     "exception": false,
     "start_time": "2021-11-26T15:51:14.992302",
     "status": "completed"
    },
    "tags": []
   },
   "outputs": [
    {
     "name": "stdout",
     "output_type": "stream",
     "text": [
      "INFO:tensorflow:Assets written to: model_finetune_trained_final_Nov28_h12_m30_s23/assets\n",
      "model saved\n",
      "  adding: model_finetune_trained_final_Nov28_h12_m30_s23/ (stored 0%)\n",
      "  adding: model_finetune_trained_final_Nov28_h12_m30_s23/assets/ (stored 0%)\n",
      "  adding: model_finetune_trained_final_Nov28_h12_m30_s23/variables/ (stored 0%)\n",
      "  adding: model_finetune_trained_final_Nov28_h12_m30_s23/variables/variables.data-00000-of-00001 (deflated 7%)\n",
      "  adding: model_finetune_trained_final_Nov28_h12_m30_s23/variables/variables.index (deflated 66%)\n",
      "  adding: model_finetune_trained_final_Nov28_h12_m30_s23/saved_model.pb (deflated 90%)\n",
      "  adding: model_finetune_trained_final_Nov28_h12_m30_s23/keras_metadata.pb (deflated 96%)\n"
     ]
    },
    {
     "data": {
      "text/plain": [
       "0"
      ]
     },
     "execution_count": 12,
     "metadata": {},
     "output_type": "execute_result"
    }
   ],
   "source": [
    "model_file_name = \"model_finetune_trained_final_\" + datetime.now().strftime('%b%d_h%H_m%M_s%S')\n",
    "model.save(model_file_name)\n",
    "print(\"model saved\")\n",
    "os.system(f\"zip -r best_model_vgg19_final.zip ./{model_file_name}\")"
   ]
  },
  {
   "cell_type": "code",
   "execution_count": 31,
   "id": "1e3b86ad",
   "metadata": {
    "execution": {
     "iopub.execute_input": "2021-11-26T15:51:38.169808Z",
     "iopub.status.busy": "2021-11-26T15:51:38.163828Z",
     "iopub.status.idle": "2021-11-26T15:52:05.406226Z",
     "shell.execute_reply": "2021-11-26T15:52:05.406645Z",
     "shell.execute_reply.started": "2021-11-26T11:06:17.522551Z"
    },
    "gradient": {
     "id": "1e3b86ad",
     "kernelId": ""
    },
    "id": "Ywph_RSZwPs0",
    "papermill": {
     "duration": 32.179572,
     "end_time": "2021-11-26T15:52:05.406814",
     "exception": false,
     "start_time": "2021-11-26T15:51:33.227242",
     "status": "completed"
    },
    "tags": []
   },
   "outputs": [
    {
     "name": "stderr",
     "output_type": "stream",
     "text": [
      "/usr/local/lib/python3.8/dist-packages/keras/engine/training.py:2035: UserWarning: `Model.predict_generator` is deprecated and will be removed in a future version. Please use `Model.predict`, which supports generators.\n",
      "  warnings.warn('`Model.predict_generator` is deprecated and '\n"
     ]
    },
    {
     "name": "stdout",
     "output_type": "stream",
     "text": [
      "Confusion Matrix:\n",
      "[[ 342    2    9    0    0    1    7    1    0    0    5    1    1    3]\n",
      " [   1  236    1    0    0    1    0    0    0    1    1    0    0    1]\n",
      " [   3    0  261    0    0    0    1    2    0    2    0    1    0    1]\n",
      " [   0    0    0  427    0    0    0    0    0    0    0    0    0    0]\n",
      " [   0    0    0    0  484    0    0    0    0    1    0    0    4    1]\n",
      " [   0    0    1    0    0  558    1    1    0    0    1    0    0    0]\n",
      " [   2    0    0    0    0    1  363    1    0    0    0    1    0    2]\n",
      " [   3    2    0    0    0    1    1  304    0    0    3    0    1    2]\n",
      " [   2    0    0    0    0    0    1    1  286    0    5    0    0    9]\n",
      " [   0    0    0    0    0    0    0    0    0  190    0    0    1    0]\n",
      " [   0    1    1    0    0    2    0    2    2    0  520    0    0    1]\n",
      " [   0    0    0    1    0    0    0    0    0    0    0  266    0    2]\n",
      " [   0    0    0    0    0    0    0    0    1    5    0    0  288    0]\n",
      " [   3    1    0    1    1    4    2    4    3    2    5    3    2 1518]]\n",
      "\n",
      "Classification Report:\n",
      "              precision    recall  f1-score   support\n",
      "\n",
      "       Apple       0.96      0.92      0.94       372\n",
      "   Blueberry       0.98      0.98      0.98       242\n",
      "      Cherry       0.96      0.96      0.96       271\n",
      "        Corn       1.00      1.00      1.00       427\n",
      "       Grape       1.00      0.99      0.99       490\n",
      "      Orange       0.98      0.99      0.99       562\n",
      "       Peach       0.97      0.98      0.97       370\n",
      "      Pepper       0.96      0.96      0.96       317\n",
      "      Potato       0.98      0.94      0.96       304\n",
      "   Raspberry       0.95      0.99      0.97       191\n",
      "     Soybean       0.96      0.98      0.97       529\n",
      "      Squash       0.98      0.99      0.98       269\n",
      "  Strawberry       0.97      0.98      0.97       294\n",
      "      Tomato       0.99      0.98      0.98      1549\n",
      "\n",
      "    accuracy                           0.98      6187\n",
      "   macro avg       0.97      0.97      0.97      6187\n",
      "weighted avg       0.98      0.98      0.98      6187\n",
      "\n",
      "49/49 [==============================] - 16s 321ms/step - loss: 0.0820 - accuracy: 0.9767\n"
     ]
    },
    {
     "data": {
      "text/plain": [
       "{'loss': 0.0819513201713562, 'accuracy': 0.9767253994941711}"
      ]
     },
     "execution_count": 31,
     "metadata": {},
     "output_type": "execute_result"
    }
   ],
   "source": [
    "from sklearn.metrics import confusion_matrix, classification_report\n",
    "import seaborn as sns\n",
    "\n",
    "valid_gen.shuffle = False\n",
    "\n",
    "Y_prediction = model.predict_generator(valid_gen, len(valid_gen))\n",
    "# Convert predictions classes to one hot vectors \n",
    "Y_pred_classes = np.argmax(Y_prediction,axis = 1) \n",
    "# Convert validation observations to one hot vectors\n",
    "Y_true = valid_gen.classes\n",
    "# compute the confusion matrix\n",
    "confusion_mtx = confusion_matrix(Y_true, Y_pred_classes)\n",
    "class_report = classification_report(Y_true, Y_pred_classes, \n",
    "                                     target_names=valid_gen.class_indices.keys())  # target_names must be ordered depending on the class labels\n",
    "print('Confusion Matrix:')\n",
    "print(confusion_mtx)\n",
    "print()\n",
    "print('Classification Report:')\n",
    "print(class_report)\n",
    "\n",
    "model.evaluate(valid_gen, return_dict=True)"
   ]
  }
 ],
 "metadata": {
  "kernelspec": {
   "display_name": "Python 3 (ipykernel)",
   "language": "python",
   "name": "python3"
  },
  "language_info": {
   "codemirror_mode": {
    "name": "ipython",
    "version": 3
   },
   "file_extension": ".py",
   "mimetype": "text/x-python",
   "name": "python",
   "nbconvert_exporter": "python",
   "pygments_lexer": "ipython3",
   "version": "3.9.8"
  },
  "papermill": {
   "default_parameters": {},
   "duration": 17104.178937,
   "end_time": "2021-11-26T15:52:24.258870",
   "environment_variables": {},
   "exception": null,
   "input_path": "__notebook__.ipynb",
   "output_path": "__notebook__.ipynb",
   "parameters": {},
   "start_time": "2021-11-26T11:07:20.079933",
   "version": "2.3.3"
  }
 },
 "nbformat": 4,
 "nbformat_minor": 5
}
