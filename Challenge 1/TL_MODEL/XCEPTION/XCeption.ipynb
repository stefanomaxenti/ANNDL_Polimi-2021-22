{
 "cells": [
  {
   "cell_type": "markdown",
   "id": "7fbf24ed-5748-4b62-88ae-ff562f239486",
   "metadata": {},
   "source": [
    "Xception - Transfer Learning Model Implementation - Stefano Maxenti - Riccardo Mencucci - \"team_durian\""
   ]
  },
  {
   "cell_type": "code",
   "execution_count": null,
   "id": "1e215e9b",
   "metadata": {
    "id": "vAemUCDTp1jx",
    "outputId": "38ea8603-f3e0-4686-d4f3-6a913fcdc0ee",
    "papermill": {
     "duration": 0.040319,
     "end_time": "2021-11-26T11:54:56.777206",
     "exception": false,
     "start_time": "2021-11-26T11:54:56.736887",
     "status": "completed"
    },
    "tags": []
   },
   "outputs": [],
   "source": [
    "!pip install --upgrade pip\n",
    "!pip install scipy sklearn pandas seaborn pillow visualkeras"
   ]
  },
  {
   "cell_type": "code",
   "execution_count": 2,
   "id": "e1b39a57",
   "metadata": {
    "id": "pCORnObuqKX3",
    "outputId": "05f5bdfe-a774-4f48-e3c3-9be512f486d6",
    "papermill": {
     "duration": 5.686166,
     "end_time": "2021-11-26T11:55:02.478505",
     "exception": false,
     "start_time": "2021-11-26T11:54:56.792339",
     "status": "completed"
    },
    "tags": []
   },
   "outputs": [
    {
     "name": "stdout",
     "output_type": "stream",
     "text": [
      "2.6.0\n"
     ]
    }
   ],
   "source": [
    "import tensorflow as tf\n",
    "import numpy as np\n",
    "import os\n",
    "import random\n",
    "import time\n",
    "import pandas as pd\n",
    "import seaborn as sns\n",
    "import matplotlib as mpl\n",
    "import matplotlib.pyplot as plt\n",
    "\n",
    "from sklearn.model_selection import train_test_split\n",
    "from sklearn.metrics import mean_squared_error\n",
    "\n",
    "tfk = tf.keras\n",
    "tfkl = tf.keras.layers\n",
    "print(tf.__version__)"
   ]
  },
  {
   "cell_type": "code",
   "execution_count": 3,
   "id": "75d22f15",
   "metadata": {
    "id": "jq0qhGvNqMUX",
    "papermill": {
     "duration": 0.021305,
     "end_time": "2021-11-26T11:55:02.513919",
     "exception": false,
     "start_time": "2021-11-26T11:55:02.492614",
     "status": "completed"
    },
    "tags": []
   },
   "outputs": [],
   "source": [
    "# Random seed for reproducibility\n",
    "seed = 42\n",
    "\n",
    "random.seed(seed)\n",
    "os.environ['PYTHONHASHSEED'] = str(seed)\n",
    "np.random.seed(seed)\n",
    "tf.random.set_seed(seed)\n",
    "tf.compat.v1.set_random_seed(seed)"
   ]
  },
  {
   "cell_type": "code",
   "execution_count": 4,
   "id": "86f71cff",
   "metadata": {
    "id": "T8EK-CEitBIZ",
    "outputId": "1d51a86e-e042-493b-9e20-c2296015014e",
    "papermill": {
     "duration": 0.021044,
     "end_time": "2021-11-26T11:55:02.549110",
     "exception": false,
     "start_time": "2021-11-26T11:55:02.528066",
     "status": "completed"
    },
    "tags": []
   },
   "outputs": [],
   "source": [
    "DATA_ROOT = \"DATASET_AUG\""
   ]
  },
  {
   "cell_type": "code",
   "execution_count": 5,
   "id": "170ac1b0",
   "metadata": {
    "id": "ghMzks5Uv3O9",
    "outputId": "132acec2-9276-4a4b-8339-f943415298a3",
    "papermill": {
     "duration": 14.598559,
     "end_time": "2021-11-26T11:55:17.161275",
     "exception": false,
     "start_time": "2021-11-26T11:55:02.562716",
     "status": "completed"
    },
    "tags": []
   },
   "outputs": [
    {
     "name": "stdout",
     "output_type": "stream",
     "text": [
      "Found 18541 images belonging to 14 classes.\n",
      "Found 6187 images belonging to 14 classes.\n"
     ]
    }
   ],
   "source": [
    "COLOR_MODE = 'rgb'\n",
    "BATCH_SIZE = 128\n",
    "\n",
    "from tensorflow.keras.preprocessing.image import ImageDataGenerator\n",
    "\n",
    "split_dir = DATA_ROOT\n",
    "train_dir = os.path.join(split_dir,\"train\")\n",
    "valid_dir = os.path.join(split_dir,\"val\")\n",
    "\n",
    "# rescaling makes lookup fail?\n",
    "# no, casting issues.\n",
    "from tensorflow.keras.applications.xception import preprocess_input\n",
    "train_data_generator = ImageDataGenerator(\n",
    "                                            preprocessing_function=preprocess_input )\n",
    "\n",
    "# keras onine augmentation drammatically increases training time\n",
    "# dense training from < 1 min to > 5 min\n",
    "valid_data_generator = ImageDataGenerator(preprocessing_function=preprocess_input)\n",
    "\n",
    "train_gen = train_data_generator.flow_from_directory(\n",
    "    directory = train_dir,\n",
    "    # desired size for image, regardless of\n",
    "    # image data. Images will be resized to fit\n",
    "    # if necessary.\n",
    "    # We use original size ==> no transfrom\n",
    "    target_size = (256,256),\n",
    "    # 3 color channel.\n",
    "    # again, match data on disk.\n",
    "    color_mode = COLOR_MODE,\n",
    "    # default for classes is None.\n",
    "    # That infers from name of folder classes the integer associated\n",
    "    # with the class in lexicographical order.\n",
    "    # This matches the order we used before.\n",
    "    # We can change this by passing a list of strings to classes,\n",
    "    # which should contain all (?) folder names. For now, the default one\n",
    "    # will suffice.\n",
    "    classes = None,\n",
    "    # we need not specify this in model.fit, but we can do so here at data\n",
    "    # generation.\n",
    "    batch_size = BATCH_SIZE,\n",
    "    shuffle = True\n",
    ")\n",
    "\n",
    "valid_gen = valid_data_generator.flow_from_directory(\n",
    "    directory = valid_dir,\n",
    "    target_size = (256,256),\n",
    "    color_mode = COLOR_MODE,\n",
    "    classes = None,\n",
    "    batch_size = BATCH_SIZE,\n",
    "    shuffle = False\n",
    ")"
   ]
  },
  {
   "cell_type": "code",
   "execution_count": null,
   "id": "9d6f21bf",
   "metadata": {
    "execution": {
     "iopub.execute_input": "2021-11-26T11:55:17.198514Z",
     "iopub.status.busy": "2021-11-26T11:55:17.197936Z",
     "iopub.status.idle": "2021-11-26T11:55:18.324686Z",
     "shell.execute_reply": "2021-11-26T11:55:18.325108Z",
     "shell.execute_reply.started": "2021-11-26T11:18:45.501066Z"
    },
    "id": "A1OmcVGWy2mM",
    "outputId": "43d5adc3-a7c8-42e9-ead8-94b8cdebac1f",
    "papermill": {
     "duration": 1.14856,
     "end_time": "2021-11-26T11:55:18.325255",
     "exception": false,
     "start_time": "2021-11-26T11:55:17.176695",
     "status": "completed"
    },
    "tags": []
   },
   "outputs": [],
   "source": [
    "def get_next_batch(generator):\n",
    "  batch = next(generator)\n",
    "\n",
    "  image = batch[0]\n",
    "  target = batch[1]\n",
    "\n",
    "  print(\"(Input) image shape:\", image.shape)\n",
    "  print(\"Target shape:\",target.shape)\n",
    "\n",
    "  # Visualize only the first sample\n",
    "  image = image[0]\n",
    "  target = target[0]\n",
    "  target_idx = np.argmax(target)\n",
    "  print()\n",
    "  print(\"Categorical label:\", target)\n",
    "  print(\"Label:\", target_idx)\n",
    "  #print(\"Class name:\", labels[target_idx])\n",
    "  fig = plt.figure(figsize=(6, 4))\n",
    "  plt.imshow(np.uint8(image*255))\n",
    "\n",
    "  return batch\n",
    "\n",
    "_ = get_next_batch(valid_gen)"
   ]
  },
  {
   "cell_type": "code",
   "execution_count": 8,
   "id": "4415f592",
   "metadata": {
    "execution": {
     "iopub.execute_input": "2021-11-26T11:55:18.422812Z",
     "iopub.status.busy": "2021-11-26T11:55:18.421232Z",
     "iopub.status.idle": "2021-11-26T11:55:18.423390Z",
     "shell.execute_reply": "2021-11-26T11:55:18.423819Z",
     "shell.execute_reply.started": "2021-11-26T11:18:46.161370Z"
    },
    "id": "RgQ3ITeV1Jok",
    "papermill": {
     "duration": 0.030373,
     "end_time": "2021-11-26T11:55:18.423941",
     "exception": false,
     "start_time": "2021-11-26T11:55:18.393568",
     "status": "completed"
    },
    "tags": []
   },
   "outputs": [],
   "source": [
    "# Utility function to create folders and callbacks for training\n",
    "from datetime import datetime\n",
    "\n",
    "def create_folders_and_callbacks(model_name):\n",
    "\n",
    "  exps_dir = os.path.join('XCEPTION')\n",
    "  if not os.path.exists(exps_dir):\n",
    "      os.makedirs(exps_dir)\n",
    "\n",
    "  now = datetime.now().strftime('%b%d_h%H_m%M_s%S')\n",
    "\n",
    "  exp_dir = os.path.join(exps_dir, model_name + '_' + str(now))\n",
    "  if not os.path.exists(exp_dir):\n",
    "      os.makedirs(exp_dir)\n",
    "      \n",
    "  callbacks = []\n",
    "\n",
    "  # Model checkpoint\n",
    "  # ----------------\n",
    "  ckpt_dir = os.path.join(exp_dir, 'ckpts')\n",
    "  if not os.path.exists(ckpt_dir):\n",
    "      os.makedirs(ckpt_dir)\n",
    "\n",
    "  ckpt_callback = tfk.callbacks.ModelCheckpoint(\n",
    "      filepath=os.path.join(ckpt_dir, 'cp', \"ckpt.hdf5\"),\n",
    "      save_weights_only=False,\n",
    "      # if true, only save best epoch.\n",
    "      # otherwise, save last epoch.\n",
    "      # As we use early stopping, which already returns best model,\n",
    "      # by setting false here he get both.\n",
    "\n",
    "      save_best_only = True  \n",
    "  )\n",
    "  callbacks.append(ckpt_callback)\n",
    "\n",
    "  # Visualize Learning on Tensorboard\n",
    "  # ---------------------------------\n",
    "  tb_dir = os.path.join(exp_dir, 'tb_logs')\n",
    "  if not os.path.exists(tb_dir):\n",
    "      os.makedirs(tb_dir)\n",
    "      \n",
    "  tb_callback = tfk.callbacks.TensorBoard(\n",
    "      log_dir = tb_dir,\n",
    "      # avoid profiling to increase runtime performance\n",
    "      profile_batch = 0,\n",
    "      histogram_freq = 1\n",
    "  )\n",
    "  callbacks.append(tb_callback)\n",
    "\n",
    "  # Early Stopping\n",
    "  # --------------\n",
    "  es_callback = tf.keras.callbacks.EarlyStopping(monitor='val_loss', patience=20, restore_best_weights=True)\n",
    "  callbacks.append(es_callback)\n",
    "\n",
    "  return callbacks"
   ]
  },
  {
   "cell_type": "code",
   "execution_count": 15,
   "id": "5161697c",
   "metadata": {
    "execution": {
     "iopub.execute_input": "2021-11-26T11:55:18.464890Z",
     "iopub.status.busy": "2021-11-26T11:55:18.464281Z",
     "iopub.status.idle": "2021-11-26T11:55:18.467068Z",
     "shell.execute_reply": "2021-11-26T11:55:18.466591Z",
     "shell.execute_reply.started": "2021-11-26T11:18:46.181863Z"
    },
    "id": "wuxiqS3Q2VQV",
    "papermill": {
     "duration": 0.024625,
     "end_time": "2021-11-26T11:55:18.467173",
     "exception": false,
     "start_time": "2021-11-26T11:55:18.442548",
     "status": "completed"
    },
    "tags": []
   },
   "outputs": [],
   "source": [
    "input_shape = (256,256,3)\n",
    "epochs_dense = 10\n",
    "epochs_finetuning = 60"
   ]
  },
  {
   "cell_type": "code",
   "execution_count": 11,
   "id": "003e4a19",
   "metadata": {
    "execution": {
     "iopub.execute_input": "2021-11-26T11:55:18.527361Z",
     "iopub.status.busy": "2021-11-26T11:55:18.520856Z",
     "iopub.status.idle": "2021-11-26T11:55:23.022528Z",
     "shell.execute_reply": "2021-11-26T11:55:23.021489Z",
     "shell.execute_reply.started": "2021-11-26T11:18:46.198732Z"
    },
    "papermill": {
     "duration": 4.536712,
     "end_time": "2021-11-26T11:55:23.022726",
     "exception": false,
     "start_time": "2021-11-26T11:55:18.486014",
     "status": "completed"
    },
    "tags": []
   },
   "outputs": [
    {
     "name": "stderr",
     "output_type": "stream",
     "text": [
      "2021-11-28 15:18:19.019924: I tensorflow/stream_executor/cuda/cuda_gpu_executor.cc:1050] successful NUMA node read from SysFS had negative value (-1), but there must be at least one NUMA node, so returning NUMA node zero\n",
      "2021-11-28 15:18:19.029091: I tensorflow/stream_executor/cuda/cuda_gpu_executor.cc:1050] successful NUMA node read from SysFS had negative value (-1), but there must be at least one NUMA node, so returning NUMA node zero\n",
      "2021-11-28 15:18:19.029695: I tensorflow/stream_executor/cuda/cuda_gpu_executor.cc:1050] successful NUMA node read from SysFS had negative value (-1), but there must be at least one NUMA node, so returning NUMA node zero\n",
      "2021-11-28 15:18:19.031256: I tensorflow/stream_executor/cuda/cuda_gpu_executor.cc:1050] successful NUMA node read from SysFS had negative value (-1), but there must be at least one NUMA node, so returning NUMA node zero\n",
      "2021-11-28 15:18:19.031846: I tensorflow/stream_executor/cuda/cuda_gpu_executor.cc:1050] successful NUMA node read from SysFS had negative value (-1), but there must be at least one NUMA node, so returning NUMA node zero\n",
      "2021-11-28 15:18:19.032379: I tensorflow/stream_executor/cuda/cuda_gpu_executor.cc:1050] successful NUMA node read from SysFS had negative value (-1), but there must be at least one NUMA node, so returning NUMA node zero\n",
      "2021-11-28 15:18:19.510229: I tensorflow/stream_executor/cuda/cuda_gpu_executor.cc:1050] successful NUMA node read from SysFS had negative value (-1), but there must be at least one NUMA node, so returning NUMA node zero\n",
      "2021-11-28 15:18:19.510881: I tensorflow/stream_executor/cuda/cuda_gpu_executor.cc:1050] successful NUMA node read from SysFS had negative value (-1), but there must be at least one NUMA node, so returning NUMA node zero\n",
      "2021-11-28 15:18:19.511457: I tensorflow/stream_executor/cuda/cuda_gpu_executor.cc:1050] successful NUMA node read from SysFS had negative value (-1), but there must be at least one NUMA node, so returning NUMA node zero\n",
      "2021-11-28 15:18:19.512013: I tensorflow/core/common_runtime/gpu/gpu_device.cc:1510] Created device /job:localhost/replica:0/task:0/device:GPU:0 with 14029 MB memory:  -> device: 0, name: RTX A4000, pci bus id: 0000:00:05.0, compute capability: 8.6\n"
     ]
    },
    {
     "name": "stdout",
     "output_type": "stream",
     "text": [
      "Downloading data from https://storage.googleapis.com/tensorflow/keras-applications/xception/xception_weights_tf_dim_ordering_tf_kernels_notop.h5\n",
      "83689472/83683744 [==============================] - 4s 0us/step\n",
      "83697664/83683744 [==============================] - 4s 0us/step\n",
      "0 input_1 False\n",
      "1 block1_conv1 False\n",
      "2 block1_conv1_bn False\n",
      "3 block1_conv1_act False\n",
      "4 block1_conv2 False\n",
      "5 block1_conv2_bn False\n",
      "6 block1_conv2_act False\n",
      "7 block2_sepconv1 False\n",
      "8 block2_sepconv1_bn False\n",
      "9 block2_sepconv2_act False\n",
      "10 block2_sepconv2 False\n",
      "11 block2_sepconv2_bn False\n",
      "12 conv2d False\n",
      "13 block2_pool False\n",
      "14 batch_normalization False\n",
      "15 add False\n",
      "16 block3_sepconv1_act False\n",
      "17 block3_sepconv1 False\n",
      "18 block3_sepconv1_bn False\n",
      "19 block3_sepconv2_act False\n",
      "20 block3_sepconv2 False\n",
      "21 block3_sepconv2_bn False\n",
      "22 conv2d_1 False\n",
      "23 block3_pool False\n",
      "24 batch_normalization_1 False\n",
      "25 add_1 False\n",
      "26 block4_sepconv1_act False\n",
      "27 block4_sepconv1 False\n",
      "28 block4_sepconv1_bn False\n",
      "29 block4_sepconv2_act False\n",
      "30 block4_sepconv2 False\n",
      "31 block4_sepconv2_bn False\n",
      "32 conv2d_2 False\n",
      "33 block4_pool False\n",
      "34 batch_normalization_2 False\n",
      "35 add_2 False\n",
      "36 block5_sepconv1_act False\n",
      "37 block5_sepconv1 False\n",
      "38 block5_sepconv1_bn False\n",
      "39 block5_sepconv2_act False\n",
      "40 block5_sepconv2 False\n",
      "41 block5_sepconv2_bn False\n",
      "42 block5_sepconv3_act False\n",
      "43 block5_sepconv3 False\n",
      "44 block5_sepconv3_bn False\n",
      "45 add_3 False\n",
      "46 block6_sepconv1_act False\n",
      "47 block6_sepconv1 False\n",
      "48 block6_sepconv1_bn False\n",
      "49 block6_sepconv2_act False\n",
      "50 block6_sepconv2 False\n",
      "51 block6_sepconv2_bn False\n",
      "52 block6_sepconv3_act False\n",
      "53 block6_sepconv3 False\n",
      "54 block6_sepconv3_bn False\n",
      "55 add_4 False\n",
      "56 block7_sepconv1_act False\n",
      "57 block7_sepconv1 False\n",
      "58 block7_sepconv1_bn False\n",
      "59 block7_sepconv2_act False\n",
      "60 block7_sepconv2 False\n",
      "61 block7_sepconv2_bn False\n",
      "62 block7_sepconv3_act False\n",
      "63 block7_sepconv3 False\n",
      "64 block7_sepconv3_bn False\n",
      "65 add_5 False\n",
      "66 block8_sepconv1_act False\n",
      "67 block8_sepconv1 False\n",
      "68 block8_sepconv1_bn False\n",
      "69 block8_sepconv2_act False\n",
      "70 block8_sepconv2 False\n",
      "71 block8_sepconv2_bn False\n",
      "72 block8_sepconv3_act False\n",
      "73 block8_sepconv3 False\n",
      "74 block8_sepconv3_bn False\n",
      "75 add_6 False\n",
      "76 block9_sepconv1_act False\n",
      "77 block9_sepconv1 False\n",
      "78 block9_sepconv1_bn False\n",
      "79 block9_sepconv2_act False\n",
      "80 block9_sepconv2 False\n",
      "81 block9_sepconv2_bn False\n",
      "82 block9_sepconv3_act False\n",
      "83 block9_sepconv3 False\n",
      "84 block9_sepconv3_bn False\n",
      "85 add_7 False\n",
      "86 block10_sepconv1_act False\n",
      "87 block10_sepconv1 False\n",
      "88 block10_sepconv1_bn False\n",
      "89 block10_sepconv2_act False\n",
      "90 block10_sepconv2 False\n",
      "91 block10_sepconv2_bn False\n",
      "92 block10_sepconv3_act False\n",
      "93 block10_sepconv3 False\n",
      "94 block10_sepconv3_bn False\n",
      "95 add_8 False\n",
      "96 block11_sepconv1_act False\n",
      "97 block11_sepconv1 False\n",
      "98 block11_sepconv1_bn False\n",
      "99 block11_sepconv2_act False\n",
      "100 block11_sepconv2 False\n",
      "101 block11_sepconv2_bn False\n",
      "102 block11_sepconv3_act False\n",
      "103 block11_sepconv3 False\n",
      "104 block11_sepconv3_bn False\n",
      "105 add_9 False\n",
      "106 block12_sepconv1_act False\n",
      "107 block12_sepconv1 False\n",
      "108 block12_sepconv1_bn False\n",
      "109 block12_sepconv2_act False\n",
      "110 block12_sepconv2 False\n",
      "111 block12_sepconv2_bn False\n",
      "112 block12_sepconv3_act False\n",
      "113 block12_sepconv3 False\n",
      "114 block12_sepconv3_bn False\n",
      "115 add_10 False\n",
      "116 block13_sepconv1_act False\n",
      "117 block13_sepconv1 False\n",
      "118 block13_sepconv1_bn False\n",
      "119 block13_sepconv2_act False\n",
      "120 block13_sepconv2 False\n",
      "121 block13_sepconv2_bn False\n",
      "122 conv2d_3 False\n",
      "123 block13_pool False\n",
      "124 batch_normalization_3 False\n",
      "125 add_11 False\n",
      "126 block14_sepconv1 False\n",
      "127 block14_sepconv1_bn False\n",
      "128 block14_sepconv1_act False\n",
      "129 block14_sepconv2 False\n",
      "130 block14_sepconv2_bn False\n",
      "131 block14_sepconv2_act False\n",
      "Model: \"model_transfer_learning_GAP\"\n",
      "_________________________________________________________________\n",
      "Layer (type)                 Output Shape              Param #   \n",
      "=================================================================\n",
      "input_2 (InputLayer)         [(None, 256, 256, 3)]     0         \n",
      "_________________________________________________________________\n",
      "xception (Functional)        (None, 8, 8, 2048)        20861480  \n",
      "_________________________________________________________________\n",
      "gpooling (GlobalAveragePooli (None, 2048)              0         \n",
      "_________________________________________________________________\n",
      "dropout (Dropout)            (None, 2048)              0         \n",
      "_________________________________________________________________\n",
      "dense (Dense)                (None, 128)               262272    \n",
      "_________________________________________________________________\n",
      "dropout_1 (Dropout)          (None, 128)               0         \n",
      "_________________________________________________________________\n",
      "dense_1 (Dense)              (None, 14)                1806      \n",
      "=================================================================\n",
      "Total params: 21,125,558\n",
      "Trainable params: 264,078\n",
      "Non-trainable params: 20,861,480\n",
      "_________________________________________________________________\n"
     ]
    }
   ],
   "source": [
    "# transfer learning, import VGG and build model\n",
    "\n",
    "\n",
    "supernet = tfk.applications.Xception(\n",
    "    # remove classifier, only get fearure extractor\n",
    "    include_top=False,\n",
    "    weights=\"imagenet\",\n",
    "    input_shape=input_shape\n",
    ")\n",
    "\n",
    "supernet.trainable = False\n",
    "\n",
    "\n",
    "inputs = tfk.Input(shape=input_shape)\n",
    "x = supernet(inputs)\n",
    "x = tfkl.GlobalAveragePooling2D(name='gpooling')(x)\n",
    "#x = tfkl.Flatten(name='Flattening')(x)\n",
    "x = tfkl.Dropout(0.3, seed=seed)(x)\n",
    "x = tfkl.Dense(\n",
    "    128, \n",
    "    activation='relu',\n",
    "    kernel_initializer = tfk.initializers.GlorotUniform(seed))(x)\n",
    "x = tfkl.Dropout(0.3, seed=seed)(x)\n",
    "outputs = tfkl.Dense(\n",
    "    14, \n",
    "    activation='softmax',\n",
    "    kernel_initializer = tfk.initializers.GlorotUniform(seed))(x)\n",
    "\n",
    "model = tfk.Model(inputs=inputs, outputs=outputs, name='model_transfer_learning_GAP')\n",
    "model.compile(loss=tfk.losses.CategoricalCrossentropy(), optimizer=tfk.optimizers.Adam(1e-3), metrics='accuracy')\n",
    "\n",
    "\n",
    "\n",
    "for i, layer in enumerate(model.get_layer('xception').layers):\n",
    "   print(i, layer.name, layer.trainable)\n",
    "model.summary()"
   ]
  },
  {
   "cell_type": "code",
   "execution_count": 12,
   "id": "12bd5713",
   "metadata": {
    "execution": {
     "iopub.execute_input": "2021-11-26T11:55:23.906221Z",
     "iopub.status.busy": "2021-11-26T11:55:23.905464Z",
     "iopub.status.idle": "2021-11-26T12:16:03.799888Z",
     "shell.execute_reply": "2021-11-26T12:16:03.798948Z",
     "shell.execute_reply.started": "2021-11-26T11:18:50.565234Z"
    },
    "id": "iFe_ux1q2S6H",
    "outputId": "fd35686c-d8a2-4bc2-c3a9-ea89d39d4624",
    "papermill": {
     "duration": 1239.936564,
     "end_time": "2021-11-26T12:16:03.800042",
     "exception": false,
     "start_time": "2021-11-26T11:55:23.863478",
     "status": "completed"
    },
    "tags": []
   },
   "outputs": [
    {
     "name": "stdout",
     "output_type": "stream",
     "text": [
      "Model: \"model_transfer_learning_GAP\"\n",
      "_________________________________________________________________\n",
      "Layer (type)                 Output Shape              Param #   \n",
      "=================================================================\n",
      "input_2 (InputLayer)         [(None, 256, 256, 3)]     0         \n",
      "_________________________________________________________________\n",
      "xception (Functional)        (None, 8, 8, 2048)        20861480  \n",
      "_________________________________________________________________\n",
      "gpooling (GlobalAveragePooli (None, 2048)              0         \n",
      "_________________________________________________________________\n",
      "dropout (Dropout)            (None, 2048)              0         \n",
      "_________________________________________________________________\n",
      "dense (Dense)                (None, 128)               262272    \n",
      "_________________________________________________________________\n",
      "dropout_1 (Dropout)          (None, 128)               0         \n",
      "_________________________________________________________________\n",
      "dense_1 (Dense)              (None, 14)                1806      \n",
      "=================================================================\n",
      "Total params: 21,125,558\n",
      "Trainable params: 264,078\n",
      "Non-trainable params: 20,861,480\n",
      "_________________________________________________________________\n",
      "starting at  2021-11-28 15:18:49.418944\n"
     ]
    },
    {
     "name": "stderr",
     "output_type": "stream",
     "text": [
      "/usr/local/lib/python3.8/dist-packages/keras/utils/generic_utils.py:494: CustomMaskWarning: Custom mask layers require a config and must override get_config. When loading, the custom mask layer must be passed to the custom_objects argument.\n",
      "  warnings.warn('Custom mask layers require a config and must override '\n",
      "2021-11-28 15:18:50.205879: I tensorflow/compiler/mlir/mlir_graph_optimization_pass.cc:185] None of the MLIR Optimization Passes are enabled (registered 2)\n"
     ]
    },
    {
     "name": "stdout",
     "output_type": "stream",
     "text": [
      "Epoch 1/10\n"
     ]
    },
    {
     "name": "stderr",
     "output_type": "stream",
     "text": [
      "2021-11-28 15:18:53.307417: I tensorflow/stream_executor/cuda/cuda_dnn.cc:381] Loaded cuDNN version 8204\n"
     ]
    },
    {
     "name": "stdout",
     "output_type": "stream",
     "text": [
      "  1/145 [..............................] - ETA: 14:27 - loss: 2.6913 - accuracy: 0.1094"
     ]
    },
    {
     "name": "stderr",
     "output_type": "stream",
     "text": [
      "2021-11-28 15:18:56.247555: I tensorflow/stream_executor/cuda/cuda_blas.cc:1760] TensorFloat-32 will be used for the matrix multiplication. This will only be logged once.\n"
     ]
    },
    {
     "name": "stdout",
     "output_type": "stream",
     "text": [
      "145/145 [==============================] - 104s 682ms/step - loss: 0.8070 - accuracy: 0.7497 - val_loss: 0.3142 - val_accuracy: 0.9150\n",
      "Epoch 2/10\n",
      "145/145 [==============================] - 58s 397ms/step - loss: 0.3674 - accuracy: 0.8866 - val_loss: 0.2303 - val_accuracy: 0.9350\n",
      "Epoch 3/10\n",
      "145/145 [==============================] - 63s 436ms/step - loss: 0.2932 - accuracy: 0.9059 - val_loss: 0.1857 - val_accuracy: 0.9429\n",
      "Epoch 4/10\n",
      "145/145 [==============================] - 57s 395ms/step - loss: 0.2508 - accuracy: 0.9192 - val_loss: 0.1677 - val_accuracy: 0.9501\n",
      "Epoch 5/10\n",
      "145/145 [==============================] - 58s 398ms/step - loss: 0.2200 - accuracy: 0.9298 - val_loss: 0.1596 - val_accuracy: 0.9517\n",
      "Epoch 6/10\n",
      "145/145 [==============================] - 57s 394ms/step - loss: 0.1998 - accuracy: 0.9337 - val_loss: 0.1389 - val_accuracy: 0.9557\n",
      "Epoch 7/10\n",
      "145/145 [==============================] - 64s 439ms/step - loss: 0.1825 - accuracy: 0.9404 - val_loss: 0.1326 - val_accuracy: 0.9594\n",
      "Epoch 8/10\n",
      "145/145 [==============================] - 57s 393ms/step - loss: 0.1699 - accuracy: 0.9432 - val_loss: 0.1276 - val_accuracy: 0.9598\n",
      "Epoch 9/10\n",
      "145/145 [==============================] - 57s 392ms/step - loss: 0.1617 - accuracy: 0.9470 - val_loss: 0.1242 - val_accuracy: 0.9625\n",
      "Epoch 10/10\n",
      "145/145 [==============================] - 63s 434ms/step - loss: 0.1531 - accuracy: 0.9500 - val_loss: 0.1153 - val_accuracy: 0.9644\n"
     ]
    }
   ],
   "source": [
    "# Create folders and callbacks and fit\n",
    "#model = tfk.models.load_model(\"C:/Users/Riccardo/Downloads/10526141_10534455_2R/SubmissionModel\")\n",
    "model.summary()\n",
    "noaug_callbacks = create_folders_and_callbacks(model_name='transfer_gap')\n",
    "print(\"starting at \", datetime.now())\n",
    "# Train the model\n",
    "history = model.fit(\n",
    "    x = train_gen,\n",
    "    epochs = epochs_dense,\n",
    "    validation_data = valid_gen,\n",
    "    callbacks = noaug_callbacks\n",
    ").history"
   ]
  },
  {
   "cell_type": "code",
   "execution_count": 13,
   "id": "a39ca4ca",
   "metadata": {
    "execution": {
     "iopub.execute_input": "2021-11-26T12:16:04.602299Z",
     "iopub.status.busy": "2021-11-26T12:16:04.601500Z",
     "iopub.status.idle": "2021-11-26T12:16:26.681252Z",
     "shell.execute_reply": "2021-11-26T12:16:26.681893Z",
     "shell.execute_reply.started": "2021-11-26T11:41:12.393243Z"
    },
    "papermill": {
     "duration": 22.486431,
     "end_time": "2021-11-26T12:16:26.682116",
     "exception": false,
     "start_time": "2021-11-26T12:16:04.195685",
     "status": "completed"
    },
    "tags": []
   },
   "outputs": [
    {
     "name": "stderr",
     "output_type": "stream",
     "text": [
      "2021-11-28 15:30:56.882185: W tensorflow/python/util/util.cc:348] Sets are not currently considered sequences, but this may change in the future, so consider avoiding using them.\n"
     ]
    },
    {
     "name": "stdout",
     "output_type": "stream",
     "text": [
      "INFO:tensorflow:Assets written to: xceptionNov28_h15_m30_s51/assets\n"
     ]
    },
    {
     "name": "stderr",
     "output_type": "stream",
     "text": [
      "/usr/local/lib/python3.8/dist-packages/keras/utils/generic_utils.py:494: CustomMaskWarning: Custom mask layers require a config and must override get_config. When loading, the custom mask layer must be passed to the custom_objects argument.\n",
      "  warnings.warn('Custom mask layers require a config and must override '\n"
     ]
    },
    {
     "name": "stdout",
     "output_type": "stream",
     "text": [
      "model saved\n"
     ]
    }
   ],
   "source": [
    "model_file_name = \"xception\" + datetime.now().strftime('%b%d_h%H_m%M_s%S')\n",
    "model.save(model_file_name)\n",
    "print(\"model saved\")"
   ]
  },
  {
   "cell_type": "code",
   "execution_count": 14,
   "id": "672e1528",
   "metadata": {
    "execution": {
     "iopub.execute_input": "2021-11-26T12:16:27.498531Z",
     "iopub.status.busy": "2021-11-26T12:16:27.497580Z",
     "iopub.status.idle": "2021-11-26T12:16:27.583713Z",
     "shell.execute_reply": "2021-11-26T12:16:27.582842Z",
     "shell.execute_reply.started": "2021-11-26T11:53:53.907359Z"
    },
    "papermill": {
     "duration": 0.506251,
     "end_time": "2021-11-26T12:16:27.583921",
     "exception": false,
     "start_time": "2021-11-26T12:16:27.077670",
     "status": "completed"
    },
    "tags": []
   },
   "outputs": [
    {
     "name": "stdout",
     "output_type": "stream",
     "text": [
      "0 input_1 False\n",
      "1 block1_conv1 False\n",
      "2 block1_conv1_bn False\n",
      "3 block1_conv1_act False\n",
      "4 block1_conv2 False\n",
      "5 block1_conv2_bn False\n",
      "6 block1_conv2_act False\n",
      "7 block2_sepconv1 False\n",
      "8 block2_sepconv1_bn False\n",
      "9 block2_sepconv2_act False\n",
      "10 block2_sepconv2 False\n",
      "11 block2_sepconv2_bn False\n",
      "12 conv2d False\n",
      "13 block2_pool False\n",
      "14 batch_normalization False\n",
      "15 add False\n",
      "16 block3_sepconv1_act False\n",
      "17 block3_sepconv1 False\n",
      "18 block3_sepconv1_bn False\n",
      "19 block3_sepconv2_act False\n",
      "20 block3_sepconv2 False\n",
      "21 block3_sepconv2_bn False\n",
      "22 conv2d_1 False\n",
      "23 block3_pool False\n",
      "24 batch_normalization_1 False\n",
      "25 add_1 False\n",
      "26 block4_sepconv1_act False\n",
      "27 block4_sepconv1 False\n",
      "28 block4_sepconv1_bn False\n",
      "29 block4_sepconv2_act False\n",
      "30 block4_sepconv2 False\n",
      "31 block4_sepconv2_bn False\n",
      "32 conv2d_2 False\n",
      "33 block4_pool False\n",
      "34 batch_normalization_2 False\n",
      "35 add_2 False\n",
      "36 block5_sepconv1_act False\n",
      "37 block5_sepconv1 False\n",
      "38 block5_sepconv1_bn False\n",
      "39 block5_sepconv2_act False\n",
      "40 block5_sepconv2 False\n",
      "41 block5_sepconv2_bn False\n",
      "42 block5_sepconv3_act False\n",
      "43 block5_sepconv3 False\n",
      "44 block5_sepconv3_bn False\n",
      "45 add_3 False\n",
      "46 block6_sepconv1_act False\n",
      "47 block6_sepconv1 False\n",
      "48 block6_sepconv1_bn False\n",
      "49 block6_sepconv2_act False\n",
      "50 block6_sepconv2 False\n",
      "51 block6_sepconv2_bn False\n",
      "52 block6_sepconv3_act False\n",
      "53 block6_sepconv3 False\n",
      "54 block6_sepconv3_bn False\n",
      "55 add_4 False\n",
      "56 block7_sepconv1_act False\n",
      "57 block7_sepconv1 False\n",
      "58 block7_sepconv1_bn False\n",
      "59 block7_sepconv2_act False\n",
      "60 block7_sepconv2 False\n",
      "61 block7_sepconv2_bn False\n",
      "62 block7_sepconv3_act False\n",
      "63 block7_sepconv3 False\n",
      "64 block7_sepconv3_bn False\n",
      "65 add_5 False\n",
      "66 block8_sepconv1_act False\n",
      "67 block8_sepconv1 False\n",
      "68 block8_sepconv1_bn False\n",
      "69 block8_sepconv2_act False\n",
      "70 block8_sepconv2 False\n",
      "71 block8_sepconv2_bn False\n",
      "72 block8_sepconv3_act False\n",
      "73 block8_sepconv3 False\n",
      "74 block8_sepconv3_bn False\n",
      "75 add_6 False\n",
      "76 block9_sepconv1_act False\n",
      "77 block9_sepconv1 False\n",
      "78 block9_sepconv1_bn False\n",
      "79 block9_sepconv2_act False\n",
      "80 block9_sepconv2 False\n",
      "81 block9_sepconv2_bn False\n",
      "82 block9_sepconv3_act False\n",
      "83 block9_sepconv3 False\n",
      "84 block9_sepconv3_bn False\n",
      "85 add_7 False\n",
      "86 block10_sepconv1_act False\n",
      "87 block10_sepconv1 False\n",
      "88 block10_sepconv1_bn False\n",
      "89 block10_sepconv2_act False\n",
      "90 block10_sepconv2 False\n",
      "91 block10_sepconv2_bn False\n",
      "92 block10_sepconv3_act False\n",
      "93 block10_sepconv3 False\n",
      "94 block10_sepconv3_bn False\n",
      "95 add_8 False\n",
      "96 block11_sepconv1_act False\n",
      "97 block11_sepconv1 False\n",
      "98 block11_sepconv1_bn False\n",
      "99 block11_sepconv2_act False\n",
      "100 block11_sepconv2 False\n",
      "101 block11_sepconv2_bn False\n",
      "102 block11_sepconv3_act False\n",
      "103 block11_sepconv3 False\n",
      "104 block11_sepconv3_bn False\n",
      "105 add_9 True\n",
      "106 block12_sepconv1_act True\n",
      "107 block12_sepconv1 True\n",
      "108 block12_sepconv1_bn True\n",
      "109 block12_sepconv2_act True\n",
      "110 block12_sepconv2 True\n",
      "111 block12_sepconv2_bn True\n",
      "112 block12_sepconv3_act True\n",
      "113 block12_sepconv3 True\n",
      "114 block12_sepconv3_bn True\n",
      "115 add_10 True\n",
      "116 block13_sepconv1_act True\n",
      "117 block13_sepconv1 True\n",
      "118 block13_sepconv1_bn True\n",
      "119 block13_sepconv2_act True\n",
      "120 block13_sepconv2 True\n",
      "121 block13_sepconv2_bn True\n",
      "122 conv2d_3 True\n",
      "123 block13_pool True\n",
      "124 batch_normalization_3 True\n",
      "125 add_11 True\n",
      "126 block14_sepconv1 True\n",
      "127 block14_sepconv1_bn True\n",
      "128 block14_sepconv1_act True\n",
      "129 block14_sepconv2 True\n",
      "130 block14_sepconv2_bn True\n",
      "131 block14_sepconv2_act True\n",
      "Model: \"model_transfer_learning_GAP\"\n",
      "_________________________________________________________________\n",
      "Layer (type)                 Output Shape              Param #   \n",
      "=================================================================\n",
      "input_2 (InputLayer)         [(None, 256, 256, 3)]     0         \n",
      "_________________________________________________________________\n",
      "xception (Functional)        (None, 8, 8, 2048)        20861480  \n",
      "_________________________________________________________________\n",
      "gpooling (GlobalAveragePooli (None, 2048)              0         \n",
      "_________________________________________________________________\n",
      "dropout (Dropout)            (None, 2048)              0         \n",
      "_________________________________________________________________\n",
      "dense (Dense)                (None, 128)               262272    \n",
      "_________________________________________________________________\n",
      "dropout_1 (Dropout)          (None, 128)               0         \n",
      "_________________________________________________________________\n",
      "dense_1 (Dense)              (None, 14)                1806      \n",
      "=================================================================\n",
      "Total params: 21,125,558\n",
      "Trainable params: 8,666,438\n",
      "Non-trainable params: 12,459,120\n",
      "_________________________________________________________________\n",
      "Learning rate before update: 0.001\n",
      "Learning rate after update: 1e-04\n"
     ]
    }
   ],
   "source": [
    "# make last classifier layer trainable for fine tuning\n",
    "model.get_layer('xception').trainable = True\n",
    "\n",
    "for i, layer in enumerate(model.get_layer('xception').layers[:105]):\n",
    "   layer.trainable = False\n",
    "\n",
    "for i, layer in enumerate(model.get_layer('xception').layers):\n",
    "   print(i, layer.name, layer.trainable)\n",
    "model.summary()\n",
    "\n",
    "# lower learning rate\n",
    "from keras import backend as K\n",
    "\n",
    "print(\"Learning rate before update:\", model.optimizer.learning_rate.numpy())\n",
    "\n",
    "K.set_value(model.optimizer.learning_rate, 1e-4)\n",
    "\n",
    "print(\"Learning rate after update:\", model.optimizer.learning_rate.numpy())"
   ]
  },
  {
   "cell_type": "code",
   "execution_count": 16,
   "id": "740e018c",
   "metadata": {
    "execution": {
     "iopub.execute_input": "2021-11-26T12:16:28.630820Z",
     "iopub.status.busy": "2021-11-26T12:16:28.620875Z",
     "iopub.status.idle": "2021-11-26T16:56:28.142183Z",
     "shell.execute_reply": "2021-11-26T16:56:28.141677Z",
     "shell.execute_reply.started": "2021-11-26T11:54:06.395195Z"
    },
    "papermill": {
     "duration": 16799.934158,
     "end_time": "2021-11-26T16:56:28.142329",
     "exception": false,
     "start_time": "2021-11-26T12:16:28.208171",
     "status": "completed"
    },
    "tags": []
   },
   "outputs": [
    {
     "name": "stdout",
     "output_type": "stream",
     "text": [
      "Epoch 11/60\n",
      "145/145 [==============================] - 58s 399ms/step - loss: 0.1312 - accuracy: 0.9564 - val_loss: 0.1078 - val_accuracy: 0.9686\n",
      "Epoch 12/60\n",
      "145/145 [==============================] - 57s 392ms/step - loss: 0.1293 - accuracy: 0.9570 - val_loss: 0.1058 - val_accuracy: 0.9678\n",
      "Epoch 13/60\n",
      "145/145 [==============================] - 57s 394ms/step - loss: 0.1230 - accuracy: 0.9591 - val_loss: 0.1060 - val_accuracy: 0.9683\n",
      "Epoch 14/60\n",
      "145/145 [==============================] - 57s 393ms/step - loss: 0.1234 - accuracy: 0.9601 - val_loss: 0.1057 - val_accuracy: 0.9685\n",
      "Epoch 15/60\n",
      "145/145 [==============================] - 58s 399ms/step - loss: 0.1209 - accuracy: 0.9593 - val_loss: 0.1049 - val_accuracy: 0.9695\n",
      "Epoch 16/60\n",
      "145/145 [==============================] - 58s 400ms/step - loss: 0.1205 - accuracy: 0.9605 - val_loss: 0.1038 - val_accuracy: 0.9693\n",
      "Epoch 17/60\n",
      "145/145 [==============================] - 58s 398ms/step - loss: 0.1208 - accuracy: 0.9606 - val_loss: 0.1037 - val_accuracy: 0.9677\n",
      "Epoch 18/60\n",
      "145/145 [==============================] - 64s 439ms/step - loss: 0.1147 - accuracy: 0.9620 - val_loss: 0.1033 - val_accuracy: 0.9693\n",
      "Epoch 19/60\n",
      "145/145 [==============================] - 58s 398ms/step - loss: 0.1152 - accuracy: 0.9629 - val_loss: 0.1021 - val_accuracy: 0.9678\n",
      "Epoch 20/60\n",
      "145/145 [==============================] - 58s 398ms/step - loss: 0.1155 - accuracy: 0.9636 - val_loss: 0.1023 - val_accuracy: 0.9686\n",
      "Epoch 21/60\n",
      "145/145 [==============================] - 59s 409ms/step - loss: 0.1117 - accuracy: 0.9642 - val_loss: 0.1015 - val_accuracy: 0.9698\n",
      "Epoch 22/60\n",
      "145/145 [==============================] - 58s 398ms/step - loss: 0.1134 - accuracy: 0.9630 - val_loss: 0.1017 - val_accuracy: 0.9706\n",
      "Epoch 23/60\n",
      "145/145 [==============================] - 59s 406ms/step - loss: 0.1144 - accuracy: 0.9619 - val_loss: 0.1002 - val_accuracy: 0.9690\n",
      "Epoch 24/60\n",
      "145/145 [==============================] - 58s 398ms/step - loss: 0.1139 - accuracy: 0.9619 - val_loss: 0.1009 - val_accuracy: 0.9693\n",
      "Epoch 25/60\n",
      "145/145 [==============================] - 58s 399ms/step - loss: 0.1069 - accuracy: 0.9646 - val_loss: 0.1004 - val_accuracy: 0.9696\n",
      "Epoch 26/60\n",
      "145/145 [==============================] - 58s 395ms/step - loss: 0.1096 - accuracy: 0.9648 - val_loss: 0.1001 - val_accuracy: 0.9696\n",
      "Epoch 27/60\n",
      "145/145 [==============================] - 58s 396ms/step - loss: 0.1139 - accuracy: 0.9631 - val_loss: 0.1004 - val_accuracy: 0.9691\n",
      "Epoch 28/60\n",
      "145/145 [==============================] - 57s 393ms/step - loss: 0.1075 - accuracy: 0.9648 - val_loss: 0.0990 - val_accuracy: 0.9695\n",
      "Epoch 29/60\n",
      "145/145 [==============================] - 57s 393ms/step - loss: 0.1089 - accuracy: 0.9657 - val_loss: 0.0988 - val_accuracy: 0.9698\n",
      "Epoch 30/60\n",
      "145/145 [==============================] - 57s 392ms/step - loss: 0.1057 - accuracy: 0.9671 - val_loss: 0.0984 - val_accuracy: 0.9695\n",
      "Epoch 31/60\n",
      "145/145 [==============================] - 58s 398ms/step - loss: 0.1046 - accuracy: 0.9680 - val_loss: 0.0984 - val_accuracy: 0.9701\n",
      "Epoch 32/60\n",
      "145/145 [==============================] - 57s 393ms/step - loss: 0.1058 - accuracy: 0.9659 - val_loss: 0.0994 - val_accuracy: 0.9693\n",
      "Epoch 33/60\n",
      "145/145 [==============================] - 58s 398ms/step - loss: 0.1069 - accuracy: 0.9653 - val_loss: 0.0981 - val_accuracy: 0.9707\n",
      "Epoch 34/60\n",
      "145/145 [==============================] - 57s 393ms/step - loss: 0.1034 - accuracy: 0.9665 - val_loss: 0.0962 - val_accuracy: 0.9714\n",
      "Epoch 35/60\n",
      "145/145 [==============================] - 57s 393ms/step - loss: 0.1051 - accuracy: 0.9658 - val_loss: 0.0967 - val_accuracy: 0.9701\n",
      "Epoch 36/60\n",
      "145/145 [==============================] - 58s 397ms/step - loss: 0.1040 - accuracy: 0.9661 - val_loss: 0.0964 - val_accuracy: 0.9709\n",
      "Epoch 37/60\n",
      "145/145 [==============================] - 57s 394ms/step - loss: 0.1041 - accuracy: 0.9666 - val_loss: 0.0953 - val_accuracy: 0.9703\n",
      "Epoch 38/60\n",
      "145/145 [==============================] - 58s 396ms/step - loss: 0.1007 - accuracy: 0.9679 - val_loss: 0.0959 - val_accuracy: 0.9704\n",
      "Epoch 39/60\n",
      "145/145 [==============================] - 58s 397ms/step - loss: 0.0993 - accuracy: 0.9682 - val_loss: 0.0968 - val_accuracy: 0.9690\n",
      "Epoch 40/60\n",
      "145/145 [==============================] - 57s 392ms/step - loss: 0.1011 - accuracy: 0.9676 - val_loss: 0.0957 - val_accuracy: 0.9704\n",
      "Epoch 41/60\n",
      "145/145 [==============================] - 59s 405ms/step - loss: 0.0971 - accuracy: 0.9703 - val_loss: 0.0955 - val_accuracy: 0.9693\n",
      "Epoch 42/60\n",
      "145/145 [==============================] - 57s 393ms/step - loss: 0.0974 - accuracy: 0.9683 - val_loss: 0.0959 - val_accuracy: 0.9696\n",
      "Epoch 43/60\n",
      "145/145 [==============================] - 63s 436ms/step - loss: 0.0985 - accuracy: 0.9684 - val_loss: 0.0947 - val_accuracy: 0.9696\n",
      "Epoch 44/60\n",
      "145/145 [==============================] - 57s 393ms/step - loss: 0.0971 - accuracy: 0.9688 - val_loss: 0.0943 - val_accuracy: 0.9701\n",
      "Epoch 45/60\n",
      "145/145 [==============================] - 58s 400ms/step - loss: 0.0973 - accuracy: 0.9689 - val_loss: 0.0942 - val_accuracy: 0.9707\n",
      "Epoch 46/60\n",
      "145/145 [==============================] - 58s 401ms/step - loss: 0.0932 - accuracy: 0.9703 - val_loss: 0.0934 - val_accuracy: 0.9706\n",
      "Epoch 47/60\n",
      "145/145 [==============================] - 58s 398ms/step - loss: 0.0986 - accuracy: 0.9683 - val_loss: 0.0939 - val_accuracy: 0.9707\n",
      "Epoch 48/60\n",
      "145/145 [==============================] - 58s 399ms/step - loss: 0.0914 - accuracy: 0.9718 - val_loss: 0.0939 - val_accuracy: 0.9698\n",
      "Epoch 49/60\n",
      "145/145 [==============================] - 57s 394ms/step - loss: 0.0916 - accuracy: 0.9713 - val_loss: 0.0933 - val_accuracy: 0.9712\n",
      "Epoch 50/60\n",
      "145/145 [==============================] - 58s 396ms/step - loss: 0.0982 - accuracy: 0.9702 - val_loss: 0.0927 - val_accuracy: 0.9709\n",
      "Epoch 51/60\n",
      "145/145 [==============================] - 58s 396ms/step - loss: 0.0935 - accuracy: 0.9688 - val_loss: 0.0932 - val_accuracy: 0.9699\n",
      "Epoch 52/60\n",
      "145/145 [==============================] - 58s 396ms/step - loss: 0.0906 - accuracy: 0.9707 - val_loss: 0.0921 - val_accuracy: 0.9728\n",
      "Epoch 53/60\n",
      "145/145 [==============================] - 58s 397ms/step - loss: 0.0889 - accuracy: 0.9711 - val_loss: 0.0925 - val_accuracy: 0.9711\n",
      "Epoch 54/60\n",
      "145/145 [==============================] - 58s 397ms/step - loss: 0.0920 - accuracy: 0.9695 - val_loss: 0.0919 - val_accuracy: 0.9711\n",
      "Epoch 55/60\n",
      "145/145 [==============================] - 63s 436ms/step - loss: 0.0887 - accuracy: 0.9727 - val_loss: 0.0912 - val_accuracy: 0.9709\n",
      "Epoch 56/60\n",
      "145/145 [==============================] - 59s 403ms/step - loss: 0.0871 - accuracy: 0.9728 - val_loss: 0.0920 - val_accuracy: 0.9706\n",
      "Epoch 57/60\n",
      "145/145 [==============================] - 58s 401ms/step - loss: 0.0885 - accuracy: 0.9716 - val_loss: 0.0915 - val_accuracy: 0.9716\n",
      "Epoch 58/60\n",
      "145/145 [==============================] - 58s 396ms/step - loss: 0.0865 - accuracy: 0.9723 - val_loss: 0.0905 - val_accuracy: 0.9712\n",
      "Epoch 59/60\n",
      "145/145 [==============================] - 58s 401ms/step - loss: 0.0873 - accuracy: 0.9718 - val_loss: 0.0922 - val_accuracy: 0.9720\n",
      "Epoch 60/60\n",
      "145/145 [==============================] - 58s 398ms/step - loss: 0.0896 - accuracy: 0.9711 - val_loss: 0.0911 - val_accuracy: 0.9712\n"
     ]
    }
   ],
   "source": [
    "history = model.fit(\n",
    "    x = train_gen,\n",
    "    initial_epoch = 10,\n",
    "    epochs = epochs_finetuning,\n",
    "    validation_data = valid_gen,\n",
    "    callbacks = noaug_callbacks\n",
    ").history"
   ]
  },
  {
   "cell_type": "code",
   "execution_count": 17,
   "id": "9ad0810b",
   "metadata": {
    "execution": {
     "iopub.execute_input": "2021-11-26T16:56:39.093248Z",
     "iopub.status.busy": "2021-11-26T16:56:39.092629Z",
     "iopub.status.idle": "2021-11-26T16:57:05.298788Z",
     "shell.execute_reply": "2021-11-26T16:57:05.299250Z",
     "shell.execute_reply.started": "2021-11-26T11:53:51.423738Z"
    },
    "id": "ANI8F1pPwHIm",
    "papermill": {
     "duration": 31.784437,
     "end_time": "2021-11-26T16:57:05.299406",
     "exception": false,
     "start_time": "2021-11-26T16:56:33.514969",
     "status": "completed"
    },
    "tags": []
   },
   "outputs": [
    {
     "name": "stdout",
     "output_type": "stream",
     "text": [
      "INFO:tensorflow:Assets written to: xception_final_downloadNov28_h16_m23_s32/assets\n"
     ]
    },
    {
     "name": "stderr",
     "output_type": "stream",
     "text": [
      "/usr/local/lib/python3.8/dist-packages/keras/utils/generic_utils.py:494: CustomMaskWarning: Custom mask layers require a config and must override get_config. When loading, the custom mask layer must be passed to the custom_objects argument.\n",
      "  warnings.warn('Custom mask layers require a config and must override '\n"
     ]
    },
    {
     "name": "stdout",
     "output_type": "stream",
     "text": [
      "model saved\n",
      "  adding: xception_final_downloadNov28_h16_m23_s32/ (stored 0%)\n",
      "  adding: xception_final_downloadNov28_h16_m23_s32/assets/ (stored 0%)\n",
      "  adding: xception_final_downloadNov28_h16_m23_s32/variables/ (stored 0%)\n",
      "  adding: xception_final_downloadNov28_h16_m23_s32/variables/variables.data-00000-of-00001 (deflated 7%)\n",
      "  adding: xception_final_downloadNov28_h16_m23_s32/variables/variables.index (deflated 76%)\n",
      "  adding: xception_final_downloadNov28_h16_m23_s32/saved_model.pb (deflated 93%)\n",
      "  adding: xception_final_downloadNov28_h16_m23_s32/keras_metadata.pb (deflated 96%)\n"
     ]
    },
    {
     "data": {
      "text/plain": [
       "0"
      ]
     },
     "execution_count": 17,
     "metadata": {},
     "output_type": "execute_result"
    }
   ],
   "source": [
    "model_file_name = \"xception_final_download\" + datetime.now().strftime('%b%d_h%H_m%M_s%S')\n",
    "model.save(model_file_name)\n",
    "print(\"model saved\")\n",
    "os.system(f\"zip -r best_model_final_exception.zip ./{model_file_name}\")"
   ]
  },
  {
   "cell_type": "code",
   "execution_count": 7,
   "id": "126df4bc",
   "metadata": {},
   "outputs": [
    {
     "name": "stderr",
     "output_type": "stream",
     "text": [
      "/usr/local/lib/python3.8/dist-packages/keras/engine/training.py:2035: UserWarning: `Model.predict_generator` is deprecated and will be removed in a future version. Please use `Model.predict`, which supports generators.\n",
      "  warnings.warn('`Model.predict_generator` is deprecated and '\n",
      "2021-11-28 16:58:47.327898: I tensorflow/compiler/mlir/mlir_graph_optimization_pass.cc:185] None of the MLIR Optimization Passes are enabled (registered 2)\n",
      "2021-11-28 16:58:50.284425: I tensorflow/stream_executor/cuda/cuda_dnn.cc:381] Loaded cuDNN version 8204\n"
     ]
    },
    {
     "name": "stdout",
     "output_type": "stream",
     "text": [
      "Confusion Matrix:\n",
      "[[ 344    5    2    0    0    3    2    2    1    0    3    3    0    7]\n",
      " [   1  232    0    0    0    1    0    1    1    2    2    0    1    1]\n",
      " [   5    0  253    0    0    2    0    2    0    0    5    0    0    4]\n",
      " [   0    0    0  427    0    0    0    0    0    0    0    0    0    0]\n",
      " [   2    0    0    0  475    0    0    0    1    0    0    0    5    7]\n",
      " [   0    0    0    0    0  559    1    1    0    0    0    0    0    1]\n",
      " [   3    0    0    0    0    0  363    1    0    0    0    1    0    2]\n",
      " [   3    2    1    0    0    1    1  301    1    0    2    0    0    5]\n",
      " [   2    1    0    0    1    0    1    1  289    0    4    0    0    5]\n",
      " [   0    0    0    0    1    0    0    0    0  189    0    0    0    1]\n",
      " [   3    0    4    0    0    0    0    2    0    0  518    0    0    2]\n",
      " [   0    0    0    0    0    0    0    0    0    0    0  265    1    3]\n",
      " [   2    1    0    0    2    0    0    0    3    2    0    0  278    6]\n",
      " [   7    2    4    0    5    0    2    2    5    1    1    2    2 1516]]\n",
      "\n",
      "Classification Report:\n",
      "              precision    recall  f1-score   support\n",
      "\n",
      "       Apple       0.92      0.92      0.92       372\n",
      "   Blueberry       0.95      0.96      0.96       242\n",
      "      Cherry       0.96      0.93      0.95       271\n",
      "        Corn       1.00      1.00      1.00       427\n",
      "       Grape       0.98      0.97      0.98       490\n",
      "      Orange       0.99      0.99      0.99       562\n",
      "       Peach       0.98      0.98      0.98       370\n",
      "      Pepper       0.96      0.95      0.96       317\n",
      "      Potato       0.96      0.95      0.96       304\n",
      "   Raspberry       0.97      0.99      0.98       191\n",
      "     Soybean       0.97      0.98      0.97       529\n",
      "      Squash       0.98      0.99      0.98       269\n",
      "  Strawberry       0.97      0.95      0.96       294\n",
      "      Tomato       0.97      0.98      0.98      1549\n",
      "\n",
      "    accuracy                           0.97      6187\n",
      "   macro avg       0.97      0.97      0.97      6187\n",
      "weighted avg       0.97      0.97      0.97      6187\n",
      "\n",
      "49/49 [==============================] - 22s 425ms/step - loss: 0.0911 - accuracy: 0.9712\n"
     ]
    },
    {
     "data": {
      "text/plain": [
       "{'loss': 0.09110496938228607, 'accuracy': 0.9712299704551697}"
      ]
     },
     "execution_count": 7,
     "metadata": {},
     "output_type": "execute_result"
    }
   ],
   "source": [
    "from sklearn.metrics import confusion_matrix, classification_report\n",
    "import seaborn as sns\n",
    "\n",
    "valid_gen.shuffle = False\n",
    "\n",
    "Y_prediction = model.predict_generator(valid_gen, len(valid_gen))\n",
    "# Convert predictions classes to one hot vectors \n",
    "Y_pred_classes = np.argmax(Y_prediction,axis = 1) \n",
    "# Convert validation observations to one hot vectors\n",
    "Y_true = valid_gen.classes\n",
    "# compute the confusion matrix\n",
    "confusion_mtx = confusion_matrix(Y_true, Y_pred_classes)\n",
    "class_report = classification_report(Y_true, Y_pred_classes, \n",
    "                                     target_names=valid_gen.class_indices.keys())  # target_names must be ordered depending on the class labels\n",
    "print('Confusion Matrix:')\n",
    "print(confusion_mtx)\n",
    "print()\n",
    "print('Classification Report:')\n",
    "print(class_report)\n",
    "\n",
    "model.evaluate(valid_gen, return_dict=True)"
   ]
  }
 ],
 "metadata": {
  "kernelspec": {
   "display_name": "Python 3 (ipykernel)",
   "language": "python",
   "name": "python3"
  },
  "language_info": {
   "codemirror_mode": {
    "name": "ipython",
    "version": 3
   },
   "file_extension": ".py",
   "mimetype": "text/x-python",
   "name": "python",
   "nbconvert_exporter": "python",
   "pygments_lexer": "ipython3",
   "version": "3.8.10"
  },
  "papermill": {
   "default_parameters": {},
   "duration": 18211.034761,
   "end_time": "2021-11-26T16:58:20.286629",
   "environment_variables": {},
   "exception": null,
   "input_path": "__notebook__.ipynb",
   "output_path": "__notebook__.ipynb",
   "parameters": {},
   "start_time": "2021-11-26T11:54:49.251868",
   "version": "2.3.3"
  }
 },
 "nbformat": 4,
 "nbformat_minor": 5
}
